{
 "cells": [
  {
   "cell_type": "code",
   "execution_count": 13,
   "metadata": {},
   "outputs": [],
   "source": [
    "from utils import *\n",
    "from sklearn.linear_model import LinearRegression\n",
    "%matplotlib inline"
   ]
  },
  {
   "cell_type": "code",
   "execution_count": 2,
   "metadata": {},
   "outputs": [],
   "source": [
    "st = \"2020-07-19 00:00:00\"\n",
    "et = \"2020-08-02 23:59:59\""
   ]
  },
  {
   "cell_type": "code",
   "execution_count": 6,
   "metadata": {},
   "outputs": [
    {
     "data": {
      "text/html": [
       "<div>\n",
       "<style scoped>\n",
       "    .dataframe tbody tr th:only-of-type {\n",
       "        vertical-align: middle;\n",
       "    }\n",
       "\n",
       "    .dataframe tbody tr th {\n",
       "        vertical-align: top;\n",
       "    }\n",
       "\n",
       "    .dataframe thead th {\n",
       "        text-align: right;\n",
       "    }\n",
       "</style>\n",
       "<table border=\"1\" class=\"dataframe\">\n",
       "  <thead>\n",
       "    <tr style=\"text-align: right;\">\n",
       "      <th></th>\n",
       "      <th>building</th>\n",
       "      <th>freezer</th>\n",
       "      <th>ref_comp</th>\n",
       "      <th>ref_fan</th>\n",
       "      <th>hvac_west</th>\n",
       "      <th>hvac_east</th>\n",
       "    </tr>\n",
       "  </thead>\n",
       "  <tbody>\n",
       "    <tr>\n",
       "      <th>2020-07-19 00:00:00</th>\n",
       "      <td>34176.875000</td>\n",
       "      <td>4044.173828</td>\n",
       "      <td>14.919643</td>\n",
       "      <td>442.498840</td>\n",
       "      <td>2939.602051</td>\n",
       "      <td>3241.283203</td>\n",
       "    </tr>\n",
       "    <tr>\n",
       "      <th>2020-07-19 00:01:00</th>\n",
       "      <td>33548.640625</td>\n",
       "      <td>4026.793457</td>\n",
       "      <td>9.962272</td>\n",
       "      <td>42.042839</td>\n",
       "      <td>2922.791992</td>\n",
       "      <td>3238.636719</td>\n",
       "    </tr>\n",
       "    <tr>\n",
       "      <th>2020-07-19 00:02:00</th>\n",
       "      <td>39468.203125</td>\n",
       "      <td>3994.485596</td>\n",
       "      <td>4270.938965</td>\n",
       "      <td>447.384949</td>\n",
       "      <td>NaN</td>\n",
       "      <td>NaN</td>\n",
       "    </tr>\n",
       "    <tr>\n",
       "      <th>2020-07-19 00:03:00</th>\n",
       "      <td>NaN</td>\n",
       "      <td>NaN</td>\n",
       "      <td>NaN</td>\n",
       "      <td>NaN</td>\n",
       "      <td>2926.823730</td>\n",
       "      <td>3233.962891</td>\n",
       "    </tr>\n",
       "    <tr>\n",
       "      <th>2020-07-19 00:04:00</th>\n",
       "      <td>34266.390625</td>\n",
       "      <td>3978.000977</td>\n",
       "      <td>13.444770</td>\n",
       "      <td>443.142883</td>\n",
       "      <td>2931.019287</td>\n",
       "      <td>3234.100342</td>\n",
       "    </tr>\n",
       "  </tbody>\n",
       "</table>\n",
       "</div>"
      ],
      "text/plain": [
       "                         building      freezer     ref_comp     ref_fan  \\\n",
       "2020-07-19 00:00:00  34176.875000  4044.173828    14.919643  442.498840   \n",
       "2020-07-19 00:01:00  33548.640625  4026.793457     9.962272   42.042839   \n",
       "2020-07-19 00:02:00  39468.203125  3994.485596  4270.938965  447.384949   \n",
       "2020-07-19 00:03:00           NaN          NaN          NaN         NaN   \n",
       "2020-07-19 00:04:00  34266.390625  3978.000977    13.444770  443.142883   \n",
       "\n",
       "                       hvac_west    hvac_east  \n",
       "2020-07-19 00:00:00  2939.602051  3241.283203  \n",
       "2020-07-19 00:01:00  2922.791992  3238.636719  \n",
       "2020-07-19 00:02:00          NaN          NaN  \n",
       "2020-07-19 00:03:00  2926.823730  3233.962891  \n",
       "2020-07-19 00:04:00  2931.019287  3234.100342  "
      ]
     },
     "execution_count": 6,
     "metadata": {},
     "output_type": "execute_result"
    }
   ],
   "source": [
    "power_df = get_data_section(client, '_power', st, et, uuid_dict, '1T')\n",
    "power_df = power_df.tz_convert(tz_local).tz_localize(None).resample('1T').mean()\n",
    "\n",
    "power_df.head()"
   ]
  },
  {
   "cell_type": "code",
   "execution_count": 7,
   "metadata": {},
   "outputs": [
    {
     "data": {
      "text/html": [
       "<div>\n",
       "<style scoped>\n",
       "    .dataframe tbody tr th:only-of-type {\n",
       "        vertical-align: middle;\n",
       "    }\n",
       "\n",
       "    .dataframe tbody tr th {\n",
       "        vertical-align: top;\n",
       "    }\n",
       "\n",
       "    .dataframe thead th {\n",
       "        text-align: right;\n",
       "    }\n",
       "</style>\n",
       "<table border=\"1\" class=\"dataframe\">\n",
       "  <thead>\n",
       "    <tr style=\"text-align: right;\">\n",
       "      <th></th>\n",
       "      <th>oat</th>\n",
       "      <th>humidity</th>\n",
       "      <th>windspeed</th>\n",
       "      <th>cloudcover</th>\n",
       "      <th>solar</th>\n",
       "      <th>sr</th>\n",
       "    </tr>\n",
       "  </thead>\n",
       "  <tbody>\n",
       "    <tr>\n",
       "      <th>2020-07-19 00:02:00</th>\n",
       "      <td>60.720000</td>\n",
       "      <td>76.0</td>\n",
       "      <td>1.900000</td>\n",
       "      <td>0.02</td>\n",
       "      <td>0.0</td>\n",
       "      <td>0.0</td>\n",
       "    </tr>\n",
       "    <tr>\n",
       "      <th>2020-07-19 00:03:00</th>\n",
       "      <td>60.714667</td>\n",
       "      <td>76.0</td>\n",
       "      <td>1.903333</td>\n",
       "      <td>0.02</td>\n",
       "      <td>0.0</td>\n",
       "      <td>0.0</td>\n",
       "    </tr>\n",
       "    <tr>\n",
       "      <th>2020-07-19 00:04:00</th>\n",
       "      <td>60.709333</td>\n",
       "      <td>76.0</td>\n",
       "      <td>1.906667</td>\n",
       "      <td>0.02</td>\n",
       "      <td>0.0</td>\n",
       "      <td>0.0</td>\n",
       "    </tr>\n",
       "    <tr>\n",
       "      <th>2020-07-19 00:05:00</th>\n",
       "      <td>60.704000</td>\n",
       "      <td>76.0</td>\n",
       "      <td>1.910000</td>\n",
       "      <td>0.02</td>\n",
       "      <td>0.0</td>\n",
       "      <td>0.0</td>\n",
       "    </tr>\n",
       "    <tr>\n",
       "      <th>2020-07-19 00:06:00</th>\n",
       "      <td>60.698667</td>\n",
       "      <td>76.0</td>\n",
       "      <td>1.913333</td>\n",
       "      <td>0.02</td>\n",
       "      <td>0.0</td>\n",
       "      <td>0.0</td>\n",
       "    </tr>\n",
       "  </tbody>\n",
       "</table>\n",
       "</div>"
      ],
      "text/plain": [
       "                           oat  humidity  windspeed  cloudcover  solar   sr\n",
       "2020-07-19 00:02:00  60.720000      76.0   1.900000        0.02    0.0  0.0\n",
       "2020-07-19 00:03:00  60.714667      76.0   1.903333        0.02    0.0  0.0\n",
       "2020-07-19 00:04:00  60.709333      76.0   1.906667        0.02    0.0  0.0\n",
       "2020-07-19 00:05:00  60.704000      76.0   1.910000        0.02    0.0  0.0\n",
       "2020-07-19 00:06:00  60.698667      76.0   1.913333        0.02    0.0  0.0"
      ]
     },
     "execution_count": 7,
     "metadata": {},
     "output_type": "execute_result"
    }
   ],
   "source": [
    "weather_df = get_data_section(client, '_current', st, et, uuid_dict, '1T')\n",
    "weather_df = weather_df.tz_convert(tz_local).tz_localize(None).resample('1T').mean().interpolate('linear')#.resample('15T').mean()\n",
    "weather_df.head()"
   ]
  },
  {
   "cell_type": "code",
   "execution_count": 9,
   "metadata": {},
   "outputs": [
    {
     "data": {
      "text/html": [
       "<div>\n",
       "<style scoped>\n",
       "    .dataframe tbody tr th:only-of-type {\n",
       "        vertical-align: middle;\n",
       "    }\n",
       "\n",
       "    .dataframe tbody tr th {\n",
       "        vertical-align: top;\n",
       "    }\n",
       "\n",
       "    .dataframe thead th {\n",
       "        text-align: right;\n",
       "    }\n",
       "</style>\n",
       "<table border=\"1\" class=\"dataframe\">\n",
       "  <thead>\n",
       "    <tr style=\"text-align: right;\">\n",
       "      <th></th>\n",
       "      <th>soc</th>\n",
       "      <th>setpoint</th>\n",
       "      <th>pv_generation</th>\n",
       "    </tr>\n",
       "  </thead>\n",
       "  <tbody>\n",
       "    <tr>\n",
       "      <th>2020-07-19 00:00:00</th>\n",
       "      <td>0.674426</td>\n",
       "      <td>0.0</td>\n",
       "      <td>NaN</td>\n",
       "    </tr>\n",
       "    <tr>\n",
       "      <th>2020-07-19 00:01:00</th>\n",
       "      <td>0.674426</td>\n",
       "      <td>0.0</td>\n",
       "      <td>NaN</td>\n",
       "    </tr>\n",
       "    <tr>\n",
       "      <th>2020-07-19 00:02:00</th>\n",
       "      <td>0.674426</td>\n",
       "      <td>0.0</td>\n",
       "      <td>0.0</td>\n",
       "    </tr>\n",
       "    <tr>\n",
       "      <th>2020-07-19 00:03:00</th>\n",
       "      <td>0.674426</td>\n",
       "      <td>0.0</td>\n",
       "      <td>0.0</td>\n",
       "    </tr>\n",
       "    <tr>\n",
       "      <th>2020-07-19 00:04:00</th>\n",
       "      <td>0.674426</td>\n",
       "      <td>0.0</td>\n",
       "      <td>0.0</td>\n",
       "    </tr>\n",
       "  </tbody>\n",
       "</table>\n",
       "</div>"
      ],
      "text/plain": [
       "                          soc  setpoint  pv_generation\n",
       "2020-07-19 00:00:00  0.674426       0.0            NaN\n",
       "2020-07-19 00:01:00  0.674426       0.0            NaN\n",
       "2020-07-19 00:02:00  0.674426       0.0            0.0\n",
       "2020-07-19 00:03:00  0.674426       0.0            0.0\n",
       "2020-07-19 00:04:00  0.674426       0.0            0.0"
      ]
     },
     "execution_count": 9,
     "metadata": {},
     "output_type": "execute_result"
    }
   ],
   "source": [
    "battery_df = get_data_section(client, '_battery', st, et, uuid_dict, '1T')\n",
    "battery_df = battery_df.tz_convert(tz_local).tz_localize(None).resample('1T').mean()#.resample('15T').mean()\n",
    "\n",
    "# changing pv to new value \n",
    "battery_df.pv_generation = weather_df.sr * 272.6 * 0.26 * 0.98\n",
    "\n",
    "battery_df.head()"
   ]
  },
  {
   "cell_type": "code",
   "execution_count": 10,
   "metadata": {},
   "outputs": [
    {
     "name": "stderr",
     "output_type": "stream",
     "text": [
      "/anaconda3/lib/python3.6/site-packages/ipykernel/__main__.py:4: SettingWithCopyWarning: \n",
      "A value is trying to be set on a copy of a slice from a DataFrame.\n",
      "Try using .loc[row_indexer,col_indexer] = value instead\n",
      "\n",
      "See the caveats in the documentation: http://pandas.pydata.org/pandas-docs/stable/indexing.html#indexing-view-versus-copy\n"
     ]
    }
   ],
   "source": [
    "X = power_df[['building']]\n",
    "X.columns = ['net_load']\n",
    "# X['pv'] = battery_df.pv_generation\n",
    "X['oat'] = weather_df['oat']\n",
    "# X.net_load = X.net_load - X.pv\n",
    "# X = X.drop(columns=['pv']).dropna().resample('30T').mean()\n",
    "X = X.dropna().resample('30T').mean()\n",
    "X['tod'] = X.index.hour * 60 + X.index.minute\n",
    "X['dow'] = X.index.weekday"
   ]
  },
  {
   "cell_type": "code",
   "execution_count": 11,
   "metadata": {},
   "outputs": [
    {
     "data": {
      "text/html": [
       "<div>\n",
       "<style scoped>\n",
       "    .dataframe tbody tr th:only-of-type {\n",
       "        vertical-align: middle;\n",
       "    }\n",
       "\n",
       "    .dataframe tbody tr th {\n",
       "        vertical-align: top;\n",
       "    }\n",
       "\n",
       "    .dataframe thead th {\n",
       "        text-align: right;\n",
       "    }\n",
       "</style>\n",
       "<table border=\"1\" class=\"dataframe\">\n",
       "  <thead>\n",
       "    <tr style=\"text-align: right;\">\n",
       "      <th></th>\n",
       "      <th>net_load</th>\n",
       "      <th>oat</th>\n",
       "      <th>tod</th>\n",
       "      <th>dow</th>\n",
       "    </tr>\n",
       "  </thead>\n",
       "  <tbody>\n",
       "    <tr>\n",
       "      <th>2020-07-19 00:00:00</th>\n",
       "      <td>36396.911855</td>\n",
       "      <td>60.652986</td>\n",
       "      <td>0</td>\n",
       "      <td>6</td>\n",
       "    </tr>\n",
       "    <tr>\n",
       "      <th>2020-07-19 00:30:00</th>\n",
       "      <td>34585.441406</td>\n",
       "      <td>60.468747</td>\n",
       "      <td>30</td>\n",
       "      <td>6</td>\n",
       "    </tr>\n",
       "    <tr>\n",
       "      <th>2020-07-19 01:00:00</th>\n",
       "      <td>32977.975210</td>\n",
       "      <td>60.227718</td>\n",
       "      <td>60</td>\n",
       "      <td>6</td>\n",
       "    </tr>\n",
       "    <tr>\n",
       "      <th>2020-07-19 01:30:00</th>\n",
       "      <td>33934.786784</td>\n",
       "      <td>59.592148</td>\n",
       "      <td>90</td>\n",
       "      <td>6</td>\n",
       "    </tr>\n",
       "    <tr>\n",
       "      <th>2020-07-19 02:00:00</th>\n",
       "      <td>35473.382546</td>\n",
       "      <td>58.795840</td>\n",
       "      <td>120</td>\n",
       "      <td>6</td>\n",
       "    </tr>\n",
       "  </tbody>\n",
       "</table>\n",
       "</div>"
      ],
      "text/plain": [
       "                         net_load        oat  tod  dow\n",
       "2020-07-19 00:00:00  36396.911855  60.652986    0    6\n",
       "2020-07-19 00:30:00  34585.441406  60.468747   30    6\n",
       "2020-07-19 01:00:00  32977.975210  60.227718   60    6\n",
       "2020-07-19 01:30:00  33934.786784  59.592148   90    6\n",
       "2020-07-19 02:00:00  35473.382546  58.795840  120    6"
      ]
     },
     "execution_count": 11,
     "metadata": {},
     "output_type": "execute_result"
    }
   ],
   "source": [
    "X.head()"
   ]
  },
  {
   "cell_type": "code",
   "execution_count": 14,
   "metadata": {},
   "outputs": [],
   "source": [
    "reg = LinearRegression().fit(X[['oat', 'tod', 'dow']], X['net_load'])"
   ]
  },
  {
   "cell_type": "markdown",
   "metadata": {},
   "source": [
    "## change the test date below¶"
   ]
  },
  {
   "cell_type": "code",
   "execution_count": 15,
   "metadata": {},
   "outputs": [],
   "source": [
    "test_date = \"2020-09-22\""
   ]
  },
  {
   "cell_type": "code",
   "execution_count": 16,
   "metadata": {},
   "outputs": [],
   "source": [
    "q_latest_ts = \"select last(value), time from timeseries where time > now() - 13m and \\\"uuid\\\"='%s'\"%(uuid_dict['oat_forecast'])\n",
    "latest_ts_res = client.query(q_latest_ts)"
   ]
  },
  {
   "cell_type": "code",
   "execution_count": 17,
   "metadata": {},
   "outputs": [],
   "source": [
    "latest_ts = latest_ts_res['timeseries'].index.values[0].astype('uint64')"
   ]
  },
  {
   "cell_type": "code",
   "execution_count": 18,
   "metadata": {},
   "outputs": [],
   "source": [
    "q_solar_forecast = \"select prediction_time, value from %s where \\\"uuid\\\"=\\'%s\\'\" % ('timeseries', uuid_dict['solar_forecast'])\n",
    "q_solar_forecast += \" and time= \" + (str(latest_ts))\n",
    "test_weather_df1 = client.query(q_solar_forecast)['timeseries']\n",
    "test_weather_df1 = test_weather_df1[['prediction_time', 'value']]\n",
    "test_weather_df1.prediction_time = pd.to_datetime(test_weather_df1.prediction_time.astype(int) * 1e9)\n",
    "test_weather_df1 = test_weather_df1.sort_values(by='prediction_time').set_index('prediction_time').tz_localize(tz_utc)\n",
    "test_weather_df1.index.name = 'time'\n",
    "test_weather_df1.columns = ['pv']\n",
    "\n",
    "q_oat_forecast = \"select prediction_time, value from %s where \\\"uuid\\\"=\\'%s\\'\" % ('timeseries', uuid_dict['oat_forecast'])\n",
    "q_oat_forecast += \" and time= \" + (str(latest_ts))\n",
    "test_weather_df2 = client.query(q_oat_forecast)['timeseries']\n",
    "test_weather_df2 = test_weather_df2[['prediction_time', 'value']]\n",
    "test_weather_df2.prediction_time = pd.to_datetime(test_weather_df2.prediction_time.astype(int) * 1e9)\n",
    "test_weather_df2 = test_weather_df2.sort_values(by='prediction_time').set_index('prediction_time').tz_localize(tz_utc)\n",
    "test_weather_df2.index.name = 'time'\n",
    "test_weather_df2.columns = ['oat']\n",
    "\n",
    "test_weather_forecast_df = pd.concat([test_weather_df1, test_weather_df2], axis=1)"
   ]
  },
  {
   "cell_type": "code",
   "execution_count": 19,
   "metadata": {},
   "outputs": [
    {
     "data": {
      "text/html": [
       "<div>\n",
       "<style scoped>\n",
       "    .dataframe tbody tr th:only-of-type {\n",
       "        vertical-align: middle;\n",
       "    }\n",
       "\n",
       "    .dataframe tbody tr th {\n",
       "        vertical-align: top;\n",
       "    }\n",
       "\n",
       "    .dataframe thead th {\n",
       "        text-align: right;\n",
       "    }\n",
       "</style>\n",
       "<table border=\"1\" class=\"dataframe\">\n",
       "  <thead>\n",
       "    <tr style=\"text-align: right;\">\n",
       "      <th></th>\n",
       "      <th>pv</th>\n",
       "      <th>oat</th>\n",
       "    </tr>\n",
       "    <tr>\n",
       "      <th>time</th>\n",
       "      <th></th>\n",
       "      <th></th>\n",
       "    </tr>\n",
       "  </thead>\n",
       "  <tbody>\n",
       "    <tr>\n",
       "      <th>2020-09-21 21:00:00+00:00</th>\n",
       "      <td>446.489136</td>\n",
       "      <td>70.12</td>\n",
       "    </tr>\n",
       "    <tr>\n",
       "      <th>2020-09-21 22:00:00+00:00</th>\n",
       "      <td>390.444305</td>\n",
       "      <td>69.63</td>\n",
       "    </tr>\n",
       "    <tr>\n",
       "      <th>2020-09-21 23:00:00+00:00</th>\n",
       "      <td>208.184753</td>\n",
       "      <td>67.78</td>\n",
       "    </tr>\n",
       "    <tr>\n",
       "      <th>2020-09-22 00:00:00+00:00</th>\n",
       "      <td>122.835056</td>\n",
       "      <td>65.72</td>\n",
       "    </tr>\n",
       "    <tr>\n",
       "      <th>2020-09-22 01:00:00+00:00</th>\n",
       "      <td>33.707604</td>\n",
       "      <td>64.44</td>\n",
       "    </tr>\n",
       "  </tbody>\n",
       "</table>\n",
       "</div>"
      ],
      "text/plain": [
       "                                   pv    oat\n",
       "time                                        \n",
       "2020-09-21 21:00:00+00:00  446.489136  70.12\n",
       "2020-09-21 22:00:00+00:00  390.444305  69.63\n",
       "2020-09-21 23:00:00+00:00  208.184753  67.78\n",
       "2020-09-22 00:00:00+00:00  122.835056  65.72\n",
       "2020-09-22 01:00:00+00:00   33.707604  64.44"
      ]
     },
     "execution_count": 19,
     "metadata": {},
     "output_type": "execute_result"
    }
   ],
   "source": [
    "test_weather_forecast_df.head()"
   ]
  },
  {
   "cell_type": "code",
   "execution_count": 20,
   "metadata": {},
   "outputs": [
    {
     "data": {
      "text/html": [
       "<div>\n",
       "<style scoped>\n",
       "    .dataframe tbody tr th:only-of-type {\n",
       "        vertical-align: middle;\n",
       "    }\n",
       "\n",
       "    .dataframe tbody tr th {\n",
       "        vertical-align: top;\n",
       "    }\n",
       "\n",
       "    .dataframe thead th {\n",
       "        text-align: right;\n",
       "    }\n",
       "</style>\n",
       "<table border=\"1\" class=\"dataframe\">\n",
       "  <thead>\n",
       "    <tr style=\"text-align: right;\">\n",
       "      <th></th>\n",
       "      <th>pv</th>\n",
       "      <th>oat</th>\n",
       "    </tr>\n",
       "    <tr>\n",
       "      <th>time</th>\n",
       "      <th></th>\n",
       "      <th></th>\n",
       "    </tr>\n",
       "  </thead>\n",
       "  <tbody>\n",
       "    <tr>\n",
       "      <th>2020-09-22 07:00:00+00:00</th>\n",
       "      <td>0.000000</td>\n",
       "      <td>58.53</td>\n",
       "    </tr>\n",
       "    <tr>\n",
       "      <th>2020-09-22 08:00:00+00:00</th>\n",
       "      <td>0.000000</td>\n",
       "      <td>58.59</td>\n",
       "    </tr>\n",
       "    <tr>\n",
       "      <th>2020-09-22 09:00:00+00:00</th>\n",
       "      <td>0.000000</td>\n",
       "      <td>58.43</td>\n",
       "    </tr>\n",
       "    <tr>\n",
       "      <th>2020-09-22 10:00:00+00:00</th>\n",
       "      <td>0.000000</td>\n",
       "      <td>57.87</td>\n",
       "    </tr>\n",
       "    <tr>\n",
       "      <th>2020-09-22 11:00:00+00:00</th>\n",
       "      <td>0.000000</td>\n",
       "      <td>57.67</td>\n",
       "    </tr>\n",
       "    <tr>\n",
       "      <th>2020-09-22 12:00:00+00:00</th>\n",
       "      <td>0.000000</td>\n",
       "      <td>57.21</td>\n",
       "    </tr>\n",
       "    <tr>\n",
       "      <th>2020-09-22 13:00:00+00:00</th>\n",
       "      <td>0.000000</td>\n",
       "      <td>56.53</td>\n",
       "    </tr>\n",
       "    <tr>\n",
       "      <th>2020-09-22 14:00:00+00:00</th>\n",
       "      <td>0.000000</td>\n",
       "      <td>55.62</td>\n",
       "    </tr>\n",
       "    <tr>\n",
       "      <th>2020-09-22 15:00:00+00:00</th>\n",
       "      <td>3.942175</td>\n",
       "      <td>55.59</td>\n",
       "    </tr>\n",
       "    <tr>\n",
       "      <th>2020-09-22 16:00:00+00:00</th>\n",
       "      <td>59.180302</td>\n",
       "      <td>56.58</td>\n",
       "    </tr>\n",
       "    <tr>\n",
       "      <th>2020-09-22 17:00:00+00:00</th>\n",
       "      <td>169.560879</td>\n",
       "      <td>58.84</td>\n",
       "    </tr>\n",
       "    <tr>\n",
       "      <th>2020-09-22 18:00:00+00:00</th>\n",
       "      <td>293.171992</td>\n",
       "      <td>61.27</td>\n",
       "    </tr>\n",
       "    <tr>\n",
       "      <th>2020-09-22 19:00:00+00:00</th>\n",
       "      <td>446.332128</td>\n",
       "      <td>63.96</td>\n",
       "    </tr>\n",
       "    <tr>\n",
       "      <th>2020-09-22 20:00:00+00:00</th>\n",
       "      <td>470.784038</td>\n",
       "      <td>66.83</td>\n",
       "    </tr>\n",
       "    <tr>\n",
       "      <th>2020-09-22 21:00:00+00:00</th>\n",
       "      <td>466.466663</td>\n",
       "      <td>68.78</td>\n",
       "    </tr>\n",
       "    <tr>\n",
       "      <th>2020-09-22 22:00:00+00:00</th>\n",
       "      <td>443.109017</td>\n",
       "      <td>69.20</td>\n",
       "    </tr>\n",
       "    <tr>\n",
       "      <th>2020-09-22 23:00:00+00:00</th>\n",
       "      <td>363.225412</td>\n",
       "      <td>68.20</td>\n",
       "    </tr>\n",
       "    <tr>\n",
       "      <th>2020-09-23 00:00:00+00:00</th>\n",
       "      <td>233.069788</td>\n",
       "      <td>66.22</td>\n",
       "    </tr>\n",
       "    <tr>\n",
       "      <th>2020-09-23 01:00:00+00:00</th>\n",
       "      <td>96.209857</td>\n",
       "      <td>63.54</td>\n",
       "    </tr>\n",
       "    <tr>\n",
       "      <th>2020-09-23 02:00:00+00:00</th>\n",
       "      <td>0.000000</td>\n",
       "      <td>60.22</td>\n",
       "    </tr>\n",
       "    <tr>\n",
       "      <th>2020-09-23 03:00:00+00:00</th>\n",
       "      <td>0.000000</td>\n",
       "      <td>57.65</td>\n",
       "    </tr>\n",
       "    <tr>\n",
       "      <th>2020-09-23 04:00:00+00:00</th>\n",
       "      <td>0.000000</td>\n",
       "      <td>56.38</td>\n",
       "    </tr>\n",
       "    <tr>\n",
       "      <th>2020-09-23 05:00:00+00:00</th>\n",
       "      <td>0.000000</td>\n",
       "      <td>55.89</td>\n",
       "    </tr>\n",
       "    <tr>\n",
       "      <th>2020-09-23 06:00:00+00:00</th>\n",
       "      <td>0.000000</td>\n",
       "      <td>55.53</td>\n",
       "    </tr>\n",
       "  </tbody>\n",
       "</table>\n",
       "</div>"
      ],
      "text/plain": [
       "                                   pv    oat\n",
       "time                                        \n",
       "2020-09-22 07:00:00+00:00    0.000000  58.53\n",
       "2020-09-22 08:00:00+00:00    0.000000  58.59\n",
       "2020-09-22 09:00:00+00:00    0.000000  58.43\n",
       "2020-09-22 10:00:00+00:00    0.000000  57.87\n",
       "2020-09-22 11:00:00+00:00    0.000000  57.67\n",
       "2020-09-22 12:00:00+00:00    0.000000  57.21\n",
       "2020-09-22 13:00:00+00:00    0.000000  56.53\n",
       "2020-09-22 14:00:00+00:00    0.000000  55.62\n",
       "2020-09-22 15:00:00+00:00    3.942175  55.59\n",
       "2020-09-22 16:00:00+00:00   59.180302  56.58\n",
       "2020-09-22 17:00:00+00:00  169.560879  58.84\n",
       "2020-09-22 18:00:00+00:00  293.171992  61.27\n",
       "2020-09-22 19:00:00+00:00  446.332128  63.96\n",
       "2020-09-22 20:00:00+00:00  470.784038  66.83\n",
       "2020-09-22 21:00:00+00:00  466.466663  68.78\n",
       "2020-09-22 22:00:00+00:00  443.109017  69.20\n",
       "2020-09-22 23:00:00+00:00  363.225412  68.20\n",
       "2020-09-23 00:00:00+00:00  233.069788  66.22\n",
       "2020-09-23 01:00:00+00:00   96.209857  63.54\n",
       "2020-09-23 02:00:00+00:00    0.000000  60.22\n",
       "2020-09-23 03:00:00+00:00    0.000000  57.65\n",
       "2020-09-23 04:00:00+00:00    0.000000  56.38\n",
       "2020-09-23 05:00:00+00:00    0.000000  55.89\n",
       "2020-09-23 06:00:00+00:00    0.000000  55.53"
      ]
     },
     "execution_count": 20,
     "metadata": {},
     "output_type": "execute_result"
    }
   ],
   "source": [
    "test_st = test_date+\" 00:00:00\"\n",
    "test_et = test_date+\" 23:59:59\"\n",
    "\n",
    "test_st = tz_local.localize(datetime.datetime.strptime(test_st, \"%Y-%m-%d %H:%M:%S\")).astimezone(tz_utc)\n",
    "test_et = tz_local.localize(datetime.datetime.strptime(test_et, \"%Y-%m-%d %H:%M:%S\")).astimezone(tz_utc)\n",
    "\n",
    "test_weather_df = test_weather_forecast_df.loc[test_st: test_et]\n",
    "test_weather_df"
   ]
  },
  {
   "cell_type": "code",
   "execution_count": 21,
   "metadata": {},
   "outputs": [],
   "source": [
    "Y = test_weather_df[['oat']]\n",
    "Y = Y.resample('30T').mean().interpolate(method='linear')\n",
    "Y['tod'] = Y.index.hour * 60 + Y.index.minute\n",
    "Y['dow'] = Y.index.weekday\n",
    "Y['net_load'] = reg.predict(Y)"
   ]
  },
  {
   "cell_type": "code",
   "execution_count": 22,
   "metadata": {},
   "outputs": [
    {
     "data": {
      "text/html": [
       "<div>\n",
       "<style scoped>\n",
       "    .dataframe tbody tr th:only-of-type {\n",
       "        vertical-align: middle;\n",
       "    }\n",
       "\n",
       "    .dataframe tbody tr th {\n",
       "        vertical-align: top;\n",
       "    }\n",
       "\n",
       "    .dataframe thead th {\n",
       "        text-align: right;\n",
       "    }\n",
       "</style>\n",
       "<table border=\"1\" class=\"dataframe\">\n",
       "  <thead>\n",
       "    <tr style=\"text-align: right;\">\n",
       "      <th></th>\n",
       "      <th>oat</th>\n",
       "      <th>tod</th>\n",
       "      <th>dow</th>\n",
       "      <th>net_load</th>\n",
       "    </tr>\n",
       "    <tr>\n",
       "      <th>time</th>\n",
       "      <th></th>\n",
       "      <th></th>\n",
       "      <th></th>\n",
       "      <th></th>\n",
       "    </tr>\n",
       "  </thead>\n",
       "  <tbody>\n",
       "    <tr>\n",
       "      <th>2020-09-22 07:00:00+00:00</th>\n",
       "      <td>58.53</td>\n",
       "      <td>420</td>\n",
       "      <td>1</td>\n",
       "      <td>35128.289409</td>\n",
       "    </tr>\n",
       "    <tr>\n",
       "      <th>2020-09-22 07:30:00+00:00</th>\n",
       "      <td>58.56</td>\n",
       "      <td>450</td>\n",
       "      <td>1</td>\n",
       "      <td>35193.882185</td>\n",
       "    </tr>\n",
       "    <tr>\n",
       "      <th>2020-09-22 08:00:00+00:00</th>\n",
       "      <td>58.59</td>\n",
       "      <td>480</td>\n",
       "      <td>1</td>\n",
       "      <td>35259.474960</td>\n",
       "    </tr>\n",
       "    <tr>\n",
       "      <th>2020-09-22 08:30:00+00:00</th>\n",
       "      <td>58.51</td>\n",
       "      <td>510</td>\n",
       "      <td>1</td>\n",
       "      <td>35316.278970</td>\n",
       "    </tr>\n",
       "    <tr>\n",
       "      <th>2020-09-22 09:00:00+00:00</th>\n",
       "      <td>58.43</td>\n",
       "      <td>540</td>\n",
       "      <td>1</td>\n",
       "      <td>35373.082980</td>\n",
       "    </tr>\n",
       "  </tbody>\n",
       "</table>\n",
       "</div>"
      ],
      "text/plain": [
       "                             oat  tod  dow      net_load\n",
       "time                                                    \n",
       "2020-09-22 07:00:00+00:00  58.53  420    1  35128.289409\n",
       "2020-09-22 07:30:00+00:00  58.56  450    1  35193.882185\n",
       "2020-09-22 08:00:00+00:00  58.59  480    1  35259.474960\n",
       "2020-09-22 08:30:00+00:00  58.51  510    1  35316.278970\n",
       "2020-09-22 09:00:00+00:00  58.43  540    1  35373.082980"
      ]
     },
     "execution_count": 22,
     "metadata": {},
     "output_type": "execute_result"
    }
   ],
   "source": [
    "Y.head()"
   ]
  },
  {
   "cell_type": "code",
   "execution_count": 23,
   "metadata": {},
   "outputs": [
    {
     "name": "stderr",
     "output_type": "stream",
     "text": [
      "/anaconda3/lib/python3.6/site-packages/pandas/plotting/_converter.py:129: FutureWarning: Using an implicitly registered datetime converter for a matplotlib plotting method. The converter was registered by pandas on import. Future versions of pandas will require you to explicitly register matplotlib converters.\n",
      "\n",
      "To register the converters:\n",
      "\t>>> from pandas.plotting import register_matplotlib_converters\n",
      "\t>>> register_matplotlib_converters()\n",
      "  warnings.warn(msg, FutureWarning)\n"
     ]
    },
    {
     "data": {
      "text/plain": [
       "[<matplotlib.lines.Line2D at 0x13144e5f8>]"
      ]
     },
     "execution_count": 23,
     "metadata": {},
     "output_type": "execute_result"
    },
    {
     "data": {
      "image/png": "[encoded data removed]",
      "text/plain": [
       "<Figure size 1440x720 with 1 Axes>"
      ]
     },
     "metadata": {},
     "output_type": "display_data"
    }
   ],
   "source": [
    "plt.figure(figsize=(20,10))\n",
    "plt.plot(Y.tz_convert(tz_local).net_load)"
   ]
  },
  {
   "cell_type": "code",
   "execution_count": 24,
   "metadata": {},
   "outputs": [
    {
     "data": {
      "text/plain": [
       "time\n",
       "2020-09-22 00:00:00-07:00    35128.289409\n",
       "2020-09-22 00:30:00-07:00    35193.882185\n",
       "2020-09-22 01:00:00-07:00    35259.474960\n",
       "2020-09-22 01:30:00-07:00    35316.278970\n",
       "2020-09-22 02:00:00-07:00    35373.082980\n",
       "2020-09-22 02:30:00-07:00    35413.907416\n",
       "2020-09-22 03:00:00-07:00    35454.731852\n",
       "2020-09-22 03:30:00-07:00    35509.937905\n",
       "2020-09-22 04:00:00-07:00    35565.143957\n",
       "2020-09-22 04:30:00-07:00    35609.963287\n",
       "2020-09-22 05:00:00-07:00    35654.782616\n",
       "2020-09-22 05:30:00-07:00    35690.813180\n",
       "2020-09-22 06:00:00-07:00    35726.843744\n",
       "2020-09-22 06:30:00-07:00    35753.686053\n",
       "2020-09-22 07:00:00-07:00    35780.528361\n",
       "2020-09-22 07:30:00-07:00    35842.525733\n",
       "2020-09-22 08:00:00-07:00    35904.523104\n",
       "2020-09-22 08:30:00-07:00    36007.268389\n",
       "2020-09-22 09:00:00-07:00    36110.013674\n",
       "2020-09-22 09:30:00-07:00    36263.494106\n",
       "2020-09-22 10:00:00-07:00    36416.974538\n",
       "2020-09-22 10:30:00-07:00    36577.246289\n",
       "2020-09-22 11:00:00-07:00    36737.518040\n",
       "2020-09-22 11:30:00-07:00    36908.176514\n",
       "2020-09-22 12:00:00-07:00    37078.834988\n",
       "2020-09-22 12:30:00-07:00    37256.684271\n",
       "2020-09-22 13:00:00-07:00    37434.533553\n",
       "2020-09-22 13:30:00-07:00    37575.629815\n",
       "2020-09-22 14:00:00-07:00    37716.726077\n",
       "2020-09-22 14:30:00-07:00    37796.700470\n",
       "2020-09-22 15:00:00-07:00    37876.674862\n",
       "2020-09-22 15:30:00-07:00    37899.921766\n",
       "2020-09-22 16:00:00-07:00    37923.168671\n",
       "2020-09-22 16:30:00-07:00    37907.265620\n",
       "2020-09-22 17:00:00-07:00    34890.211988\n",
       "2020-09-22 17:30:00-07:00    34846.344682\n",
       "2020-09-22 18:00:00-07:00    34802.477376\n",
       "2020-09-22 18:30:00-07:00    34733.042752\n",
       "2020-09-22 19:00:00-07:00    34663.608128\n",
       "2020-09-22 19:30:00-07:00    34624.135205\n",
       "2020-09-22 20:00:00-07:00    34584.662282\n",
       "2020-09-22 20:30:00-07:00    34597.122975\n",
       "2020-09-22 21:00:00-07:00    34609.583667\n",
       "2020-09-22 21:30:00-07:00    34653.204528\n",
       "2020-09-22 22:00:00-07:00    34696.825390\n",
       "2020-09-22 22:30:00-07:00    34745.639613\n",
       "2020-09-22 23:00:00-07:00    34794.453836\n",
       "Freq: 30T, Name: net_load, dtype: float64"
      ]
     },
     "execution_count": 24,
     "metadata": {},
     "output_type": "execute_result"
    }
   ],
   "source": [
    "Y.tz_convert(tz_local)[test_date].net_load"
   ]
  },
  {
   "cell_type": "code",
   "execution_count": 25,
   "metadata": {},
   "outputs": [
    {
     "data": {
      "text/plain": [
       "time\n",
       "2020-09-22 00:00:00-07:00        0.000000\n",
       "2020-09-22 01:00:00-07:00        0.000000\n",
       "2020-09-22 02:00:00-07:00        0.000000\n",
       "2020-09-22 03:00:00-07:00        0.000000\n",
       "2020-09-22 04:00:00-07:00        0.000000\n",
       "2020-09-22 05:00:00-07:00        0.000000\n",
       "2020-09-22 06:00:00-07:00        0.000000\n",
       "2020-09-22 07:00:00-07:00        0.000000\n",
       "2020-09-22 08:00:00-07:00      273.817511\n",
       "2020-09-22 09:00:00-07:00     4110.573803\n",
       "2020-09-22 10:00:00-07:00    11777.440955\n",
       "2020-09-22 11:00:00-07:00    20363.280965\n",
       "2020-09-22 12:00:00-07:00    31001.551158\n",
       "2020-09-22 13:00:00-07:00    32699.943703\n",
       "2020-09-22 14:00:00-07:00    32400.065362\n",
       "2020-09-22 15:00:00-07:00    30777.678790\n",
       "2020-09-22 16:00:00-07:00    25229.084998\n",
       "2020-09-22 17:00:00-07:00    16188.673232\n",
       "2020-09-22 18:00:00-07:00     6682.590447\n",
       "2020-09-22 19:00:00-07:00        0.000000\n",
       "2020-09-22 20:00:00-07:00        0.000000\n",
       "2020-09-22 21:00:00-07:00        0.000000\n",
       "2020-09-22 22:00:00-07:00        0.000000\n",
       "2020-09-22 23:00:00-07:00        0.000000\n",
       "Name: pv, dtype: float64"
      ]
     },
     "execution_count": 25,
     "metadata": {},
     "output_type": "execute_result"
    }
   ],
   "source": [
    "test_weather_df.tz_convert(tz_local)[test_date].pv * 272.6 * 0.26 * 0.98"
   ]
  },
  {
   "cell_type": "code",
   "execution_count": 27,
   "metadata": {},
   "outputs": [],
   "source": [
    "net_load = Y.tz_convert(tz_local)[test_date].net_load - test_weather_df.tz_convert(tz_local)[test_date].resample('30T').interpolate().pv * 272.6 * 0.26 * 0.98"
   ]
  },
  {
   "cell_type": "code",
   "execution_count": 28,
   "metadata": {},
   "outputs": [
    {
     "data": {
      "text/plain": [
       "time\n",
       "2020-09-22 00:00:00-07:00    35128.289409\n",
       "2020-09-22 00:30:00-07:00    35193.882185\n",
       "2020-09-22 01:00:00-07:00    35259.474960\n",
       "2020-09-22 01:30:00-07:00    35316.278970\n",
       "2020-09-22 02:00:00-07:00    35373.082980\n",
       "2020-09-22 02:30:00-07:00    35413.907416\n",
       "2020-09-22 03:00:00-07:00    35454.731852\n",
       "2020-09-22 03:30:00-07:00    35509.937905\n",
       "2020-09-22 04:00:00-07:00    35565.143957\n",
       "2020-09-22 04:30:00-07:00    35609.963287\n",
       "2020-09-22 05:00:00-07:00    35654.782616\n",
       "2020-09-22 05:30:00-07:00    35690.813180\n",
       "2020-09-22 06:00:00-07:00    35726.843744\n",
       "2020-09-22 06:30:00-07:00    35753.686053\n",
       "2020-09-22 07:00:00-07:00    35780.528361\n",
       "2020-09-22 07:30:00-07:00    35705.616977\n",
       "2020-09-22 08:00:00-07:00    35630.705593\n",
       "2020-09-22 08:30:00-07:00    33815.072732\n",
       "2020-09-22 09:00:00-07:00    31999.439871\n",
       "2020-09-22 09:30:00-07:00    28319.486727\n",
       "2020-09-22 10:00:00-07:00    24639.533583\n",
       "2020-09-22 10:30:00-07:00    20506.885329\n",
       "2020-09-22 11:00:00-07:00    16374.237075\n",
       "2020-09-22 11:30:00-07:00    11225.760452\n",
       "2020-09-22 12:00:00-07:00     6077.283830\n",
       "2020-09-22 12:30:00-07:00     5405.936840\n",
       "2020-09-22 13:00:00-07:00     4734.589850\n",
       "2020-09-22 13:30:00-07:00     5025.625283\n",
       "2020-09-22 14:00:00-07:00     5316.660715\n",
       "2020-09-22 14:30:00-07:00     6207.828393\n",
       "2020-09-22 15:00:00-07:00     7098.996071\n",
       "2020-09-22 15:30:00-07:00     9896.539872\n",
       "2020-09-22 16:00:00-07:00    12694.083673\n",
       "2020-09-22 16:30:00-07:00    17198.386505\n",
       "2020-09-22 17:00:00-07:00    18701.538756\n",
       "2020-09-22 17:30:00-07:00    23410.712843\n",
       "2020-09-22 18:00:00-07:00    28119.886929\n",
       "2020-09-22 18:30:00-07:00    31391.747529\n",
       "2020-09-22 19:00:00-07:00    34663.608128\n",
       "2020-09-22 19:30:00-07:00    34624.135205\n",
       "2020-09-22 20:00:00-07:00    34584.662282\n",
       "2020-09-22 20:30:00-07:00    34597.122975\n",
       "2020-09-22 21:00:00-07:00    34609.583667\n",
       "2020-09-22 21:30:00-07:00    34653.204528\n",
       "2020-09-22 22:00:00-07:00    34696.825390\n",
       "2020-09-22 22:30:00-07:00    34745.639613\n",
       "2020-09-22 23:00:00-07:00    34794.453836\n",
       "Freq: 30T, dtype: float64"
      ]
     },
     "execution_count": 28,
     "metadata": {},
     "output_type": "execute_result"
    }
   ],
   "source": [
    "net_load"
   ]
  },
  {
   "cell_type": "code",
   "execution_count": 38,
   "metadata": {},
   "outputs": [
    {
     "data": {
      "text/plain": [
       "time\n",
       "2020-09-22 12:00:00-07:00    6077.283830\n",
       "2020-09-22 12:30:00-07:00    5405.936840\n",
       "2020-09-22 13:00:00-07:00    4734.589850\n",
       "2020-09-22 13:30:00-07:00    5025.625283\n",
       "2020-09-22 14:00:00-07:00    5316.660715\n",
       "2020-09-22 14:30:00-07:00    6207.828393\n",
       "2020-09-22 15:00:00-07:00    7098.996071\n",
       "Freq: 30T, dtype: float64"
      ]
     },
     "execution_count": 38,
     "metadata": {},
     "output_type": "execute_result"
    }
   ],
   "source": [
    "net_load[\"2020-09-22 12:00:00\": \"2020-09-22 15:00:00\"]"
   ]
  },
  {
   "cell_type": "code",
   "execution_count": 34,
   "metadata": {},
   "outputs": [
    {
     "data": {
      "text/plain": [
       "[6000, 6000, 5400, 5400, 4700, 4700, 5000, 5000, 5300, 5300, 6200, 6200]"
      ]
     },
     "execution_count": 34,
     "metadata": {},
     "output_type": "execute_result"
    }
   ],
   "source": [
    "[i-5000 for i in [11000, 11000, 10400, 10400, 9700, 9700, 10000, 10000, 10300, 10300, 11200, 11200]]"
   ]
  },
  {
   "cell_type": "code",
   "execution_count": 39,
   "metadata": {},
   "outputs": [
    {
     "data": {
      "text/plain": [
       "time\n",
       "2020-09-22 15:00:00-07:00     7098.996071\n",
       "2020-09-22 15:30:00-07:00     9896.539872\n",
       "2020-09-22 16:00:00-07:00    12694.083673\n",
       "2020-09-22 16:30:00-07:00    17198.386505\n",
       "2020-09-22 17:00:00-07:00    18701.538756\n",
       "2020-09-22 17:30:00-07:00    23410.712843\n",
       "2020-09-22 18:00:00-07:00    28119.886929\n",
       "Freq: 30T, dtype: float64"
      ]
     },
     "execution_count": 39,
     "metadata": {},
     "output_type": "execute_result"
    }
   ],
   "source": [
    "net_load[\"2020-09-22 15:00:00\": \"2020-09-22 18:00:00\"]"
   ]
  },
  {
   "cell_type": "code",
   "execution_count": 36,
   "metadata": {},
   "outputs": [
    {
     "data": {
      "text/plain": [
       "[7100,\n",
       " 7100,\n",
       " 9900,\n",
       " 9900,\n",
       " 12700,\n",
       " 12700,\n",
       " 17200,\n",
       " 17200,\n",
       " 18700,\n",
       " 18700,\n",
       " 23400,\n",
       " 23400]"
      ]
     },
     "execution_count": 36,
     "metadata": {},
     "output_type": "execute_result"
    }
   ],
   "source": [
    "[i+5000 for i in [2100, 2100, 4900, 4900, 7700, 7700, 12200, 12200, 13700, 13700, 18400, 18400]]"
   ]
  },
  {
   "cell_type": "code",
   "execution_count": null,
   "metadata": {},
   "outputs": [],
   "source": []
  }
 ],
 "metadata": {
  "kernelspec": {
   "display_name": "Python [conda env:anaconda3]",
   "language": "python",
   "name": "conda-env-anaconda3-py"
  },
  "language_info": {
   "codemirror_mode": {
    "name": "ipython",
    "version": 3
   },
   "file_extension": ".py",
   "mimetype": "text/x-python",
   "name": "python",
   "nbconvert_exporter": "python",
   "pygments_lexer": "ipython3",
   "version": "3.6.4"
  }
 },
 "nbformat": 4,
 "nbformat_minor": 2
}
