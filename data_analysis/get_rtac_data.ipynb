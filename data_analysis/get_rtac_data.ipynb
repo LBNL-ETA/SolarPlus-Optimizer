{
 "cells": [
  {
   "cell_type": "code",
   "execution_count": 1,
   "metadata": {},
   "outputs": [],
   "source": [
    "from utils import *\n",
    "%matplotlib inline"
   ]
  },
  {
   "cell_type": "code",
   "execution_count": 2,
   "metadata": {},
   "outputs": [],
   "source": [
    "power_df_list = []"
   ]
  },
  {
   "cell_type": "code",
   "execution_count": 6,
   "metadata": {},
   "outputs": [],
   "source": [
    "st = \"2020-12-20 00:00:00\"\n",
    "et = \"2021-02-04 23:59:59\""
   ]
  },
  {
   "cell_type": "code",
   "execution_count": 7,
   "metadata": {},
   "outputs": [
    {
     "data": {
      "text/html": [
       "<div>\n",
       "<style scoped>\n",
       "    .dataframe tbody tr th:only-of-type {\n",
       "        vertical-align: middle;\n",
       "    }\n",
       "\n",
       "    .dataframe tbody tr th {\n",
       "        vertical-align: top;\n",
       "    }\n",
       "\n",
       "    .dataframe thead th {\n",
       "        text-align: right;\n",
       "    }\n",
       "</style>\n",
       "<table border=\"1\" class=\"dataframe\">\n",
       "  <thead>\n",
       "    <tr style=\"text-align: right;\">\n",
       "      <th></th>\n",
       "      <th>building</th>\n",
       "      <th>freezer</th>\n",
       "      <th>ref_comp</th>\n",
       "      <th>ref_fan</th>\n",
       "      <th>hvac_west</th>\n",
       "      <th>hvac_east</th>\n",
       "    </tr>\n",
       "  </thead>\n",
       "  <tbody>\n",
       "    <tr>\n",
       "      <th>2021-02-04 10:39:00</th>\n",
       "      <td>29954.841797</td>\n",
       "      <td>3749.601318</td>\n",
       "      <td>11.960033</td>\n",
       "      <td>256.264130</td>\n",
       "      <td>378.306122</td>\n",
       "      <td>NaN</td>\n",
       "    </tr>\n",
       "    <tr>\n",
       "      <th>2021-02-04 10:40:00</th>\n",
       "      <td>NaN</td>\n",
       "      <td>NaN</td>\n",
       "      <td>NaN</td>\n",
       "      <td>NaN</td>\n",
       "      <td>NaN</td>\n",
       "      <td>878.473755</td>\n",
       "    </tr>\n",
       "    <tr>\n",
       "      <th>2021-02-04 10:41:00</th>\n",
       "      <td>28082.328125</td>\n",
       "      <td>3784.930176</td>\n",
       "      <td>7.792377</td>\n",
       "      <td>43.519798</td>\n",
       "      <td>377.696350</td>\n",
       "      <td>882.439575</td>\n",
       "    </tr>\n",
       "    <tr>\n",
       "      <th>2021-02-04 10:42:00</th>\n",
       "      <td>34015.839844</td>\n",
       "      <td>3808.134521</td>\n",
       "      <td>4255.955566</td>\n",
       "      <td>249.009430</td>\n",
       "      <td>379.114319</td>\n",
       "      <td>880.453613</td>\n",
       "    </tr>\n",
       "    <tr>\n",
       "      <th>2021-02-04 10:43:00</th>\n",
       "      <td>29686.074219</td>\n",
       "      <td>3793.724609</td>\n",
       "      <td>13.241374</td>\n",
       "      <td>462.106262</td>\n",
       "      <td>379.606689</td>\n",
       "      <td>880.346680</td>\n",
       "    </tr>\n",
       "  </tbody>\n",
       "</table>\n",
       "</div>"
      ],
      "text/plain": [
       "                         building      freezer     ref_comp     ref_fan  \\\n",
       "2021-02-04 10:39:00  29954.841797  3749.601318    11.960033  256.264130   \n",
       "2021-02-04 10:40:00           NaN          NaN          NaN         NaN   \n",
       "2021-02-04 10:41:00  28082.328125  3784.930176     7.792377   43.519798   \n",
       "2021-02-04 10:42:00  34015.839844  3808.134521  4255.955566  249.009430   \n",
       "2021-02-04 10:43:00  29686.074219  3793.724609    13.241374  462.106262   \n",
       "\n",
       "                      hvac_west   hvac_east  \n",
       "2021-02-04 10:39:00  378.306122         NaN  \n",
       "2021-02-04 10:40:00         NaN  878.473755  \n",
       "2021-02-04 10:41:00  377.696350  882.439575  \n",
       "2021-02-04 10:42:00  379.114319  880.453613  \n",
       "2021-02-04 10:43:00  379.606689  880.346680  "
      ]
     },
     "execution_count": 7,
     "metadata": {},
     "output_type": "execute_result"
    }
   ],
   "source": [
    "power_df = get_data_section(client, '_power', st, et, uuid_dict, '1T')\n",
    "power_df = power_df.tz_convert(tz_local).tz_localize(None).resample('1T').mean()\n",
    "power_df.tail()"
   ]
  },
  {
   "cell_type": "code",
   "execution_count": 8,
   "metadata": {},
   "outputs": [
    {
     "data": {
      "text/html": [
       "<div>\n",
       "<style scoped>\n",
       "    .dataframe tbody tr th:only-of-type {\n",
       "        vertical-align: middle;\n",
       "    }\n",
       "\n",
       "    .dataframe tbody tr th {\n",
       "        vertical-align: top;\n",
       "    }\n",
       "\n",
       "    .dataframe thead th {\n",
       "        text-align: right;\n",
       "    }\n",
       "</style>\n",
       "<table border=\"1\" class=\"dataframe\">\n",
       "  <thead>\n",
       "    <tr style=\"text-align: right;\">\n",
       "      <th></th>\n",
       "      <th>building</th>\n",
       "      <th>freezer</th>\n",
       "      <th>ref_comp</th>\n",
       "      <th>ref_fan</th>\n",
       "      <th>hvac_west</th>\n",
       "      <th>hvac_east</th>\n",
       "    </tr>\n",
       "  </thead>\n",
       "  <tbody>\n",
       "    <tr>\n",
       "      <th>2020-12-20 20:17:00</th>\n",
       "      <td>37540.605469</td>\n",
       "      <td>3730.037109</td>\n",
       "      <td>12.259354</td>\n",
       "      <td>456.202637</td>\n",
       "      <td>2697.062256</td>\n",
       "      <td>2489.989014</td>\n",
       "    </tr>\n",
       "    <tr>\n",
       "      <th>2020-12-20 20:18:00</th>\n",
       "      <td>35754.347656</td>\n",
       "      <td>3765.550781</td>\n",
       "      <td>10.838198</td>\n",
       "      <td>216.461914</td>\n",
       "      <td>2698.007568</td>\n",
       "      <td>2497.940918</td>\n",
       "    </tr>\n",
       "    <tr>\n",
       "      <th>2020-12-20 20:19:00</th>\n",
       "      <td>NaN</td>\n",
       "      <td>NaN</td>\n",
       "      <td>NaN</td>\n",
       "      <td>NaN</td>\n",
       "      <td>NaN</td>\n",
       "      <td>2496.166016</td>\n",
       "    </tr>\n",
       "    <tr>\n",
       "      <th>2020-12-20 20:20:00</th>\n",
       "      <td>33648.566406</td>\n",
       "      <td>3734.262207</td>\n",
       "      <td>647.388672</td>\n",
       "      <td>457.444641</td>\n",
       "      <td>2697.855225</td>\n",
       "      <td>2499.256104</td>\n",
       "    </tr>\n",
       "    <tr>\n",
       "      <th>2020-12-20 20:21:00</th>\n",
       "      <td>33238.058594</td>\n",
       "      <td>3771.458252</td>\n",
       "      <td>9.301728</td>\n",
       "      <td>455.571136</td>\n",
       "      <td>NaN</td>\n",
       "      <td>NaN</td>\n",
       "    </tr>\n",
       "  </tbody>\n",
       "</table>\n",
       "</div>"
      ],
      "text/plain": [
       "                         building      freezer    ref_comp     ref_fan  \\\n",
       "2020-12-20 20:17:00  37540.605469  3730.037109   12.259354  456.202637   \n",
       "2020-12-20 20:18:00  35754.347656  3765.550781   10.838198  216.461914   \n",
       "2020-12-20 20:19:00           NaN          NaN         NaN         NaN   \n",
       "2020-12-20 20:20:00  33648.566406  3734.262207  647.388672  457.444641   \n",
       "2020-12-20 20:21:00  33238.058594  3771.458252    9.301728  455.571136   \n",
       "\n",
       "                       hvac_west    hvac_east  \n",
       "2020-12-20 20:17:00  2697.062256  2489.989014  \n",
       "2020-12-20 20:18:00  2698.007568  2497.940918  \n",
       "2020-12-20 20:19:00          NaN  2496.166016  \n",
       "2020-12-20 20:20:00  2697.855225  2499.256104  \n",
       "2020-12-20 20:21:00          NaN          NaN  "
      ]
     },
     "execution_count": 8,
     "metadata": {},
     "output_type": "execute_result"
    }
   ],
   "source": [
    "power_df.head()"
   ]
  },
  {
   "cell_type": "code",
   "execution_count": 24,
   "metadata": {},
   "outputs": [
    {
     "ename": "AttributeError",
     "evalue": "'function' object has no attribute 'savefig'",
     "output_type": "error",
     "traceback": [
      "\u001b[0;31m---------------------------------------------------------------------------\u001b[0m",
      "\u001b[0;31mAttributeError\u001b[0m                            Traceback (most recent call last)",
      "\u001b[0;32m<ipython-input-24-8d5db80c1211>\u001b[0m in \u001b[0;36m<module>\u001b[0;34m\u001b[0m\n\u001b[1;32m      1\u001b[0m \u001b[0mpower_df\u001b[0m\u001b[0;34m.\u001b[0m\u001b[0mbuilding\u001b[0m\u001b[0;34m.\u001b[0m\u001b[0mplot\u001b[0m\u001b[0;34m(\u001b[0m\u001b[0mfigsize\u001b[0m\u001b[0;34m=\u001b[0m\u001b[0;34m(\u001b[0m\u001b[0;36m20\u001b[0m\u001b[0;34m,\u001b[0m\u001b[0;36m10\u001b[0m\u001b[0;34m)\u001b[0m\u001b[0;34m,\u001b[0m \u001b[0mtitle\u001b[0m\u001b[0;34m=\u001b[0m\u001b[0;34m\"Building load (W)\"\u001b[0m\u001b[0;34m)\u001b[0m\u001b[0;34m\u001b[0m\u001b[0;34m\u001b[0m\u001b[0m\n\u001b[0;32m----> 2\u001b[0;31m \u001b[0mplt\u001b[0m\u001b[0;34m.\u001b[0m\u001b[0mget\u001b[0m\u001b[0;34m.\u001b[0m\u001b[0msavefig\u001b[0m\u001b[0;34m(\u001b[0m\u001b[0;34m'~/Desktop/building_load.png'\u001b[0m\u001b[0;34m)\u001b[0m\u001b[0;34m\u001b[0m\u001b[0;34m\u001b[0m\u001b[0m\n\u001b[0m",
      "\u001b[0;31mAttributeError\u001b[0m: 'function' object has no attribute 'savefig'"
     ]
    },
    {
     "data": {
      "image/png": "[encoded data removed]",
      "text/plain": [
       "<Figure size 1440x720 with 1 Axes>"
      ]
     },
     "metadata": {
      "needs_background": "light"
     },
     "output_type": "display_data"
    }
   ],
   "source": [
    "power_df.building.plot(figsize=(20,10), title=\"Building load (W)\")\n",
    "plt.savefig('~/Desktop/building_load.png')\n"
   ]
  },
  {
   "cell_type": "code",
   "execution_count": 10,
   "metadata": {},
   "outputs": [
    {
     "data": {
      "text/html": [
       "<div>\n",
       "<style scoped>\n",
       "    .dataframe tbody tr th:only-of-type {\n",
       "        vertical-align: middle;\n",
       "    }\n",
       "\n",
       "    .dataframe tbody tr th {\n",
       "        vertical-align: top;\n",
       "    }\n",
       "\n",
       "    .dataframe thead th {\n",
       "        text-align: right;\n",
       "    }\n",
       "</style>\n",
       "<table border=\"1\" class=\"dataframe\">\n",
       "  <thead>\n",
       "    <tr style=\"text-align: right;\">\n",
       "      <th></th>\n",
       "      <th>building</th>\n",
       "    </tr>\n",
       "  </thead>\n",
       "  <tbody>\n",
       "    <tr>\n",
       "      <th>2020-12-20 20:17:00</th>\n",
       "      <td>810403.6875</td>\n",
       "    </tr>\n",
       "    <tr>\n",
       "      <th>2020-12-20 20:18:00</th>\n",
       "      <td>810404.3750</td>\n",
       "    </tr>\n",
       "    <tr>\n",
       "      <th>2020-12-20 20:19:00</th>\n",
       "      <td>NaN</td>\n",
       "    </tr>\n",
       "    <tr>\n",
       "      <th>2020-12-20 20:20:00</th>\n",
       "      <td>810405.8750</td>\n",
       "    </tr>\n",
       "    <tr>\n",
       "      <th>2020-12-20 20:21:00</th>\n",
       "      <td>810406.5000</td>\n",
       "    </tr>\n",
       "  </tbody>\n",
       "</table>\n",
       "</div>"
      ],
      "text/plain": [
       "                        building\n",
       "2020-12-20 20:17:00  810403.6875\n",
       "2020-12-20 20:18:00  810404.3750\n",
       "2020-12-20 20:19:00          NaN\n",
       "2020-12-20 20:20:00  810405.8750\n",
       "2020-12-20 20:21:00  810406.5000"
      ]
     },
     "execution_count": 10,
     "metadata": {},
     "output_type": "execute_result"
    }
   ],
   "source": [
    "energy_df = get_data_section(client, '_energy', st, et, uuid_dict, '1T')\n",
    "energy_df = energy_df.tz_convert(tz_local).tz_localize(None).resample('1T').mean()\n",
    "energy_df.head()"
   ]
  },
  {
   "cell_type": "code",
   "execution_count": 15,
   "metadata": {},
   "outputs": [],
   "source": [
    "power_df.to_csv('sample_data/wattnode_power2.csv')"
   ]
  },
  {
   "cell_type": "code",
   "execution_count": 14,
   "metadata": {},
   "outputs": [],
   "source": [
    "energy_df.to_csv('sample_data/building_energy2.csv')"
   ]
  },
  {
   "cell_type": "code",
   "execution_count": 13,
   "metadata": {},
   "outputs": [
    {
     "data": {
      "text/html": [
       "<div>\n",
       "<style scoped>\n",
       "    .dataframe tbody tr th:only-of-type {\n",
       "        vertical-align: middle;\n",
       "    }\n",
       "\n",
       "    .dataframe tbody tr th {\n",
       "        vertical-align: top;\n",
       "    }\n",
       "\n",
       "    .dataframe thead th {\n",
       "        text-align: right;\n",
       "    }\n",
       "</style>\n",
       "<table border=\"1\" class=\"dataframe\">\n",
       "  <thead>\n",
       "    <tr style=\"text-align: right;\">\n",
       "      <th></th>\n",
       "      <th>building</th>\n",
       "      <th>freezer</th>\n",
       "      <th>ref_comp</th>\n",
       "      <th>ref_fan</th>\n",
       "      <th>hvac_west</th>\n",
       "      <th>hvac_east</th>\n",
       "    </tr>\n",
       "  </thead>\n",
       "  <tbody>\n",
       "    <tr>\n",
       "      <th>2020-12-20 19:56:00</th>\n",
       "      <td>NaN</td>\n",
       "      <td>NaN</td>\n",
       "      <td>NaN</td>\n",
       "      <td>455.539642</td>\n",
       "      <td>NaN</td>\n",
       "      <td>NaN</td>\n",
       "    </tr>\n",
       "    <tr>\n",
       "      <th>2020-12-20 19:57:00</th>\n",
       "      <td>39769.019531</td>\n",
       "      <td>3861.611084</td>\n",
       "      <td>14.329454</td>\n",
       "      <td>NaN</td>\n",
       "      <td>2655.876221</td>\n",
       "      <td>2485.716064</td>\n",
       "    </tr>\n",
       "    <tr>\n",
       "      <th>2020-12-20 19:58:00</th>\n",
       "      <td>41299.414062</td>\n",
       "      <td>3838.401367</td>\n",
       "      <td>8.543434</td>\n",
       "      <td>251.709503</td>\n",
       "      <td>2607.245361</td>\n",
       "      <td>2487.505371</td>\n",
       "    </tr>\n",
       "    <tr>\n",
       "      <th>2020-12-20 19:59:00</th>\n",
       "      <td>45942.398438</td>\n",
       "      <td>3881.792480</td>\n",
       "      <td>4272.770508</td>\n",
       "      <td>55.943836</td>\n",
       "      <td>2581.820312</td>\n",
       "      <td>2485.092773</td>\n",
       "    </tr>\n",
       "    <tr>\n",
       "      <th>2020-12-20 20:00:00</th>\n",
       "      <td>42471.945312</td>\n",
       "      <td>3813.294922</td>\n",
       "      <td>2682.222168</td>\n",
       "      <td>457.801270</td>\n",
       "      <td>2583.001221</td>\n",
       "      <td>2484.781738</td>\n",
       "    </tr>\n",
       "  </tbody>\n",
       "</table>\n",
       "</div>"
      ],
      "text/plain": [
       "                         building      freezer     ref_comp     ref_fan  \\\n",
       "2020-12-20 19:56:00           NaN          NaN          NaN  455.539642   \n",
       "2020-12-20 19:57:00  39769.019531  3861.611084    14.329454         NaN   \n",
       "2020-12-20 19:58:00  41299.414062  3838.401367     8.543434  251.709503   \n",
       "2020-12-20 19:59:00  45942.398438  3881.792480  4272.770508   55.943836   \n",
       "2020-12-20 20:00:00  42471.945312  3813.294922  2682.222168  457.801270   \n",
       "\n",
       "                       hvac_west    hvac_east  \n",
       "2020-12-20 19:56:00          NaN          NaN  \n",
       "2020-12-20 19:57:00  2655.876221  2485.716064  \n",
       "2020-12-20 19:58:00  2607.245361  2487.505371  \n",
       "2020-12-20 19:59:00  2581.820312  2485.092773  \n",
       "2020-12-20 20:00:00  2583.001221  2484.781738  "
      ]
     },
     "execution_count": 13,
     "metadata": {},
     "output_type": "execute_result"
    }
   ],
   "source": [
    "power_df.tail()"
   ]
  },
  {
   "cell_type": "code",
   "execution_count": 22,
   "metadata": {},
   "outputs": [],
   "source": [
    "power_df_list.append(power_df)"
   ]
  },
  {
   "cell_type": "code",
   "execution_count": 26,
   "metadata": {},
   "outputs": [],
   "source": [
    "pd.concat(power_df_list, axis=0).to_csv('sample_data/acuvim_meters.csv')"
   ]
  },
  {
   "cell_type": "code",
   "execution_count": 2,
   "metadata": {},
   "outputs": [],
   "source": [
    "rtac_df_list = []"
   ]
  },
  {
   "cell_type": "code",
   "execution_count": 14,
   "metadata": {},
   "outputs": [],
   "source": [
    "st = \"2020-12-01 00:00:00\"\n",
    "et = \"2020-12-30 23:59:59\""
   ]
  },
  {
   "cell_type": "code",
   "execution_count": 16,
   "metadata": {},
   "outputs": [
    {
     "data": {
      "text/html": [
       "<div>\n",
       "<style scoped>\n",
       "    .dataframe tbody tr th:only-of-type {\n",
       "        vertical-align: middle;\n",
       "    }\n",
       "\n",
       "    .dataframe tbody tr th {\n",
       "        vertical-align: top;\n",
       "    }\n",
       "\n",
       "    .dataframe thead th {\n",
       "        text-align: right;\n",
       "    }\n",
       "</style>\n",
       "<table border=\"1\" class=\"dataframe\">\n",
       "  <thead>\n",
       "    <tr style=\"text-align: right;\">\n",
       "      <th></th>\n",
       "      <th>bess_power</th>\n",
       "      <th>island_type</th>\n",
       "      <th>pv_generation</th>\n",
       "      <th>islanding_state</th>\n",
       "    </tr>\n",
       "  </thead>\n",
       "  <tbody>\n",
       "    <tr>\n",
       "      <th>2020-12-20 20:17:00</th>\n",
       "      <td>147.0</td>\n",
       "      <td>0.0</td>\n",
       "      <td>0.0</td>\n",
       "      <td>0.0</td>\n",
       "    </tr>\n",
       "    <tr>\n",
       "      <th>2020-12-20 20:18:00</th>\n",
       "      <td>146.0</td>\n",
       "      <td>0.0</td>\n",
       "      <td>0.0</td>\n",
       "      <td>0.0</td>\n",
       "    </tr>\n",
       "    <tr>\n",
       "      <th>2020-12-20 20:19:00</th>\n",
       "      <td>-1047.0</td>\n",
       "      <td>0.0</td>\n",
       "      <td>0.0</td>\n",
       "      <td>0.0</td>\n",
       "    </tr>\n",
       "    <tr>\n",
       "      <th>2020-12-20 20:20:00</th>\n",
       "      <td>156.0</td>\n",
       "      <td>0.0</td>\n",
       "      <td>0.0</td>\n",
       "      <td>0.0</td>\n",
       "    </tr>\n",
       "    <tr>\n",
       "      <th>2020-12-20 20:21:00</th>\n",
       "      <td>150.0</td>\n",
       "      <td>0.0</td>\n",
       "      <td>0.0</td>\n",
       "      <td>0.0</td>\n",
       "    </tr>\n",
       "  </tbody>\n",
       "</table>\n",
       "</div>"
      ],
      "text/plain": [
       "                     bess_power  island_type  pv_generation  islanding_state\n",
       "2020-12-20 20:17:00       147.0          0.0            0.0              0.0\n",
       "2020-12-20 20:18:00       146.0          0.0            0.0              0.0\n",
       "2020-12-20 20:19:00     -1047.0          0.0            0.0              0.0\n",
       "2020-12-20 20:20:00       156.0          0.0            0.0              0.0\n",
       "2020-12-20 20:21:00       150.0          0.0            0.0              0.0"
      ]
     },
     "execution_count": 16,
     "metadata": {},
     "output_type": "execute_result"
    }
   ],
   "source": [
    "rtac_df = get_data_section(client, '_rtac', st, et, uuid_dict, '1T')\n",
    "rtac_df = rtac_df.tz_convert(tz_local).tz_localize(None).resample('1T').mean()\n",
    "rtac_df.head()"
   ]
  },
  {
   "cell_type": "code",
   "execution_count": 17,
   "metadata": {},
   "outputs": [
    {
     "data": {
      "text/html": [
       "<div>\n",
       "<style scoped>\n",
       "    .dataframe tbody tr th:only-of-type {\n",
       "        vertical-align: middle;\n",
       "    }\n",
       "\n",
       "    .dataframe tbody tr th {\n",
       "        vertical-align: top;\n",
       "    }\n",
       "\n",
       "    .dataframe thead th {\n",
       "        text-align: right;\n",
       "    }\n",
       "</style>\n",
       "<table border=\"1\" class=\"dataframe\">\n",
       "  <thead>\n",
       "    <tr style=\"text-align: right;\">\n",
       "      <th></th>\n",
       "      <th>bess_power</th>\n",
       "      <th>island_type</th>\n",
       "      <th>pv_generation</th>\n",
       "      <th>islanding_state</th>\n",
       "    </tr>\n",
       "  </thead>\n",
       "  <tbody>\n",
       "    <tr>\n",
       "      <th>2021-02-04 10:41:00</th>\n",
       "      <td>8501.0</td>\n",
       "      <td>0.0</td>\n",
       "      <td>26237.349609</td>\n",
       "      <td>0.0</td>\n",
       "    </tr>\n",
       "    <tr>\n",
       "      <th>2021-02-04 10:42:00</th>\n",
       "      <td>9215.0</td>\n",
       "      <td>0.0</td>\n",
       "      <td>25811.072266</td>\n",
       "      <td>0.0</td>\n",
       "    </tr>\n",
       "    <tr>\n",
       "      <th>2021-02-04 10:43:00</th>\n",
       "      <td>4096.0</td>\n",
       "      <td>0.0</td>\n",
       "      <td>26492.837891</td>\n",
       "      <td>0.0</td>\n",
       "    </tr>\n",
       "    <tr>\n",
       "      <th>2021-02-04 10:44:00</th>\n",
       "      <td>3747.0</td>\n",
       "      <td>0.0</td>\n",
       "      <td>26336.908203</td>\n",
       "      <td>0.0</td>\n",
       "    </tr>\n",
       "    <tr>\n",
       "      <th>2021-02-04 10:45:00</th>\n",
       "      <td>1077.0</td>\n",
       "      <td>0.0</td>\n",
       "      <td>26221.646484</td>\n",
       "      <td>0.0</td>\n",
       "    </tr>\n",
       "  </tbody>\n",
       "</table>\n",
       "</div>"
      ],
      "text/plain": [
       "                     bess_power  island_type  pv_generation  islanding_state\n",
       "2021-02-04 10:41:00      8501.0          0.0   26237.349609              0.0\n",
       "2021-02-04 10:42:00      9215.0          0.0   25811.072266              0.0\n",
       "2021-02-04 10:43:00      4096.0          0.0   26492.837891              0.0\n",
       "2021-02-04 10:44:00      3747.0          0.0   26336.908203              0.0\n",
       "2021-02-04 10:45:00      1077.0          0.0   26221.646484              0.0"
      ]
     },
     "execution_count": 17,
     "metadata": {},
     "output_type": "execute_result"
    }
   ],
   "source": [
    "rtac_df.tail()"
   ]
  },
  {
   "cell_type": "code",
   "execution_count": 18,
   "metadata": {},
   "outputs": [],
   "source": [
    "rtac_df.to_csv(\"sample_data/rtac_meters2.csv\")"
   ]
  },
  {
   "cell_type": "code",
   "execution_count": 19,
   "metadata": {},
   "outputs": [
    {
     "data": {
      "text/plain": [
       "<matplotlib.axes._subplots.AxesSubplot at 0x7f8e1cc10c70>"
      ]
     },
     "execution_count": 19,
     "metadata": {},
     "output_type": "execute_result"
    },
    {
     "data": {
      "image/png": "[encoded data removed]",
      "text/plain": [
       "<Figure size 432x288 with 1 Axes>"
      ]
     },
     "metadata": {
      "needs_background": "light"
     },
     "output_type": "display_data"
    }
   ],
   "source": [
    "rtac_df.pv_generation.plot()"
   ]
  },
  {
   "cell_type": "code",
   "execution_count": 16,
   "metadata": {},
   "outputs": [
    {
     "ename": "NameError",
     "evalue": "name 'rtac_df_list' is not defined",
     "output_type": "error",
     "traceback": [
      "\u001b[0;31m---------------------------------------------------------------------------\u001b[0m",
      "\u001b[0;31mNameError\u001b[0m                                 Traceback (most recent call last)",
      "\u001b[0;32m<ipython-input-16-f31cdd45c1b0>\u001b[0m in \u001b[0;36m<module>\u001b[0;34m\u001b[0m\n\u001b[0;32m----> 1\u001b[0;31m \u001b[0mrtac_df_list\u001b[0m\u001b[0;34m.\u001b[0m\u001b[0mappend\u001b[0m\u001b[0;34m(\u001b[0m\u001b[0mrtac_df\u001b[0m\u001b[0;34m)\u001b[0m\u001b[0;34m\u001b[0m\u001b[0;34m\u001b[0m\u001b[0m\n\u001b[0m",
      "\u001b[0;31mNameError\u001b[0m: name 'rtac_df_list' is not defined"
     ]
    }
   ],
   "source": [
    "rtac_df_list.append(rtac_df)"
   ]
  },
  {
   "cell_type": "code",
   "execution_count": 20,
   "metadata": {},
   "outputs": [],
   "source": [
    "`pd.concat(rtac_df_list, axis=0).to_csv('sample_data/rtac_meters.csv')"
   ]
  },
  {
   "cell_type": "code",
   "execution_count": 6,
   "metadata": {},
   "outputs": [],
   "source": [
    "rtac_df['building_load'] = power_df['building']\n",
    "rtac_df.to_csv('sample_data/rtac.csv')"
   ]
  },
  {
   "cell_type": "code",
   "execution_count": 7,
   "metadata": {},
   "outputs": [
    {
     "data": {
      "text/html": [
       "<div>\n",
       "<style scoped>\n",
       "    .dataframe tbody tr th:only-of-type {\n",
       "        vertical-align: middle;\n",
       "    }\n",
       "\n",
       "    .dataframe tbody tr th {\n",
       "        vertical-align: top;\n",
       "    }\n",
       "\n",
       "    .dataframe thead th {\n",
       "        text-align: right;\n",
       "    }\n",
       "</style>\n",
       "<table border=\"1\" class=\"dataframe\">\n",
       "  <thead>\n",
       "    <tr style=\"text-align: right;\">\n",
       "      <th></th>\n",
       "      <th>bess_power</th>\n",
       "      <th>island_type</th>\n",
       "      <th>pv_generation</th>\n",
       "      <th>islanding_state</th>\n",
       "      <th>building_load</th>\n",
       "    </tr>\n",
       "  </thead>\n",
       "  <tbody>\n",
       "    <tr>\n",
       "      <th>2020-08-17 00:00:00</th>\n",
       "      <td>-5999.0</td>\n",
       "      <td>0.0</td>\n",
       "      <td>0.0</td>\n",
       "      <td>0.0</td>\n",
       "      <td>30382.558594</td>\n",
       "    </tr>\n",
       "    <tr>\n",
       "      <th>2020-08-17 00:01:00</th>\n",
       "      <td>-5576.0</td>\n",
       "      <td>0.0</td>\n",
       "      <td>0.0</td>\n",
       "      <td>0.0</td>\n",
       "      <td>27333.298828</td>\n",
       "    </tr>\n",
       "    <tr>\n",
       "      <th>2020-08-17 00:02:00</th>\n",
       "      <td>-5955.0</td>\n",
       "      <td>0.0</td>\n",
       "      <td>0.0</td>\n",
       "      <td>0.0</td>\n",
       "      <td>31749.375000</td>\n",
       "    </tr>\n",
       "    <tr>\n",
       "      <th>2020-08-17 00:03:00</th>\n",
       "      <td>-5953.0</td>\n",
       "      <td>0.0</td>\n",
       "      <td>0.0</td>\n",
       "      <td>0.0</td>\n",
       "      <td>NaN</td>\n",
       "    </tr>\n",
       "    <tr>\n",
       "      <th>2020-08-17 00:04:00</th>\n",
       "      <td>-5978.0</td>\n",
       "      <td>0.0</td>\n",
       "      <td>0.0</td>\n",
       "      <td>0.0</td>\n",
       "      <td>30705.521484</td>\n",
       "    </tr>\n",
       "    <tr>\n",
       "      <th>...</th>\n",
       "      <td>...</td>\n",
       "      <td>...</td>\n",
       "      <td>...</td>\n",
       "      <td>...</td>\n",
       "      <td>...</td>\n",
       "    </tr>\n",
       "    <tr>\n",
       "      <th>2020-08-20 23:55:00</th>\n",
       "      <td>-41964.0</td>\n",
       "      <td>0.0</td>\n",
       "      <td>0.0</td>\n",
       "      <td>0.0</td>\n",
       "      <td>NaN</td>\n",
       "    </tr>\n",
       "    <tr>\n",
       "      <th>2020-08-20 23:56:00</th>\n",
       "      <td>-42121.0</td>\n",
       "      <td>0.0</td>\n",
       "      <td>0.0</td>\n",
       "      <td>0.0</td>\n",
       "      <td>33545.230469</td>\n",
       "    </tr>\n",
       "    <tr>\n",
       "      <th>2020-08-20 23:57:00</th>\n",
       "      <td>-42183.0</td>\n",
       "      <td>0.0</td>\n",
       "      <td>0.0</td>\n",
       "      <td>0.0</td>\n",
       "      <td>33263.675781</td>\n",
       "    </tr>\n",
       "    <tr>\n",
       "      <th>2020-08-20 23:58:00</th>\n",
       "      <td>-42108.0</td>\n",
       "      <td>0.0</td>\n",
       "      <td>0.0</td>\n",
       "      <td>0.0</td>\n",
       "      <td>32824.781250</td>\n",
       "    </tr>\n",
       "    <tr>\n",
       "      <th>2020-08-20 23:59:00</th>\n",
       "      <td>-42147.0</td>\n",
       "      <td>0.0</td>\n",
       "      <td>0.0</td>\n",
       "      <td>0.0</td>\n",
       "      <td>39264.132812</td>\n",
       "    </tr>\n",
       "  </tbody>\n",
       "</table>\n",
       "<p>5760 rows × 5 columns</p>\n",
       "</div>"
      ],
      "text/plain": [
       "                     bess_power  island_type  pv_generation  islanding_state  \\\n",
       "2020-08-17 00:00:00     -5999.0          0.0            0.0              0.0   \n",
       "2020-08-17 00:01:00     -5576.0          0.0            0.0              0.0   \n",
       "2020-08-17 00:02:00     -5955.0          0.0            0.0              0.0   \n",
       "2020-08-17 00:03:00     -5953.0          0.0            0.0              0.0   \n",
       "2020-08-17 00:04:00     -5978.0          0.0            0.0              0.0   \n",
       "...                         ...          ...            ...              ...   \n",
       "2020-08-20 23:55:00    -41964.0          0.0            0.0              0.0   \n",
       "2020-08-20 23:56:00    -42121.0          0.0            0.0              0.0   \n",
       "2020-08-20 23:57:00    -42183.0          0.0            0.0              0.0   \n",
       "2020-08-20 23:58:00    -42108.0          0.0            0.0              0.0   \n",
       "2020-08-20 23:59:00    -42147.0          0.0            0.0              0.0   \n",
       "\n",
       "                     building_load  \n",
       "2020-08-17 00:00:00   30382.558594  \n",
       "2020-08-17 00:01:00   27333.298828  \n",
       "2020-08-17 00:02:00   31749.375000  \n",
       "2020-08-17 00:03:00            NaN  \n",
       "2020-08-17 00:04:00   30705.521484  \n",
       "...                            ...  \n",
       "2020-08-20 23:55:00            NaN  \n",
       "2020-08-20 23:56:00   33545.230469  \n",
       "2020-08-20 23:57:00   33263.675781  \n",
       "2020-08-20 23:58:00   32824.781250  \n",
       "2020-08-20 23:59:00   39264.132812  \n",
       "\n",
       "[5760 rows x 5 columns]"
      ]
     },
     "execution_count": 7,
     "metadata": {},
     "output_type": "execute_result"
    }
   ],
   "source": [
    "rtac_df"
   ]
  },
  {
   "cell_type": "code",
   "execution_count": null,
   "metadata": {},
   "outputs": [],
   "source": []
  }
 ],
 "metadata": {
  "kernelspec": {
   "display_name": "Python 3",
   "language": "python",
   "name": "python3"
  },
  "language_info": {
   "codemirror_mode": {
    "name": "ipython",
    "version": 3
   },
   "file_extension": ".py",
   "mimetype": "text/x-python",
   "name": "python",
   "nbconvert_exporter": "python",
   "pygments_lexer": "ipython3",
   "version": "3.8.3"
  }
 },
 "nbformat": 4,
 "nbformat_minor": 4
}
