{
 "cells": [
  {
   "cell_type": "code",
   "execution_count": 2,
   "metadata": {},
   "outputs": [],
   "source": [
    "from utils import *\n",
    "%matplotlib inline"
   ]
  },
  {
   "cell_type": "code",
   "execution_count": 9,
   "metadata": {},
   "outputs": [],
   "source": [
    "power_df_list = []"
   ]
  },
  {
   "cell_type": "code",
   "execution_count": 20,
   "metadata": {},
   "outputs": [],
   "source": [
    "st = \"2020-12-01 00:00:00\"\n",
    "et = \"2020-12-30 23:59:59\""
   ]
  },
  {
   "cell_type": "code",
   "execution_count": 21,
   "metadata": {},
   "outputs": [
    {
     "data": {
      "text/html": [
       "<div>\n",
       "<style scoped>\n",
       "    .dataframe tbody tr th:only-of-type {\n",
       "        vertical-align: middle;\n",
       "    }\n",
       "\n",
       "    .dataframe tbody tr th {\n",
       "        vertical-align: top;\n",
       "    }\n",
       "\n",
       "    .dataframe thead th {\n",
       "        text-align: right;\n",
       "    }\n",
       "</style>\n",
       "<table border=\"1\" class=\"dataframe\">\n",
       "  <thead>\n",
       "    <tr style=\"text-align: right;\">\n",
       "      <th></th>\n",
       "      <th>building</th>\n",
       "      <th>freezer</th>\n",
       "      <th>ref_comp</th>\n",
       "      <th>ref_fan</th>\n",
       "      <th>hvac_west</th>\n",
       "      <th>hvac_east</th>\n",
       "    </tr>\n",
       "  </thead>\n",
       "  <tbody>\n",
       "    <tr>\n",
       "      <th>2020-12-01 00:00:00</th>\n",
       "      <td>28402.929688</td>\n",
       "      <td>3761.668213</td>\n",
       "      <td>13.337038</td>\n",
       "      <td>43.140068</td>\n",
       "      <td>336.699951</td>\n",
       "      <td>810.276428</td>\n",
       "    </tr>\n",
       "    <tr>\n",
       "      <th>2020-12-01 00:01:00</th>\n",
       "      <td>33986.343750</td>\n",
       "      <td>3736.499512</td>\n",
       "      <td>4246.878906</td>\n",
       "      <td>42.183403</td>\n",
       "      <td>336.271851</td>\n",
       "      <td>809.517639</td>\n",
       "    </tr>\n",
       "    <tr>\n",
       "      <th>2020-12-01 00:02:00</th>\n",
       "      <td>NaN</td>\n",
       "      <td>3724.044434</td>\n",
       "      <td>3905.634277</td>\n",
       "      <td>460.360748</td>\n",
       "      <td>NaN</td>\n",
       "      <td>NaN</td>\n",
       "    </tr>\n",
       "    <tr>\n",
       "      <th>2020-12-01 00:03:00</th>\n",
       "      <td>33626.980469</td>\n",
       "      <td>NaN</td>\n",
       "      <td>NaN</td>\n",
       "      <td>NaN</td>\n",
       "      <td>336.534210</td>\n",
       "      <td>809.727905</td>\n",
       "    </tr>\n",
       "    <tr>\n",
       "      <th>2020-12-01 00:04:00</th>\n",
       "      <td>29933.537109</td>\n",
       "      <td>3721.269775</td>\n",
       "      <td>13.393645</td>\n",
       "      <td>455.376038</td>\n",
       "      <td>333.942108</td>\n",
       "      <td>810.967651</td>\n",
       "    </tr>\n",
       "  </tbody>\n",
       "</table>\n",
       "</div>"
      ],
      "text/plain": [
       "                         building      freezer     ref_comp     ref_fan  \\\n",
       "2020-12-01 00:00:00  28402.929688  3761.668213    13.337038   43.140068   \n",
       "2020-12-01 00:01:00  33986.343750  3736.499512  4246.878906   42.183403   \n",
       "2020-12-01 00:02:00           NaN  3724.044434  3905.634277  460.360748   \n",
       "2020-12-01 00:03:00  33626.980469          NaN          NaN         NaN   \n",
       "2020-12-01 00:04:00  29933.537109  3721.269775    13.393645  455.376038   \n",
       "\n",
       "                      hvac_west   hvac_east  \n",
       "2020-12-01 00:00:00  336.699951  810.276428  \n",
       "2020-12-01 00:01:00  336.271851  809.517639  \n",
       "2020-12-01 00:02:00         NaN         NaN  \n",
       "2020-12-01 00:03:00  336.534210  809.727905  \n",
       "2020-12-01 00:04:00  333.942108  810.967651  "
      ]
     },
     "execution_count": 21,
     "metadata": {},
     "output_type": "execute_result"
    }
   ],
   "source": [
    "power_df = get_data_section(client, '_power', st, et, uuid_dict, '1T')\n",
    "power_df = power_df.tz_convert(tz_local).tz_localize(None).resample('1T').mean()\n",
    "power_df.head()"
   ]
  },
  {
   "cell_type": "code",
   "execution_count": 22,
   "metadata": {},
   "outputs": [],
   "source": [
    "power_df_list.append(power_df)"
   ]
  },
  {
   "cell_type": "code",
   "execution_count": 26,
   "metadata": {},
   "outputs": [],
   "source": [
    "pd.concat(power_df_list, axis=0).to_csv('sample_data/acuvim_meters.csv')"
   ]
  },
  {
   "cell_type": "code",
   "execution_count": 27,
   "metadata": {},
   "outputs": [],
   "source": [
    "rtac_df_list = []"
   ]
  },
  {
   "cell_type": "code",
   "execution_count": 30,
   "metadata": {},
   "outputs": [],
   "source": [
    "st = \"2020-08-01 00:00:00\"\n",
    "et = \"2020-08-31 23:59:59\""
   ]
  },
  {
   "cell_type": "code",
   "execution_count": 31,
   "metadata": {},
   "outputs": [
    {
     "ename": "ValueError",
     "evalue": "No objects to concatenate",
     "output_type": "error",
     "traceback": [
      "\u001b[0;31m---------------------------------------------------------------------------\u001b[0m",
      "\u001b[0;31mValueError\u001b[0m                                Traceback (most recent call last)",
      "\u001b[0;32m<ipython-input-31-7ba3593b6c04>\u001b[0m in \u001b[0;36m<module>\u001b[0;34m\u001b[0m\n\u001b[0;32m----> 1\u001b[0;31m \u001b[0mrtac_df\u001b[0m \u001b[0;34m=\u001b[0m \u001b[0mget_data_section\u001b[0m\u001b[0;34m(\u001b[0m\u001b[0mclient\u001b[0m\u001b[0;34m,\u001b[0m \u001b[0;34m'_rtac'\u001b[0m\u001b[0;34m,\u001b[0m \u001b[0mst\u001b[0m\u001b[0;34m,\u001b[0m \u001b[0met\u001b[0m\u001b[0;34m,\u001b[0m \u001b[0muuid_dict\u001b[0m\u001b[0;34m,\u001b[0m \u001b[0;34m'1T'\u001b[0m\u001b[0;34m)\u001b[0m\u001b[0;34m\u001b[0m\u001b[0;34m\u001b[0m\u001b[0m\n\u001b[0m\u001b[1;32m      2\u001b[0m \u001b[0mrtac_df\u001b[0m \u001b[0;34m=\u001b[0m \u001b[0mrtac_df\u001b[0m\u001b[0;34m.\u001b[0m\u001b[0mtz_convert\u001b[0m\u001b[0;34m(\u001b[0m\u001b[0mtz_local\u001b[0m\u001b[0;34m)\u001b[0m\u001b[0;34m.\u001b[0m\u001b[0mtz_localize\u001b[0m\u001b[0;34m(\u001b[0m\u001b[0;32mNone\u001b[0m\u001b[0;34m)\u001b[0m\u001b[0;34m.\u001b[0m\u001b[0mresample\u001b[0m\u001b[0;34m(\u001b[0m\u001b[0;34m'1T'\u001b[0m\u001b[0;34m)\u001b[0m\u001b[0;34m.\u001b[0m\u001b[0mmean\u001b[0m\u001b[0;34m(\u001b[0m\u001b[0;34m)\u001b[0m\u001b[0;34m\u001b[0m\u001b[0;34m\u001b[0m\u001b[0m\n\u001b[1;32m      3\u001b[0m \u001b[0mrtac_df\u001b[0m\u001b[0;34m.\u001b[0m\u001b[0mhead\u001b[0m\u001b[0;34m(\u001b[0m\u001b[0;34m)\u001b[0m\u001b[0;34m\u001b[0m\u001b[0;34m\u001b[0m\u001b[0m\n",
      "\u001b[0;32m~/Programming/solar+/SolarPlus-Optimizer/data_analysis/utils.py\u001b[0m in \u001b[0;36mget_data_section\u001b[0;34m(client, endswith, st, et, uuid_dict, resample, current)\u001b[0m\n\u001b[1;32m    104\u001b[0m             \u001b[0mdf\u001b[0m \u001b[0;34m=\u001b[0m \u001b[0mdf\u001b[0m\u001b[0;34m.\u001b[0m\u001b[0mresample\u001b[0m\u001b[0;34m(\u001b[0m\u001b[0mresample\u001b[0m\u001b[0;34m)\u001b[0m\u001b[0;34m.\u001b[0m\u001b[0mmean\u001b[0m\u001b[0;34m(\u001b[0m\u001b[0;34m)\u001b[0m\u001b[0;34m\u001b[0m\u001b[0;34m\u001b[0m\u001b[0m\n\u001b[1;32m    105\u001b[0m             \u001b[0mdf_list\u001b[0m\u001b[0;34m.\u001b[0m\u001b[0mappend\u001b[0m\u001b[0;34m(\u001b[0m\u001b[0mdf\u001b[0m\u001b[0;34m)\u001b[0m\u001b[0;34m\u001b[0m\u001b[0;34m\u001b[0m\u001b[0m\n\u001b[0;32m--> 106\u001b[0;31m     \u001b[0;32mreturn\u001b[0m \u001b[0mpd\u001b[0m\u001b[0;34m.\u001b[0m\u001b[0mconcat\u001b[0m\u001b[0;34m(\u001b[0m\u001b[0mdf_list\u001b[0m\u001b[0;34m,\u001b[0m \u001b[0maxis\u001b[0m\u001b[0;34m=\u001b[0m\u001b[0;36m1\u001b[0m\u001b[0;34m)\u001b[0m\u001b[0;34m\u001b[0m\u001b[0;34m\u001b[0m\u001b[0m\n\u001b[0m",
      "\u001b[0;32m~/opt/anaconda3/lib/python3.8/site-packages/pandas/core/reshape/concat.py\u001b[0m in \u001b[0;36mconcat\u001b[0;34m(objs, axis, join, ignore_index, keys, levels, names, verify_integrity, sort, copy)\u001b[0m\n\u001b[1;32m    272\u001b[0m     \u001b[0mValueError\u001b[0m\u001b[0;34m:\u001b[0m \u001b[0mIndexes\u001b[0m \u001b[0mhave\u001b[0m \u001b[0moverlapping\u001b[0m \u001b[0mvalues\u001b[0m\u001b[0;34m:\u001b[0m \u001b[0;34m[\u001b[0m\u001b[0;34m'a'\u001b[0m\u001b[0;34m]\u001b[0m\u001b[0;34m\u001b[0m\u001b[0;34m\u001b[0m\u001b[0m\n\u001b[1;32m    273\u001b[0m     \"\"\"\n\u001b[0;32m--> 274\u001b[0;31m     op = _Concatenator(\n\u001b[0m\u001b[1;32m    275\u001b[0m         \u001b[0mobjs\u001b[0m\u001b[0;34m,\u001b[0m\u001b[0;34m\u001b[0m\u001b[0;34m\u001b[0m\u001b[0m\n\u001b[1;32m    276\u001b[0m         \u001b[0maxis\u001b[0m\u001b[0;34m=\u001b[0m\u001b[0maxis\u001b[0m\u001b[0;34m,\u001b[0m\u001b[0;34m\u001b[0m\u001b[0;34m\u001b[0m\u001b[0m\n",
      "\u001b[0;32m~/opt/anaconda3/lib/python3.8/site-packages/pandas/core/reshape/concat.py\u001b[0m in \u001b[0;36m__init__\u001b[0;34m(self, objs, axis, join, keys, levels, names, ignore_index, verify_integrity, copy, sort)\u001b[0m\n\u001b[1;32m    329\u001b[0m \u001b[0;34m\u001b[0m\u001b[0m\n\u001b[1;32m    330\u001b[0m         \u001b[0;32mif\u001b[0m \u001b[0mlen\u001b[0m\u001b[0;34m(\u001b[0m\u001b[0mobjs\u001b[0m\u001b[0;34m)\u001b[0m \u001b[0;34m==\u001b[0m \u001b[0;36m0\u001b[0m\u001b[0;34m:\u001b[0m\u001b[0;34m\u001b[0m\u001b[0;34m\u001b[0m\u001b[0m\n\u001b[0;32m--> 331\u001b[0;31m             \u001b[0;32mraise\u001b[0m \u001b[0mValueError\u001b[0m\u001b[0;34m(\u001b[0m\u001b[0;34m\"No objects to concatenate\"\u001b[0m\u001b[0;34m)\u001b[0m\u001b[0;34m\u001b[0m\u001b[0;34m\u001b[0m\u001b[0m\n\u001b[0m\u001b[1;32m    332\u001b[0m \u001b[0;34m\u001b[0m\u001b[0m\n\u001b[1;32m    333\u001b[0m         \u001b[0;32mif\u001b[0m \u001b[0mkeys\u001b[0m \u001b[0;32mis\u001b[0m \u001b[0;32mNone\u001b[0m\u001b[0;34m:\u001b[0m\u001b[0;34m\u001b[0m\u001b[0;34m\u001b[0m\u001b[0m\n",
      "\u001b[0;31mValueError\u001b[0m: No objects to concatenate"
     ]
    }
   ],
   "source": [
    "rtac_df = get_data_section(client, '_rtac', st, et, uuid_dict, '1T')\n",
    "rtac_df = rtac_df.tz_convert(tz_local).tz_localize(None).resample('1T').mean()\n",
    "rtac_df.head()"
   ]
  },
  {
   "cell_type": "code",
   "execution_count": null,
   "metadata": {},
   "outputs": [],
   "source": []
  },
  {
   "cell_type": "code",
   "execution_count": 6,
   "metadata": {},
   "outputs": [],
   "source": [
    "rtac_df['building_load'] = power_df['building']\n",
    "rtac_df.to_csv('sample_data/rtac.csv')"
   ]
  },
  {
   "cell_type": "code",
   "execution_count": 7,
   "metadata": {},
   "outputs": [
    {
     "data": {
      "text/html": [
       "<div>\n",
       "<style scoped>\n",
       "    .dataframe tbody tr th:only-of-type {\n",
       "        vertical-align: middle;\n",
       "    }\n",
       "\n",
       "    .dataframe tbody tr th {\n",
       "        vertical-align: top;\n",
       "    }\n",
       "\n",
       "    .dataframe thead th {\n",
       "        text-align: right;\n",
       "    }\n",
       "</style>\n",
       "<table border=\"1\" class=\"dataframe\">\n",
       "  <thead>\n",
       "    <tr style=\"text-align: right;\">\n",
       "      <th></th>\n",
       "      <th>bess_power</th>\n",
       "      <th>island_type</th>\n",
       "      <th>pv_generation</th>\n",
       "      <th>islanding_state</th>\n",
       "      <th>building_load</th>\n",
       "    </tr>\n",
       "  </thead>\n",
       "  <tbody>\n",
       "    <tr>\n",
       "      <th>2020-08-17 00:00:00</th>\n",
       "      <td>-5999.0</td>\n",
       "      <td>0.0</td>\n",
       "      <td>0.0</td>\n",
       "      <td>0.0</td>\n",
       "      <td>30382.558594</td>\n",
       "    </tr>\n",
       "    <tr>\n",
       "      <th>2020-08-17 00:01:00</th>\n",
       "      <td>-5576.0</td>\n",
       "      <td>0.0</td>\n",
       "      <td>0.0</td>\n",
       "      <td>0.0</td>\n",
       "      <td>27333.298828</td>\n",
       "    </tr>\n",
       "    <tr>\n",
       "      <th>2020-08-17 00:02:00</th>\n",
       "      <td>-5955.0</td>\n",
       "      <td>0.0</td>\n",
       "      <td>0.0</td>\n",
       "      <td>0.0</td>\n",
       "      <td>31749.375000</td>\n",
       "    </tr>\n",
       "    <tr>\n",
       "      <th>2020-08-17 00:03:00</th>\n",
       "      <td>-5953.0</td>\n",
       "      <td>0.0</td>\n",
       "      <td>0.0</td>\n",
       "      <td>0.0</td>\n",
       "      <td>NaN</td>\n",
       "    </tr>\n",
       "    <tr>\n",
       "      <th>2020-08-17 00:04:00</th>\n",
       "      <td>-5978.0</td>\n",
       "      <td>0.0</td>\n",
       "      <td>0.0</td>\n",
       "      <td>0.0</td>\n",
       "      <td>30705.521484</td>\n",
       "    </tr>\n",
       "    <tr>\n",
       "      <th>...</th>\n",
       "      <td>...</td>\n",
       "      <td>...</td>\n",
       "      <td>...</td>\n",
       "      <td>...</td>\n",
       "      <td>...</td>\n",
       "    </tr>\n",
       "    <tr>\n",
       "      <th>2020-08-20 23:55:00</th>\n",
       "      <td>-41964.0</td>\n",
       "      <td>0.0</td>\n",
       "      <td>0.0</td>\n",
       "      <td>0.0</td>\n",
       "      <td>NaN</td>\n",
       "    </tr>\n",
       "    <tr>\n",
       "      <th>2020-08-20 23:56:00</th>\n",
       "      <td>-42121.0</td>\n",
       "      <td>0.0</td>\n",
       "      <td>0.0</td>\n",
       "      <td>0.0</td>\n",
       "      <td>33545.230469</td>\n",
       "    </tr>\n",
       "    <tr>\n",
       "      <th>2020-08-20 23:57:00</th>\n",
       "      <td>-42183.0</td>\n",
       "      <td>0.0</td>\n",
       "      <td>0.0</td>\n",
       "      <td>0.0</td>\n",
       "      <td>33263.675781</td>\n",
       "    </tr>\n",
       "    <tr>\n",
       "      <th>2020-08-20 23:58:00</th>\n",
       "      <td>-42108.0</td>\n",
       "      <td>0.0</td>\n",
       "      <td>0.0</td>\n",
       "      <td>0.0</td>\n",
       "      <td>32824.781250</td>\n",
       "    </tr>\n",
       "    <tr>\n",
       "      <th>2020-08-20 23:59:00</th>\n",
       "      <td>-42147.0</td>\n",
       "      <td>0.0</td>\n",
       "      <td>0.0</td>\n",
       "      <td>0.0</td>\n",
       "      <td>39264.132812</td>\n",
       "    </tr>\n",
       "  </tbody>\n",
       "</table>\n",
       "<p>5760 rows × 5 columns</p>\n",
       "</div>"
      ],
      "text/plain": [
       "                     bess_power  island_type  pv_generation  islanding_state  \\\n",
       "2020-08-17 00:00:00     -5999.0          0.0            0.0              0.0   \n",
       "2020-08-17 00:01:00     -5576.0          0.0            0.0              0.0   \n",
       "2020-08-17 00:02:00     -5955.0          0.0            0.0              0.0   \n",
       "2020-08-17 00:03:00     -5953.0          0.0            0.0              0.0   \n",
       "2020-08-17 00:04:00     -5978.0          0.0            0.0              0.0   \n",
       "...                         ...          ...            ...              ...   \n",
       "2020-08-20 23:55:00    -41964.0          0.0            0.0              0.0   \n",
       "2020-08-20 23:56:00    -42121.0          0.0            0.0              0.0   \n",
       "2020-08-20 23:57:00    -42183.0          0.0            0.0              0.0   \n",
       "2020-08-20 23:58:00    -42108.0          0.0            0.0              0.0   \n",
       "2020-08-20 23:59:00    -42147.0          0.0            0.0              0.0   \n",
       "\n",
       "                     building_load  \n",
       "2020-08-17 00:00:00   30382.558594  \n",
       "2020-08-17 00:01:00   27333.298828  \n",
       "2020-08-17 00:02:00   31749.375000  \n",
       "2020-08-17 00:03:00            NaN  \n",
       "2020-08-17 00:04:00   30705.521484  \n",
       "...                            ...  \n",
       "2020-08-20 23:55:00            NaN  \n",
       "2020-08-20 23:56:00   33545.230469  \n",
       "2020-08-20 23:57:00   33263.675781  \n",
       "2020-08-20 23:58:00   32824.781250  \n",
       "2020-08-20 23:59:00   39264.132812  \n",
       "\n",
       "[5760 rows x 5 columns]"
      ]
     },
     "execution_count": 7,
     "metadata": {},
     "output_type": "execute_result"
    }
   ],
   "source": [
    "rtac_df"
   ]
  },
  {
   "cell_type": "code",
   "execution_count": null,
   "metadata": {},
   "outputs": [],
   "source": []
  }
 ],
 "metadata": {
  "kernelspec": {
   "display_name": "Python 3",
   "language": "python",
   "name": "python3"
  },
  "language_info": {
   "codemirror_mode": {
    "name": "ipython",
    "version": 3
   },
   "file_extension": ".py",
   "mimetype": "text/x-python",
   "name": "python",
   "nbconvert_exporter": "python",
   "pygments_lexer": "ipython3",
   "version": "3.8.3"
  }
 },
 "nbformat": 4,
 "nbformat_minor": 4
}
