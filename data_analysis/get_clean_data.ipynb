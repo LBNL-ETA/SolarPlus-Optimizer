{
 "cells": [
  {
   "cell_type": "code",
   "execution_count": 1,
   "metadata": {},
   "outputs": [],
   "source": [
    "import datetime\n",
    "import pandas as pd\n",
    "from influxdb import DataFrameClient\n",
    "import matplotlib\n",
    "import matplotlib.pyplot as plt\n",
    "import json\n",
    "import pytz\n",
    "import numpy as np\n",
    "import yaml\n",
    "\n",
    "\n",
    "import seaborn as sns\n",
    "import matplotlib.mlab as mlab\n",
    "plt.style.use('ggplot')\n",
    "from matplotlib.pyplot import figure\n",
    "\n",
    "%matplotlib inline"
   ]
  },
  {
   "cell_type": "code",
   "execution_count": null,
   "metadata": {},
   "outputs": [],
   "source": [
    "#important things: total building load, pv generation, (building_power), battery total stored vs current stored,\n",
    "#show that battery worked well, (how battery reacted to load)\n",
    "#Last Thursday, battery didn't respond\n",
    "#Outdoor temperature, how did systems resond?\n",
    "#matplotlib.plot, dataframe Column"
   ]
  },
  {
   "cell_type": "code",
   "execution_count": 2,
   "metadata": {},
   "outputs": [],
   "source": [
    "with open('config.yaml') as fp:\n",
    "    config = yaml.safe_load(fp)\n",
    "database_config = config.get('database')"
   ]
  },
  {
   "cell_type": "code",
   "execution_count": 3,
   "metadata": {},
   "outputs": [],
   "source": [
    "with open('uuid_map.json') as fp:\n",
    "    uuid_map = json.load(fp)"
   ]
  },
  {
   "cell_type": "code",
   "execution_count": 4,
   "metadata": {},
   "outputs": [],
   "source": [
    "client = DataFrameClient(\n",
    "    host=database_config.get('host'), \n",
    "    port=database_config.get('port'), \n",
    "    username=database_config.get('username'), \n",
    "    password=database_config.get('password'), \n",
    "    database=database_config.get('database'), \n",
    "    ssl=database_config.get('ssl'), \n",
    "    verify_ssl=database_config.get('verify_ssl')\n",
    ")"
   ]
  },
  {
   "cell_type": "code",
   "execution_count": null,
   "metadata": {},
   "outputs": [],
   "source": []
  },
  {
   "cell_type": "code",
   "execution_count": 6,
   "metadata": {},
   "outputs": [],
   "source": [
    "tz_local = pytz.timezone('America/Los_Angeles')\n",
    "tz_utc = pytz.timezone('UTC')"
   ]
  },
  {
   "cell_type": "code",
   "execution_count": 93,
   "metadata": {},
   "outputs": [],
   "source": [
    "uuid_dict = {\n",
    "    'building_power': uuid_map['xbos/wattnode/building_main/PowerSum'], #watts\n",
    "    'freezer_power': uuid_map['xbos/wattnode/fre_comp_evapfan/PowerSum'],\n",
    "    'ref_comp_power': uuid_map['xbos/wattnode/ref_comp/PowerSum'],\n",
    "    'ref_fan_power': uuid_map['xbos/wattnode/ref_evapfan/PowerSum'],\n",
    "    'hvac_west_power': uuid_map['xbos/wattnode/hvac_west_comp/PowerSum'],\n",
    "    'hvac_east_power': uuid_map['xbos/wattnode/hvac_east_comp/PowerSum'],\n",
    "    \n",
    "    'east_temperature': uuid_map['xbos/flexstat/thermostat_east/space_temp'], #F\n",
    "    'west_temperature': uuid_map['xbos/flexstat/thermostat_west/space_temp'],\n",
    "    'freezer_temperature': uuid_map['xbos/parker/freezer/CabinetTemperature'],\n",
    "    'ref_temperature': uuid_map['xbos/parker/refrigerator/CabinetTemperature'],\n",
    "    \n",
    "    'east_heating_sp': uuid_map['xbos/flexstat/thermostat_east/active_heating_setpt'], #F\n",
    "    'east_cooling_sp': uuid_map['xbos/flexstat/thermostat_east/active_cooling_setpt'],\n",
    "    'west_heating_sp': uuid_map['xbos/flexstat/thermostat_west/active_heating_setpt'],\n",
    "    'west_cooling_sp': uuid_map['xbos/flexstat/thermostat_west/active_cooling_setpt'],\n",
    "    'freezer_sp': uuid_map['xbos/parker/freezer/Setpoint'],\n",
    "    'ref_sp': uuid_map['xbos/parker/refrigerator/Setpoint'],\n",
    "    \n",
    "    'soc_battery': '0efc4fa5-755c-5c45-863a-c0c776ab7538', #0-1\n",
    "    'setpoint_battery': '276ea28f-0f74-5b3e-9ad1-f3b9f747dbe4', #watts\n",
    "    'pv_generation_battery': 'fdfd7bbb-d2da-5b11-a8fa-58b231ab9802', #watts\n",
    "    # below is real battery, above simulated\n",
    "    'total_capacity_battery': 'b55d3081-4678-55ec-9545-bbbcfd544c1f', #watt-hours; move to rtac because real values\n",
    "    'current_stored_energy_battery': 'b5619f4e-b83d-567c-a197-254d36a9e885',#watt-hours\n",
    "    \n",
    "    'oat_current': 'f7c1f2c8-c996-528c-ab3d-bdc96dc9cf72', #F\n",
    "    'humidity_current': '7967b372-2699-57e1-bc15-7861bfe6d024',#0-100%\n",
    "    'windspeed_current': 'ac555599-0403-5bea-8441-f39a4e8e0dac', # m/s\n",
    "    'cloudcover_current': '6cce3e9a-3822-551b-b13c-f4b874f3afa1', # 0-1, 1 being cloudy\n",
    "    'solar_current': 'd15979be-7a63-5230-9e7b-d068d9f40b08',    #watt/m^2\n",
    "    \n",
    "    'oat_forecast': '69be4db0-48f5-592f-b5a1-e2e695f28ad1', #as above, forecast predicts next 48 hours\n",
    "    'humidity_forecast': 'c2379487-3df3-5bfe-bd8d-5992d2381ed5',\n",
    "    'windspeed_forecast': '837d0588-b30a-56ee-920f-cf366fa0871f',\n",
    "    'cloudcover_forecast': '6f93857f-50a6-5b9f-8b94-0231f511b382',\n",
    "    'solar_forecast': 'a8357adb-c59d-5316-a0e8-51d2b2948c75',\n",
    "    \n",
    "    'price_energy_dr': '3be4c234-a38a-5e73-9d53-4503751592be', #$/kW*Hours\n",
    "    'price_demand_dr': '90928e8d-df40-5e75-9ddb-7ee444bc187f', #$/kW\n",
    "    'pmax_dr': '522605a9-77b1-57e3-9fac-06dd83ab8e89', #maximum power for mpc +999999, changes during demand response events\n",
    "    'pmin_dr': '6b42adf8-3a48-5ae7-bdc3-19226e602865' #min power, default is -999999\n",
    "    \n",
    "    'pv_generation_rtac': 'd4102860-1f55-5e14-b02d-8bdb9e987676', #Watts, real PV generation\n",
    "    'soc_rtac': '944a5aba-8c59-586e-af87-d95151596cf1' # real state of charge %\n",
    "}"
   ]
  },
  {
   "cell_type": "code",
   "execution_count": 8,
   "metadata": {},
   "outputs": [],
   "source": [
    "def parse_dt_utc(dt):\n",
    "    return tz_local.localize(datetime.datetime.strptime(dt, \"%Y-%m-%d %H:%M:%S\")).astimezone(tz_utc)"
   ]
  },
  {
   "cell_type": "code",
   "execution_count": 9,
   "metadata": {},
   "outputs": [],
   "source": [
    "def current_uuid_data(client, uuid, st, et, column_name):\n",
    "    st_utc = parse_dt_utc(st).strftime(\"%Y-%m-%dT%H:%M:%SZ\")\n",
    "    et_utc = parse_dt_utc(et).strftime(\"%Y-%m-%dT%H:%M:%SZ\")\n",
    "    query = \"select value from timeseries where \\\"uuid\\\" = '%s' and time>= '%s' and time <= '%s'\" % (uuid, st_utc, et_utc)\n",
    "    df = client.query(query)['timeseries']\n",
    "    df = df[['value']]\n",
    "    df.columns = [column_name]\n",
    "    return df"
   ]
  },
  {
   "cell_type": "code",
   "execution_count": 10,
   "metadata": {},
   "outputs": [],
   "source": [
    "def forecast_uuid_data(client, uuid, st, et, column_name):\n",
    "    st_utc = parse_dt_utc(st).strftime(\"%Y-%m-%dT%H:%M:%SZ\")\n",
    "    et_utc = parse_dt_utc(et).strftime(\"%Y-%m-%dT%H:%M:%SZ\")\n",
    "    query = \"select value from timeseries where \\\"uuid\\\" = '%s' and \\\"prediction_step\\\" = '1' and time>= '%s' and time <= '%s'\" % (uuid, st_utc, et_utc)\n",
    "    df = client.query(query)['timeseries']\n",
    "    df = df[['value']]\n",
    "    df.columns = [column_name]\n",
    "    return df"
   ]
  },
  {
   "cell_type": "code",
   "execution_count": 11,
   "metadata": {},
   "outputs": [],
   "source": [
    "def get_data_section(client, endswith, st, et, uuid_dict, resample='1T', current=True):\n",
    "    df_list = []\n",
    "    for variable in uuid_dict:\n",
    "        if variable.endswith(endswith):\n",
    "            uuid = uuid_dict[variable]\n",
    "            if current:\n",
    "                df = current_uuid_data(client, uuid, st, et, column_name=variable[:variable.rfind('_')])\n",
    "            else:\n",
    "                df = forecast_uuid_data(client, uuid, st, et, column_name=variable[:variable.rfind('_')])\n",
    "            df = df.resample(resample).mean()\n",
    "            df_list.append(df)\n",
    "    return pd.concat(df_list, axis=1)"
   ]
  },
  {
   "cell_type": "code",
   "execution_count": 12,
   "metadata": {},
   "outputs": [],
   "source": [
    "st = \"2020-08-21 00:00:00\"\n",
    "et = \"2020-08-21 23:59:59\""
   ]
  },
  {
   "cell_type": "code",
   "execution_count": 13,
   "metadata": {},
   "outputs": [
    {
     "data": {
      "text/html": [
       "<div>\n",
       "<style scoped>\n",
       "    .dataframe tbody tr th:only-of-type {\n",
       "        vertical-align: middle;\n",
       "    }\n",
       "\n",
       "    .dataframe tbody tr th {\n",
       "        vertical-align: top;\n",
       "    }\n",
       "\n",
       "    .dataframe thead th {\n",
       "        text-align: right;\n",
       "    }\n",
       "</style>\n",
       "<table border=\"1\" class=\"dataframe\">\n",
       "  <thead>\n",
       "    <tr style=\"text-align: right;\">\n",
       "      <th></th>\n",
       "      <th>building</th>\n",
       "      <th>freezer</th>\n",
       "      <th>ref_comp</th>\n",
       "      <th>ref_fan</th>\n",
       "      <th>hvac_west</th>\n",
       "      <th>hvac_east</th>\n",
       "      <th>total</th>\n",
       "    </tr>\n",
       "  </thead>\n",
       "  <tbody>\n",
       "    <tr>\n",
       "      <th>2020-08-21 00:00:00</th>\n",
       "      <td>36200.284538</td>\n",
       "      <td>3061.827464</td>\n",
       "      <td>1486.728420</td>\n",
       "      <td>300.399154</td>\n",
       "      <td>359.927419</td>\n",
       "      <td>6431.847656</td>\n",
       "      <td>47841.014650</td>\n",
       "    </tr>\n",
       "    <tr>\n",
       "      <th>2020-08-21 00:30:00</th>\n",
       "      <td>35563.311328</td>\n",
       "      <td>2966.010902</td>\n",
       "      <td>1250.628675</td>\n",
       "      <td>304.146858</td>\n",
       "      <td>359.809385</td>\n",
       "      <td>6455.518457</td>\n",
       "      <td>46899.425605</td>\n",
       "    </tr>\n",
       "    <tr>\n",
       "      <th>2020-08-21 01:00:00</th>\n",
       "      <td>32299.625781</td>\n",
       "      <td>2851.497018</td>\n",
       "      <td>1413.642105</td>\n",
       "      <td>294.074028</td>\n",
       "      <td>360.109544</td>\n",
       "      <td>3650.913055</td>\n",
       "      <td>40869.861532</td>\n",
       "    </tr>\n",
       "    <tr>\n",
       "      <th>2020-08-21 01:30:00</th>\n",
       "      <td>34951.085286</td>\n",
       "      <td>3144.843036</td>\n",
       "      <td>1398.562721</td>\n",
       "      <td>307.575460</td>\n",
       "      <td>359.828784</td>\n",
       "      <td>5662.229574</td>\n",
       "      <td>45824.124862</td>\n",
       "    </tr>\n",
       "    <tr>\n",
       "      <th>2020-08-21 02:00:00</th>\n",
       "      <td>37574.709115</td>\n",
       "      <td>3008.833957</td>\n",
       "      <td>1434.490931</td>\n",
       "      <td>294.359061</td>\n",
       "      <td>360.478386</td>\n",
       "      <td>6042.429242</td>\n",
       "      <td>48715.300692</td>\n",
       "    </tr>\n",
       "  </tbody>\n",
       "</table>\n",
       "</div>"
      ],
      "text/plain": [
       "                         building      freezer     ref_comp     ref_fan  \\\n",
       "2020-08-21 00:00:00  36200.284538  3061.827464  1486.728420  300.399154   \n",
       "2020-08-21 00:30:00  35563.311328  2966.010902  1250.628675  304.146858   \n",
       "2020-08-21 01:00:00  32299.625781  2851.497018  1413.642105  294.074028   \n",
       "2020-08-21 01:30:00  34951.085286  3144.843036  1398.562721  307.575460   \n",
       "2020-08-21 02:00:00  37574.709115  3008.833957  1434.490931  294.359061   \n",
       "\n",
       "                      hvac_west    hvac_east         total  \n",
       "2020-08-21 00:00:00  359.927419  6431.847656  47841.014650  \n",
       "2020-08-21 00:30:00  359.809385  6455.518457  46899.425605  \n",
       "2020-08-21 01:00:00  360.109544  3650.913055  40869.861532  \n",
       "2020-08-21 01:30:00  359.828784  5662.229574  45824.124862  \n",
       "2020-08-21 02:00:00  360.478386  6042.429242  48715.300692  "
      ]
     },
     "execution_count": 13,
     "metadata": {},
     "output_type": "execute_result"
    }
   ],
   "source": [
    "power_df = get_data_section(client, '_power', st, et, uuid_dict, '1T')\n",
    "power_df = power_df.tz_convert(tz_local).tz_localize(None).resample('1T').mean().interpolate('linear').resample('30T').mean()\n",
    "power_df.head()\n",
    "power_df['total']=power_df.sum(axis=1)\n",
    "power_df.head()\n"
   ]
  },
  {
   "cell_type": "code",
   "execution_count": 14,
   "metadata": {},
   "outputs": [
    {
     "data": {
      "text/html": [
       "<div>\n",
       "<style scoped>\n",
       "    .dataframe tbody tr th:only-of-type {\n",
       "        vertical-align: middle;\n",
       "    }\n",
       "\n",
       "    .dataframe tbody tr th {\n",
       "        vertical-align: top;\n",
       "    }\n",
       "\n",
       "    .dataframe thead th {\n",
       "        text-align: right;\n",
       "    }\n",
       "</style>\n",
       "<table border=\"1\" class=\"dataframe\">\n",
       "  <thead>\n",
       "    <tr style=\"text-align: right;\">\n",
       "      <th></th>\n",
       "      <th>east_heating</th>\n",
       "      <th>east_cooling</th>\n",
       "      <th>west_heating</th>\n",
       "      <th>west_cooling</th>\n",
       "      <th>freezer</th>\n",
       "      <th>ref</th>\n",
       "    </tr>\n",
       "  </thead>\n",
       "  <tbody>\n",
       "    <tr>\n",
       "      <th>2020-08-21 00:00:00</th>\n",
       "      <td>68.0</td>\n",
       "      <td>70.0</td>\n",
       "      <td>68</td>\n",
       "      <td>70</td>\n",
       "      <td>-7.0</td>\n",
       "      <td>33</td>\n",
       "    </tr>\n",
       "    <tr>\n",
       "      <th>2020-08-21 00:30:00</th>\n",
       "      <td>68.0</td>\n",
       "      <td>70.0</td>\n",
       "      <td>68</td>\n",
       "      <td>70</td>\n",
       "      <td>-7.0</td>\n",
       "      <td>33</td>\n",
       "    </tr>\n",
       "    <tr>\n",
       "      <th>2020-08-21 01:00:00</th>\n",
       "      <td>68.0</td>\n",
       "      <td>70.0</td>\n",
       "      <td>68</td>\n",
       "      <td>70</td>\n",
       "      <td>-7.0</td>\n",
       "      <td>33</td>\n",
       "    </tr>\n",
       "    <tr>\n",
       "      <th>2020-08-21 01:30:00</th>\n",
       "      <td>68.0</td>\n",
       "      <td>70.0</td>\n",
       "      <td>68</td>\n",
       "      <td>70</td>\n",
       "      <td>-7.0</td>\n",
       "      <td>33</td>\n",
       "    </tr>\n",
       "    <tr>\n",
       "      <th>2020-08-21 02:00:00</th>\n",
       "      <td>68.0</td>\n",
       "      <td>70.0</td>\n",
       "      <td>68</td>\n",
       "      <td>70</td>\n",
       "      <td>-7.0</td>\n",
       "      <td>33</td>\n",
       "    </tr>\n",
       "  </tbody>\n",
       "</table>\n",
       "</div>"
      ],
      "text/plain": [
       "                     east_heating  east_cooling  west_heating  west_cooling  \\\n",
       "2020-08-21 00:00:00          68.0          70.0            68            70   \n",
       "2020-08-21 00:30:00          68.0          70.0            68            70   \n",
       "2020-08-21 01:00:00          68.0          70.0            68            70   \n",
       "2020-08-21 01:30:00          68.0          70.0            68            70   \n",
       "2020-08-21 02:00:00          68.0          70.0            68            70   \n",
       "\n",
       "                     freezer  ref  \n",
       "2020-08-21 00:00:00     -7.0   33  \n",
       "2020-08-21 00:30:00     -7.0   33  \n",
       "2020-08-21 01:00:00     -7.0   33  \n",
       "2020-08-21 01:30:00     -7.0   33  \n",
       "2020-08-21 02:00:00     -7.0   33  "
      ]
     },
     "execution_count": 14,
     "metadata": {},
     "output_type": "execute_result"
    }
   ],
   "source": [
    "setpoint_df = get_data_section(client, '_sp', st, et, uuid_dict, '1T')\n",
    "setpoint_df = setpoint_df.tz_convert(tz_local).tz_localize(None).resample('1T').mean().interpolate('linear').resample('30T').mean()\n",
    "setpoint_df.head()"
   ]
  },
  {
   "cell_type": "code",
   "execution_count": 15,
   "metadata": {},
   "outputs": [
    {
     "data": {
      "text/html": [
       "<div>\n",
       "<style scoped>\n",
       "    .dataframe tbody tr th:only-of-type {\n",
       "        vertical-align: middle;\n",
       "    }\n",
       "\n",
       "    .dataframe tbody tr th {\n",
       "        vertical-align: top;\n",
       "    }\n",
       "\n",
       "    .dataframe thead th {\n",
       "        text-align: right;\n",
       "    }\n",
       "</style>\n",
       "<table border=\"1\" class=\"dataframe\">\n",
       "  <thead>\n",
       "    <tr style=\"text-align: right;\">\n",
       "      <th></th>\n",
       "      <th>east</th>\n",
       "      <th>west</th>\n",
       "      <th>freezer</th>\n",
       "      <th>ref</th>\n",
       "    </tr>\n",
       "  </thead>\n",
       "  <tbody>\n",
       "    <tr>\n",
       "      <th>2020-08-21 00:00:00</th>\n",
       "      <td>70.796666</td>\n",
       "      <td>68.649665</td>\n",
       "      <td>-5.200000</td>\n",
       "      <td>34.400000</td>\n",
       "    </tr>\n",
       "    <tr>\n",
       "      <th>2020-08-21 00:30:00</th>\n",
       "      <td>70.605665</td>\n",
       "      <td>68.636999</td>\n",
       "      <td>-5.233333</td>\n",
       "      <td>34.400000</td>\n",
       "    </tr>\n",
       "    <tr>\n",
       "      <th>2020-08-21 01:00:00</th>\n",
       "      <td>70.350332</td>\n",
       "      <td>68.399333</td>\n",
       "      <td>-5.366667</td>\n",
       "      <td>34.366667</td>\n",
       "    </tr>\n",
       "    <tr>\n",
       "      <th>2020-08-21 01:30:00</th>\n",
       "      <td>70.637666</td>\n",
       "      <td>68.900998</td>\n",
       "      <td>-5.200000</td>\n",
       "      <td>34.366667</td>\n",
       "    </tr>\n",
       "    <tr>\n",
       "      <th>2020-08-21 02:00:00</th>\n",
       "      <td>70.920999</td>\n",
       "      <td>68.915998</td>\n",
       "      <td>-5.433333</td>\n",
       "      <td>34.300000</td>\n",
       "    </tr>\n",
       "  </tbody>\n",
       "</table>\n",
       "</div>"
      ],
      "text/plain": [
       "                          east       west   freezer        ref\n",
       "2020-08-21 00:00:00  70.796666  68.649665 -5.200000  34.400000\n",
       "2020-08-21 00:30:00  70.605665  68.636999 -5.233333  34.400000\n",
       "2020-08-21 01:00:00  70.350332  68.399333 -5.366667  34.366667\n",
       "2020-08-21 01:30:00  70.637666  68.900998 -5.200000  34.366667\n",
       "2020-08-21 02:00:00  70.920999  68.915998 -5.433333  34.300000"
      ]
     },
     "execution_count": 15,
     "metadata": {},
     "output_type": "execute_result"
    }
   ],
   "source": [
    "temperature_df = get_data_section(client, '_temperature', st, et, uuid_dict, '1T')\n",
    "temperature_df = temperature_df.tz_convert(tz_local).tz_localize(None).resample('1T').mean().interpolate('linear').resample('30T').mean()\n",
    "temperature_df.head()"
   ]
  },
  {
   "cell_type": "code",
   "execution_count": 16,
   "metadata": {},
   "outputs": [
    {
     "data": {
      "text/html": [
       "<div>\n",
       "<style scoped>\n",
       "    .dataframe tbody tr th:only-of-type {\n",
       "        vertical-align: middle;\n",
       "    }\n",
       "\n",
       "    .dataframe tbody tr th {\n",
       "        vertical-align: top;\n",
       "    }\n",
       "\n",
       "    .dataframe thead th {\n",
       "        text-align: right;\n",
       "    }\n",
       "</style>\n",
       "<table border=\"1\" class=\"dataframe\">\n",
       "  <thead>\n",
       "    <tr style=\"text-align: right;\">\n",
       "      <th></th>\n",
       "      <th>soc</th>\n",
       "      <th>setpoint</th>\n",
       "      <th>pv_generation</th>\n",
       "      <th>total_capacity</th>\n",
       "      <th>current_stored_energy</th>\n",
       "    </tr>\n",
       "  </thead>\n",
       "  <tbody>\n",
       "    <tr>\n",
       "      <th>2020-08-21 00:00:00</th>\n",
       "      <td>0.454153</td>\n",
       "      <td>0</td>\n",
       "      <td>0.0</td>\n",
       "      <td>159876.766667</td>\n",
       "      <td>127738.533333</td>\n",
       "    </tr>\n",
       "    <tr>\n",
       "      <th>2020-08-21 00:30:00</th>\n",
       "      <td>0.454153</td>\n",
       "      <td>0</td>\n",
       "      <td>0.0</td>\n",
       "      <td>165389.733333</td>\n",
       "      <td>149702.333333</td>\n",
       "    </tr>\n",
       "    <tr>\n",
       "      <th>2020-08-21 01:00:00</th>\n",
       "      <td>0.454153</td>\n",
       "      <td>0</td>\n",
       "      <td>0.0</td>\n",
       "      <td>137827.566667</td>\n",
       "      <td>129934.766667</td>\n",
       "    </tr>\n",
       "    <tr>\n",
       "      <th>2020-08-21 01:30:00</th>\n",
       "      <td>0.454153</td>\n",
       "      <td>0</td>\n",
       "      <td>0.0</td>\n",
       "      <td>165363.933333</td>\n",
       "      <td>155935.666667</td>\n",
       "    </tr>\n",
       "    <tr>\n",
       "      <th>2020-08-21 02:00:00</th>\n",
       "      <td>0.454153</td>\n",
       "      <td>0</td>\n",
       "      <td>0.0</td>\n",
       "      <td>104718.966667</td>\n",
       "      <td>98583.200000</td>\n",
       "    </tr>\n",
       "  </tbody>\n",
       "</table>\n",
       "</div>"
      ],
      "text/plain": [
       "                          soc  setpoint  pv_generation  total_capacity  \\\n",
       "2020-08-21 00:00:00  0.454153         0            0.0   159876.766667   \n",
       "2020-08-21 00:30:00  0.454153         0            0.0   165389.733333   \n",
       "2020-08-21 01:00:00  0.454153         0            0.0   137827.566667   \n",
       "2020-08-21 01:30:00  0.454153         0            0.0   165363.933333   \n",
       "2020-08-21 02:00:00  0.454153         0            0.0   104718.966667   \n",
       "\n",
       "                     current_stored_energy  \n",
       "2020-08-21 00:00:00          127738.533333  \n",
       "2020-08-21 00:30:00          149702.333333  \n",
       "2020-08-21 01:00:00          129934.766667  \n",
       "2020-08-21 01:30:00          155935.666667  \n",
       "2020-08-21 02:00:00           98583.200000  "
      ]
     },
     "execution_count": 16,
     "metadata": {},
     "output_type": "execute_result"
    }
   ],
   "source": [
    "battery_df = get_data_section(client, '_battery', st, et, uuid_dict, '1T')\n",
    "battery_df = battery_df.tz_convert(tz_local).tz_localize(None).resample('1T').mean().interpolate('linear').resample('30T').mean()\n",
    "battery_df.head()"
   ]
  },
  {
   "cell_type": "code",
   "execution_count": 94,
   "metadata": {},
   "outputs": [
    {
     "data": {
      "text/html": [
       "<div>\n",
       "<style scoped>\n",
       "    .dataframe tbody tr th:only-of-type {\n",
       "        vertical-align: middle;\n",
       "    }\n",
       "\n",
       "    .dataframe tbody tr th {\n",
       "        vertical-align: top;\n",
       "    }\n",
       "\n",
       "    .dataframe thead th {\n",
       "        text-align: right;\n",
       "    }\n",
       "</style>\n",
       "<table border=\"1\" class=\"dataframe\">\n",
       "  <thead>\n",
       "    <tr style=\"text-align: right;\">\n",
       "      <th></th>\n",
       "      <th>oat</th>\n",
       "      <th>humidity</th>\n",
       "      <th>windspeed</th>\n",
       "      <th>cloudcover</th>\n",
       "      <th>solar</th>\n",
       "    </tr>\n",
       "  </thead>\n",
       "  <tbody>\n",
       "    <tr>\n",
       "      <th>2020-08-21 07:13:00+00:00</th>\n",
       "      <td>61.65</td>\n",
       "      <td>82.0</td>\n",
       "      <td>2.77</td>\n",
       "      <td>0.21</td>\n",
       "      <td>0.0</td>\n",
       "    </tr>\n",
       "    <tr>\n",
       "      <th>2020-08-21 07:14:00+00:00</th>\n",
       "      <td>NaN</td>\n",
       "      <td>NaN</td>\n",
       "      <td>NaN</td>\n",
       "      <td>NaN</td>\n",
       "      <td>NaN</td>\n",
       "    </tr>\n",
       "    <tr>\n",
       "      <th>2020-08-21 07:15:00+00:00</th>\n",
       "      <td>NaN</td>\n",
       "      <td>NaN</td>\n",
       "      <td>NaN</td>\n",
       "      <td>NaN</td>\n",
       "      <td>NaN</td>\n",
       "    </tr>\n",
       "    <tr>\n",
       "      <th>2020-08-21 07:16:00+00:00</th>\n",
       "      <td>NaN</td>\n",
       "      <td>NaN</td>\n",
       "      <td>NaN</td>\n",
       "      <td>NaN</td>\n",
       "      <td>NaN</td>\n",
       "    </tr>\n",
       "    <tr>\n",
       "      <th>2020-08-21 07:17:00+00:00</th>\n",
       "      <td>NaN</td>\n",
       "      <td>NaN</td>\n",
       "      <td>NaN</td>\n",
       "      <td>NaN</td>\n",
       "      <td>NaN</td>\n",
       "    </tr>\n",
       "  </tbody>\n",
       "</table>\n",
       "</div>"
      ],
      "text/plain": [
       "                             oat  humidity  windspeed  cloudcover  solar\n",
       "2020-08-21 07:13:00+00:00  61.65      82.0       2.77        0.21    0.0\n",
       "2020-08-21 07:14:00+00:00    NaN       NaN        NaN         NaN    NaN\n",
       "2020-08-21 07:15:00+00:00    NaN       NaN        NaN         NaN    NaN\n",
       "2020-08-21 07:16:00+00:00    NaN       NaN        NaN         NaN    NaN\n",
       "2020-08-21 07:17:00+00:00    NaN       NaN        NaN         NaN    NaN"
      ]
     },
     "execution_count": 94,
     "metadata": {},
     "output_type": "execute_result"
    }
   ],
   "source": [
    "weather_df = get_data_section(client, '_current', st, et, uuid_dict, '1T')\n",
    "weather_df = weather_df.tz_convert(tz_local).tz_localize(None).resample('1T').mean().interpolate('linear').resample('30T').mean()\n",
    "weather_df.head()"
   ]
  },
  {
   "cell_type": "code",
   "execution_count": 18,
   "metadata": {},
   "outputs": [
    {
     "data": {
      "text/html": [
       "<div>\n",
       "<style scoped>\n",
       "    .dataframe tbody tr th:only-of-type {\n",
       "        vertical-align: middle;\n",
       "    }\n",
       "\n",
       "    .dataframe tbody tr th {\n",
       "        vertical-align: top;\n",
       "    }\n",
       "\n",
       "    .dataframe thead th {\n",
       "        text-align: right;\n",
       "    }\n",
       "</style>\n",
       "<table border=\"1\" class=\"dataframe\">\n",
       "  <thead>\n",
       "    <tr style=\"text-align: right;\">\n",
       "      <th></th>\n",
       "      <th>pv_generation</th>\n",
       "      <th>soc</th>\n",
       "    </tr>\n",
       "  </thead>\n",
       "  <tbody>\n",
       "    <tr>\n",
       "      <th>2020-08-21 00:00:00</th>\n",
       "      <td>0.0</td>\n",
       "      <td>0.772349</td>\n",
       "    </tr>\n",
       "    <tr>\n",
       "      <th>2020-08-21 00:30:00</th>\n",
       "      <td>0.0</td>\n",
       "      <td>0.905149</td>\n",
       "    </tr>\n",
       "    <tr>\n",
       "      <th>2020-08-21 01:00:00</th>\n",
       "      <td>0.0</td>\n",
       "      <td>0.785612</td>\n",
       "    </tr>\n",
       "    <tr>\n",
       "      <th>2020-08-21 01:30:00</th>\n",
       "      <td>0.0</td>\n",
       "      <td>0.942985</td>\n",
       "    </tr>\n",
       "    <tr>\n",
       "      <th>2020-08-21 02:00:00</th>\n",
       "      <td>0.0</td>\n",
       "      <td>0.596225</td>\n",
       "    </tr>\n",
       "  </tbody>\n",
       "</table>\n",
       "</div>"
      ],
      "text/plain": [
       "                     pv_generation       soc\n",
       "2020-08-21 00:00:00            0.0  0.772349\n",
       "2020-08-21 00:30:00            0.0  0.905149\n",
       "2020-08-21 01:00:00            0.0  0.785612\n",
       "2020-08-21 01:30:00            0.0  0.942985\n",
       "2020-08-21 02:00:00            0.0  0.596225"
      ]
     },
     "execution_count": 18,
     "metadata": {},
     "output_type": "execute_result"
    }
   ],
   "source": [
    "rtac_df = get_data_section(client, '_rtac', st, et, uuid_dict, '1T')\n",
    "rtac_df = rtac_df.tz_convert(tz_local).tz_localize(None).resample('1T').mean().interpolate('linear').resample('30T').mean()\n",
    "rtac_df.head()"
   ]
  },
  {
   "cell_type": "code",
   "execution_count": 19,
   "metadata": {},
   "outputs": [
    {
     "data": {
      "text/html": [
       "<div>\n",
       "<style scoped>\n",
       "    .dataframe tbody tr th:only-of-type {\n",
       "        vertical-align: middle;\n",
       "    }\n",
       "\n",
       "    .dataframe tbody tr th {\n",
       "        vertical-align: top;\n",
       "    }\n",
       "\n",
       "    .dataframe thead th {\n",
       "        text-align: right;\n",
       "    }\n",
       "</style>\n",
       "<table border=\"1\" class=\"dataframe\">\n",
       "  <thead>\n",
       "    <tr style=\"text-align: right;\">\n",
       "      <th></th>\n",
       "      <th>price_energy</th>\n",
       "      <th>price_demand</th>\n",
       "      <th>pmax</th>\n",
       "      <th>pmin</th>\n",
       "    </tr>\n",
       "  </thead>\n",
       "  <tbody>\n",
       "    <tr>\n",
       "      <th>2020-08-21 00:00:00</th>\n",
       "      <td>0.04026</td>\n",
       "      <td>0.0</td>\n",
       "      <td>999999</td>\n",
       "      <td>-999999</td>\n",
       "    </tr>\n",
       "    <tr>\n",
       "      <th>2020-08-21 00:01:00</th>\n",
       "      <td>0.04026</td>\n",
       "      <td>0.0</td>\n",
       "      <td>999999</td>\n",
       "      <td>-999999</td>\n",
       "    </tr>\n",
       "    <tr>\n",
       "      <th>2020-08-21 00:02:00</th>\n",
       "      <td>0.04026</td>\n",
       "      <td>0.0</td>\n",
       "      <td>999999</td>\n",
       "      <td>-999999</td>\n",
       "    </tr>\n",
       "    <tr>\n",
       "      <th>2020-08-21 00:03:00</th>\n",
       "      <td>0.04026</td>\n",
       "      <td>0.0</td>\n",
       "      <td>999999</td>\n",
       "      <td>-999999</td>\n",
       "    </tr>\n",
       "    <tr>\n",
       "      <th>2020-08-21 00:04:00</th>\n",
       "      <td>0.04026</td>\n",
       "      <td>0.0</td>\n",
       "      <td>999999</td>\n",
       "      <td>-999999</td>\n",
       "    </tr>\n",
       "  </tbody>\n",
       "</table>\n",
       "</div>"
      ],
      "text/plain": [
       "                     price_energy  price_demand    pmax    pmin\n",
       "2020-08-21 00:00:00       0.04026           0.0  999999 -999999\n",
       "2020-08-21 00:01:00       0.04026           0.0  999999 -999999\n",
       "2020-08-21 00:02:00       0.04026           0.0  999999 -999999\n",
       "2020-08-21 00:03:00       0.04026           0.0  999999 -999999\n",
       "2020-08-21 00:04:00       0.04026           0.0  999999 -999999"
      ]
     },
     "execution_count": 19,
     "metadata": {},
     "output_type": "execute_result"
    }
   ],
   "source": [
    "dr_df = get_data_section(client, '_dr', st, et, uuid_dict, '60T', current=False)\n",
    "dr_df = dr_df.tz_convert(tz_local).tz_localize(None).resample('1T').fillna(method='ffill')\n",
    "dr_df.head()"
   ]
  },
  {
   "cell_type": "code",
   "execution_count": 20,
   "metadata": {},
   "outputs": [
    {
     "data": {
      "text/html": [
       "<div>\n",
       "<style scoped>\n",
       "    .dataframe tbody tr th:only-of-type {\n",
       "        vertical-align: middle;\n",
       "    }\n",
       "\n",
       "    .dataframe tbody tr th {\n",
       "        vertical-align: top;\n",
       "    }\n",
       "\n",
       "    .dataframe thead th {\n",
       "        text-align: right;\n",
       "    }\n",
       "</style>\n",
       "<table border=\"1\" class=\"dataframe\">\n",
       "  <thead>\n",
       "    <tr style=\"text-align: right;\">\n",
       "      <th></th>\n",
       "      <th>soc</th>\n",
       "      <th>setpoint</th>\n",
       "      <th>pv_generation</th>\n",
       "      <th>total_capacity</th>\n",
       "      <th>current_stored_energy</th>\n",
       "    </tr>\n",
       "  </thead>\n",
       "  <tbody>\n",
       "    <tr>\n",
       "      <th>2020-08-21 00:00:00</th>\n",
       "      <td>0.454153</td>\n",
       "      <td>0</td>\n",
       "      <td>0.0</td>\n",
       "      <td>159876.766667</td>\n",
       "      <td>127738.533333</td>\n",
       "    </tr>\n",
       "    <tr>\n",
       "      <th>2020-08-21 00:30:00</th>\n",
       "      <td>0.454153</td>\n",
       "      <td>0</td>\n",
       "      <td>0.0</td>\n",
       "      <td>165389.733333</td>\n",
       "      <td>149702.333333</td>\n",
       "    </tr>\n",
       "    <tr>\n",
       "      <th>2020-08-21 01:00:00</th>\n",
       "      <td>0.454153</td>\n",
       "      <td>0</td>\n",
       "      <td>0.0</td>\n",
       "      <td>137827.566667</td>\n",
       "      <td>129934.766667</td>\n",
       "    </tr>\n",
       "    <tr>\n",
       "      <th>2020-08-21 01:30:00</th>\n",
       "      <td>0.454153</td>\n",
       "      <td>0</td>\n",
       "      <td>0.0</td>\n",
       "      <td>165363.933333</td>\n",
       "      <td>155935.666667</td>\n",
       "    </tr>\n",
       "    <tr>\n",
       "      <th>2020-08-21 02:00:00</th>\n",
       "      <td>0.454153</td>\n",
       "      <td>0</td>\n",
       "      <td>0.0</td>\n",
       "      <td>104718.966667</td>\n",
       "      <td>98583.200000</td>\n",
       "    </tr>\n",
       "  </tbody>\n",
       "</table>\n",
       "</div>"
      ],
      "text/plain": [
       "                          soc  setpoint  pv_generation  total_capacity  \\\n",
       "2020-08-21 00:00:00  0.454153         0            0.0   159876.766667   \n",
       "2020-08-21 00:30:00  0.454153         0            0.0   165389.733333   \n",
       "2020-08-21 01:00:00  0.454153         0            0.0   137827.566667   \n",
       "2020-08-21 01:30:00  0.454153         0            0.0   165363.933333   \n",
       "2020-08-21 02:00:00  0.454153         0            0.0   104718.966667   \n",
       "\n",
       "                     current_stored_energy  \n",
       "2020-08-21 00:00:00          127738.533333  \n",
       "2020-08-21 00:30:00          149702.333333  \n",
       "2020-08-21 01:00:00          129934.766667  \n",
       "2020-08-21 01:30:00          155935.666667  \n",
       "2020-08-21 02:00:00           98583.200000  "
      ]
     },
     "execution_count": 20,
     "metadata": {},
     "output_type": "execute_result"
    }
   ],
   "source": [
    "battery_df.head()"
   ]
  },
  {
   "cell_type": "code",
   "execution_count": 21,
   "metadata": {},
   "outputs": [
    {
     "data": {
      "text/plain": [
       "<matplotlib.axes._subplots.AxesSubplot at 0x7f89f7f7d730>"
      ]
     },
     "execution_count": 21,
     "metadata": {},
     "output_type": "execute_result"
    },
    {
     "data": {
      "image/png": "[encoded data removed]",
      "text/plain": [
       "<Figure size 432x288 with 1 Axes>"
      ]
     },
     "metadata": {
      "needs_background": "light"
     },
     "output_type": "display_data"
    }
   ],
   "source": [
    "battery_df.plot()"
   ]
  },
  {
   "cell_type": "code",
   "execution_count": 22,
   "metadata": {},
   "outputs": [
    {
     "data": {
      "text/html": [
       "<div>\n",
       "<style scoped>\n",
       "    .dataframe tbody tr th:only-of-type {\n",
       "        vertical-align: middle;\n",
       "    }\n",
       "\n",
       "    .dataframe tbody tr th {\n",
       "        vertical-align: top;\n",
       "    }\n",
       "\n",
       "    .dataframe thead th {\n",
       "        text-align: right;\n",
       "    }\n",
       "</style>\n",
       "<table border=\"1\" class=\"dataframe\">\n",
       "  <thead>\n",
       "    <tr style=\"text-align: right;\">\n",
       "      <th></th>\n",
       "      <th>soc</th>\n",
       "      <th>setpoint</th>\n",
       "      <th>pv_generation</th>\n",
       "      <th>total_capacity</th>\n",
       "      <th>current_stored_energy</th>\n",
       "      <th>building_draw</th>\n",
       "      <th>rtac_pv_generation</th>\n",
       "    </tr>\n",
       "  </thead>\n",
       "  <tbody>\n",
       "    <tr>\n",
       "      <th>2020-08-21 00:00:00</th>\n",
       "      <td>0.454153</td>\n",
       "      <td>0</td>\n",
       "      <td>0.0</td>\n",
       "      <td>159876.766667</td>\n",
       "      <td>127738.533333</td>\n",
       "      <td>36200.284538</td>\n",
       "      <td>0.0</td>\n",
       "    </tr>\n",
       "    <tr>\n",
       "      <th>2020-08-21 00:30:00</th>\n",
       "      <td>0.454153</td>\n",
       "      <td>0</td>\n",
       "      <td>0.0</td>\n",
       "      <td>165389.733333</td>\n",
       "      <td>149702.333333</td>\n",
       "      <td>35563.311328</td>\n",
       "      <td>0.0</td>\n",
       "    </tr>\n",
       "    <tr>\n",
       "      <th>2020-08-21 01:00:00</th>\n",
       "      <td>0.454153</td>\n",
       "      <td>0</td>\n",
       "      <td>0.0</td>\n",
       "      <td>137827.566667</td>\n",
       "      <td>129934.766667</td>\n",
       "      <td>32299.625781</td>\n",
       "      <td>0.0</td>\n",
       "    </tr>\n",
       "    <tr>\n",
       "      <th>2020-08-21 01:30:00</th>\n",
       "      <td>0.454153</td>\n",
       "      <td>0</td>\n",
       "      <td>0.0</td>\n",
       "      <td>165363.933333</td>\n",
       "      <td>155935.666667</td>\n",
       "      <td>34951.085286</td>\n",
       "      <td>0.0</td>\n",
       "    </tr>\n",
       "    <tr>\n",
       "      <th>2020-08-21 02:00:00</th>\n",
       "      <td>0.454153</td>\n",
       "      <td>0</td>\n",
       "      <td>0.0</td>\n",
       "      <td>104718.966667</td>\n",
       "      <td>98583.200000</td>\n",
       "      <td>37574.709115</td>\n",
       "      <td>0.0</td>\n",
       "    </tr>\n",
       "    <tr>\n",
       "      <th>2020-08-21 02:30:00</th>\n",
       "      <td>0.454153</td>\n",
       "      <td>0</td>\n",
       "      <td>0.0</td>\n",
       "      <td>165349.000000</td>\n",
       "      <td>155630.433333</td>\n",
       "      <td>36428.823763</td>\n",
       "      <td>0.0</td>\n",
       "    </tr>\n",
       "    <tr>\n",
       "      <th>2020-08-21 03:00:00</th>\n",
       "      <td>0.454153</td>\n",
       "      <td>0</td>\n",
       "      <td>0.0</td>\n",
       "      <td>165351.433333</td>\n",
       "      <td>155618.066667</td>\n",
       "      <td>29958.400781</td>\n",
       "      <td>0.0</td>\n",
       "    </tr>\n",
       "    <tr>\n",
       "      <th>2020-08-21 03:30:00</th>\n",
       "      <td>0.454153</td>\n",
       "      <td>0</td>\n",
       "      <td>0.0</td>\n",
       "      <td>148818.100000</td>\n",
       "      <td>140066.566667</td>\n",
       "      <td>35662.858561</td>\n",
       "      <td>0.0</td>\n",
       "    </tr>\n",
       "    <tr>\n",
       "      <th>2020-08-21 04:00:00</th>\n",
       "      <td>0.454153</td>\n",
       "      <td>0</td>\n",
       "      <td>0.0</td>\n",
       "      <td>165353.300000</td>\n",
       "      <td>155625.133333</td>\n",
       "      <td>32642.135840</td>\n",
       "      <td>0.0</td>\n",
       "    </tr>\n",
       "    <tr>\n",
       "      <th>2020-08-21 04:30:00</th>\n",
       "      <td>0.454153</td>\n",
       "      <td>0</td>\n",
       "      <td>0.0</td>\n",
       "      <td>165353.233333</td>\n",
       "      <td>155625.100000</td>\n",
       "      <td>36290.304492</td>\n",
       "      <td>0.0</td>\n",
       "    </tr>\n",
       "  </tbody>\n",
       "</table>\n",
       "</div>"
      ],
      "text/plain": [
       "                          soc  setpoint  pv_generation  total_capacity  \\\n",
       "2020-08-21 00:00:00  0.454153         0            0.0   159876.766667   \n",
       "2020-08-21 00:30:00  0.454153         0            0.0   165389.733333   \n",
       "2020-08-21 01:00:00  0.454153         0            0.0   137827.566667   \n",
       "2020-08-21 01:30:00  0.454153         0            0.0   165363.933333   \n",
       "2020-08-21 02:00:00  0.454153         0            0.0   104718.966667   \n",
       "2020-08-21 02:30:00  0.454153         0            0.0   165349.000000   \n",
       "2020-08-21 03:00:00  0.454153         0            0.0   165351.433333   \n",
       "2020-08-21 03:30:00  0.454153         0            0.0   148818.100000   \n",
       "2020-08-21 04:00:00  0.454153         0            0.0   165353.300000   \n",
       "2020-08-21 04:30:00  0.454153         0            0.0   165353.233333   \n",
       "\n",
       "                     current_stored_energy  building_draw  rtac_pv_generation  \n",
       "2020-08-21 00:00:00          127738.533333   36200.284538                 0.0  \n",
       "2020-08-21 00:30:00          149702.333333   35563.311328                 0.0  \n",
       "2020-08-21 01:00:00          129934.766667   32299.625781                 0.0  \n",
       "2020-08-21 01:30:00          155935.666667   34951.085286                 0.0  \n",
       "2020-08-21 02:00:00           98583.200000   37574.709115                 0.0  \n",
       "2020-08-21 02:30:00          155630.433333   36428.823763                 0.0  \n",
       "2020-08-21 03:00:00          155618.066667   29958.400781                 0.0  \n",
       "2020-08-21 03:30:00          140066.566667   35662.858561                 0.0  \n",
       "2020-08-21 04:00:00          155625.133333   32642.135840                 0.0  \n",
       "2020-08-21 04:30:00          155625.100000   36290.304492                 0.0  "
      ]
     },
     "execution_count": 22,
     "metadata": {},
     "output_type": "execute_result"
    }
   ],
   "source": [
    "net_power_df=battery_df.copy()\n",
    "net_power_df['building_draw']=power_df['building']\n",
    "net_power_df['rtac_pv_generation']=rtac_df['pv_generation']\n",
    "net_power_df.head(10)"
   ]
  },
  {
   "cell_type": "markdown",
   "metadata": {},
   "source": [
    "## Data Cleaning"
   ]
  },
  {
   "cell_type": "markdown",
   "metadata": {},
   "source": [
    "### Check Missing Data (no missing data on 21st)"
   ]
  },
  {
   "cell_type": "code",
   "execution_count": 23,
   "metadata": {},
   "outputs": [],
   "source": [
    "def get_heatmap(df):\n",
    "    cols = df.columns\n",
    "    colors = ['#000080', '#ffd700']\n",
    "    sns.heatmap(df[cols].isnull(), cmap=sns.color_palette(colors)) #navy data is there, gold is not (go bears)"
   ]
  },
  {
   "cell_type": "code",
   "execution_count": 24,
   "metadata": {},
   "outputs": [],
   "source": [
    "def missing_data_percent(df):\n",
    "    for col in df.columns:\n",
    "        pct_missing = np.mean(df[col].isnull())\n",
    "        print('{} - {}%'.format(col, round(pct_missing*100)))"
   ]
  },
  {
   "cell_type": "code",
   "execution_count": 25,
   "metadata": {},
   "outputs": [],
   "source": [
    "#all_df=power_df.append([setpoint_df,temperature_df, battery_df, weather_df, rtac_df, dr_df],sort=True)\n",
    "#all_df=pd.concat([setpoint_df,temperature_df, battery_df, weather_df, rtac_df, dr_df],axis=1,sort=True)"
   ]
  },
  {
   "cell_type": "code",
   "execution_count": 26,
   "metadata": {},
   "outputs": [],
   "source": [
    "dfs=[power_df,setpoint_df,temperature_df, battery_df, weather_df, rtac_df, dr_df]"
   ]
  },
  {
   "cell_type": "code",
   "execution_count": 27,
   "metadata": {},
   "outputs": [
    {
     "name": "stdout",
     "output_type": "stream",
     "text": [
      "building - 0.0%\n",
      "freezer - 0.0%\n",
      "ref_comp - 0.0%\n",
      "ref_fan - 0.0%\n",
      "hvac_west - 0.0%\n",
      "hvac_east - 0.0%\n",
      "total - 0.0%\n",
      "east_heating - 0.0%\n",
      "east_cooling - 0.0%\n",
      "west_heating - 0.0%\n",
      "west_cooling - 0.0%\n",
      "freezer - 0.0%\n",
      "ref - 0.0%\n",
      "east - 0.0%\n",
      "west - 0.0%\n",
      "freezer - 0.0%\n",
      "ref - 0.0%\n",
      "soc - 0.0%\n",
      "setpoint - 0.0%\n",
      "pv_generation - 0.0%\n",
      "total_capacity - 0.0%\n",
      "current_stored_energy - 0.0%\n",
      "oat - 0.0%\n",
      "humidity - 0.0%\n",
      "windspeed - 0.0%\n",
      "cloudcover - 0.0%\n",
      "solar - 0.0%\n",
      "pv_generation - 0.0%\n",
      "soc - 0.0%\n",
      "price_energy - 0.0%\n",
      "price_demand - 0.0%\n",
      "pmax - 0.0%\n",
      "pmin - 0.0%\n"
     ]
    }
   ],
   "source": [
    "for df in dfs:\n",
    "    missing_data_percent(df)"
   ]
  },
  {
   "cell_type": "code",
   "execution_count": 28,
   "metadata": {},
   "outputs": [
    {
     "name": "stdout",
     "output_type": "stream",
     "text": [
      "oat - 0.0%\n",
      "humidity - 0.0%\n",
      "windspeed - 0.0%\n",
      "cloudcover - 0.0%\n",
      "solar - 0.0%\n"
     ]
    }
   ],
   "source": [
    "missing_data_percent(weather_df)"
   ]
  },
  {
   "cell_type": "code",
   "execution_count": null,
   "metadata": {},
   "outputs": [],
   "source": [
    "get_heatmap(weather_df)"
   ]
  },
  {
   "cell_type": "markdown",
   "metadata": {},
   "source": [
    "### Removing Outliers"
   ]
  },
  {
   "cell_type": "code",
   "execution_count": 43,
   "metadata": {},
   "outputs": [],
   "source": [
    "#User Preferences\n",
    "tol=1.5 #the amount of interquartile ranges a value can be from the first or third quartile"
   ]
  },
  {
   "cell_type": "code",
   "execution_count": 30,
   "metadata": {},
   "outputs": [],
   "source": [
    "def check(df):\n",
    "    print(get_df_name(df))\n",
    "    #df.plot()\n",
    "    #plt.show()\n",
    "    df.boxplot()\n",
    "    plt.show()\n",
    "    #display(df.describe())"
   ]
  },
  {
   "cell_type": "code",
   "execution_count": 35,
   "metadata": {},
   "outputs": [],
   "source": [
    "def get_df_name(df):\n",
    "    name =[x for x in globals() if globals()[x] is df][0]\n",
    "    return name"
   ]
  },
  {
   "cell_type": "code",
   "execution_count": 44,
   "metadata": {},
   "outputs": [],
   "source": [
    "#considering interpolating values rather than just removing them, may unnecessarily weight data so will do that later\n",
    "def remove_quantile_outliers(df):\n",
    "    for col in df.columns:\n",
    "        q1 = df[col].quantile(0.25)\n",
    "        q3 = df[col].quantile(0.75)\n",
    "        iqr = q3 - q1   \n",
    "        filter = (df[col] >= q1-tol*iqr) & (df[col] <= q3+tol*iqr)\n",
    "        df[col]=df[col].loc[filter] "
   ]
  },
  {
   "cell_type": "code",
   "execution_count": 45,
   "metadata": {},
   "outputs": [],
   "source": [
    "def copy_dfs(dfs):\n",
    "    copy_dfs={}\n",
    "    for df in dfs:\n",
    "        copy_dfs[get_df_name(df)]=df.copy()\n",
    "    return copy_dfs\n",
    "    "
   ]
  },
  {
   "cell_type": "code",
   "execution_count": 36,
   "metadata": {},
   "outputs": [
    {
     "name": "stdout",
     "output_type": "stream",
     "text": [
      "power_df\n"
     ]
    },
    {
     "data": {
      "image/png": "[encoded data removed]",
      "text/plain": [
       "<Figure size 432x288 with 1 Axes>"
      ]
     },
     "metadata": {
      "needs_background": "light"
     },
     "output_type": "display_data"
    },
    {
     "name": "stdout",
     "output_type": "stream",
     "text": [
      "setpoint_df\n"
     ]
    },
    {
     "data": {
      "image/png": "[encoded data removed]",
      "text/plain": [
       "<Figure size 432x288 with 1 Axes>"
      ]
     },
     "metadata": {
      "needs_background": "light"
     },
     "output_type": "display_data"
    },
    {
     "name": "stdout",
     "output_type": "stream",
     "text": [
      "temperature_df\n"
     ]
    },
    {
     "data": {
      "image/png": "[encoded data removed]",
      "text/plain": [
       "<Figure size 432x288 with 1 Axes>"
      ]
     },
     "metadata": {
      "needs_background": "light"
     },
     "output_type": "display_data"
    },
    {
     "name": "stdout",
     "output_type": "stream",
     "text": [
      "battery_df\n"
     ]
    },
    {
     "data": {
      "image/png": "[encoded data removed]",
      "text/plain": [
       "<Figure size 432x288 with 1 Axes>"
      ]
     },
     "metadata": {
      "needs_background": "light"
     },
     "output_type": "display_data"
    },
    {
     "name": "stdout",
     "output_type": "stream",
     "text": [
      "weather_df\n"
     ]
    },
    {
     "data": {
      "image/png": "[encoded data removed]",
      "text/plain": [
       "<Figure size 432x288 with 1 Axes>"
      ]
     },
     "metadata": {
      "needs_background": "light"
     },
     "output_type": "display_data"
    },
    {
     "name": "stdout",
     "output_type": "stream",
     "text": [
      "rtac_df\n"
     ]
    },
    {
     "data": {
      "image/png": "[encoded data removed]",
      "text/plain": [
       "<Figure size 432x288 with 1 Axes>"
      ]
     },
     "metadata": {
      "needs_background": "light"
     },
     "output_type": "display_data"
    },
    {
     "name": "stdout",
     "output_type": "stream",
     "text": [
      "dr_df\n"
     ]
    },
    {
     "data": {
      "image/png": "[encoded data removed]",
      "text/plain": [
       "<Figure size 432x288 with 1 Axes>"
      ]
     },
     "metadata": {
      "needs_background": "light"
     },
     "output_type": "display_data"
    }
   ],
   "source": [
    "for df in dfs:\n",
    "    check(df)"
   ]
  },
  {
   "cell_type": "code",
   "execution_count": 47,
   "metadata": {},
   "outputs": [
    {
     "data": {
      "text/html": [
       "<div>\n",
       "<style scoped>\n",
       "    .dataframe tbody tr th:only-of-type {\n",
       "        vertical-align: middle;\n",
       "    }\n",
       "\n",
       "    .dataframe tbody tr th {\n",
       "        vertical-align: top;\n",
       "    }\n",
       "\n",
       "    .dataframe thead th {\n",
       "        text-align: right;\n",
       "    }\n",
       "</style>\n",
       "<table border=\"1\" class=\"dataframe\">\n",
       "  <thead>\n",
       "    <tr style=\"text-align: right;\">\n",
       "      <th></th>\n",
       "      <th>building</th>\n",
       "      <th>freezer</th>\n",
       "      <th>ref_comp</th>\n",
       "      <th>ref_fan</th>\n",
       "      <th>hvac_west</th>\n",
       "      <th>hvac_east</th>\n",
       "      <th>total</th>\n",
       "    </tr>\n",
       "  </thead>\n",
       "  <tbody>\n",
       "    <tr>\n",
       "      <th>2020-08-21 00:00:00</th>\n",
       "      <td>36200.284538</td>\n",
       "      <td>3061.827464</td>\n",
       "      <td>1486.728420</td>\n",
       "      <td>300.399154</td>\n",
       "      <td>359.927419</td>\n",
       "      <td>6431.847656</td>\n",
       "      <td>47841.014650</td>\n",
       "    </tr>\n",
       "    <tr>\n",
       "      <th>2020-08-21 00:30:00</th>\n",
       "      <td>35563.311328</td>\n",
       "      <td>2966.010902</td>\n",
       "      <td>1250.628675</td>\n",
       "      <td>304.146858</td>\n",
       "      <td>359.809385</td>\n",
       "      <td>6455.518457</td>\n",
       "      <td>46899.425605</td>\n",
       "    </tr>\n",
       "    <tr>\n",
       "      <th>2020-08-21 01:00:00</th>\n",
       "      <td>32299.625781</td>\n",
       "      <td>2851.497018</td>\n",
       "      <td>1413.642105</td>\n",
       "      <td>294.074028</td>\n",
       "      <td>360.109544</td>\n",
       "      <td>3650.913055</td>\n",
       "      <td>40869.861532</td>\n",
       "    </tr>\n",
       "  </tbody>\n",
       "</table>\n",
       "</div>"
      ],
      "text/plain": [
       "                         building      freezer     ref_comp     ref_fan  \\\n",
       "2020-08-21 00:00:00  36200.284538  3061.827464  1486.728420  300.399154   \n",
       "2020-08-21 00:30:00  35563.311328  2966.010902  1250.628675  304.146858   \n",
       "2020-08-21 01:00:00  32299.625781  2851.497018  1413.642105  294.074028   \n",
       "\n",
       "                      hvac_west    hvac_east         total  \n",
       "2020-08-21 00:00:00  359.927419  6431.847656  47841.014650  \n",
       "2020-08-21 00:30:00  359.809385  6455.518457  46899.425605  \n",
       "2020-08-21 01:00:00  360.109544  3650.913055  40869.861532  "
      ]
     },
     "execution_count": 47,
     "metadata": {},
     "output_type": "execute_result"
    }
   ],
   "source": [
    "uncleaned_dfs=copy_dfs(dfs)\n",
    "\n",
    "uncleaned_dfs['power_df'].head(3)"
   ]
  },
  {
   "cell_type": "code",
   "execution_count": 48,
   "metadata": {},
   "outputs": [],
   "source": [
    "for df in dfs:\n",
    "    remove_quantile_outliers(df)"
   ]
  },
  {
   "cell_type": "code",
   "execution_count": 49,
   "metadata": {},
   "outputs": [
    {
     "name": "stdout",
     "output_type": "stream",
     "text": [
      "power_df\n"
     ]
    },
    {
     "data": {
      "image/png": "[encoded data removed]",
      "text/plain": [
       "<Figure size 432x288 with 1 Axes>"
      ]
     },
     "metadata": {
      "needs_background": "light"
     },
     "output_type": "display_data"
    },
    {
     "name": "stdout",
     "output_type": "stream",
     "text": [
      "setpoint_df\n"
     ]
    },
    {
     "data": {
      "image/png": "[encoded data removed]",
      "text/plain": [
       "<Figure size 432x288 with 1 Axes>"
      ]
     },
     "metadata": {
      "needs_background": "light"
     },
     "output_type": "display_data"
    },
    {
     "name": "stdout",
     "output_type": "stream",
     "text": [
      "temperature_df\n"
     ]
    },
    {
     "data": {
      "image/png": "[encoded data removed]",
      "text/plain": [
       "<Figure size 432x288 with 1 Axes>"
      ]
     },
     "metadata": {
      "needs_background": "light"
     },
     "output_type": "display_data"
    },
    {
     "name": "stdout",
     "output_type": "stream",
     "text": [
      "battery_df\n"
     ]
    },
    {
     "data": {
      "image/png": "[encoded data removed]",
      "text/plain": [
       "<Figure size 432x288 with 1 Axes>"
      ]
     },
     "metadata": {
      "needs_background": "light"
     },
     "output_type": "display_data"
    },
    {
     "name": "stdout",
     "output_type": "stream",
     "text": [
      "weather_df\n"
     ]
    },
    {
     "data": {
      "image/png": "[encoded data removed]",
      "text/plain": [
       "<Figure size 432x288 with 1 Axes>"
      ]
     },
     "metadata": {
      "needs_background": "light"
     },
     "output_type": "display_data"
    },
    {
     "name": "stdout",
     "output_type": "stream",
     "text": [
      "rtac_df\n"
     ]
    },
    {
     "data": {
      "image/png": "[encoded data removed]",
      "text/plain": [
       "<Figure size 432x288 with 1 Axes>"
      ]
     },
     "metadata": {
      "needs_background": "light"
     },
     "output_type": "display_data"
    },
    {
     "name": "stdout",
     "output_type": "stream",
     "text": [
      "dr_df\n"
     ]
    },
    {
     "data": {
      "image/png": "[encoded data removed]",
      "text/plain": [
       "<Figure size 432x288 with 1 Axes>"
      ]
     },
     "metadata": {
      "needs_background": "light"
     },
     "output_type": "display_data"
    }
   ],
   "source": [
    "for df in dfs:\n",
    "    check(df)"
   ]
  },
  {
   "cell_type": "markdown",
   "metadata": {},
   "source": [
    "### Looking at SOC%"
   ]
  },
  {
   "cell_type": "code",
   "execution_count": 51,
   "metadata": {},
   "outputs": [
    {
     "data": {
      "text/html": [
       "<div>\n",
       "<style scoped>\n",
       "    .dataframe tbody tr th:only-of-type {\n",
       "        vertical-align: middle;\n",
       "    }\n",
       "\n",
       "    .dataframe tbody tr th {\n",
       "        vertical-align: top;\n",
       "    }\n",
       "\n",
       "    .dataframe thead th {\n",
       "        text-align: right;\n",
       "    }\n",
       "</style>\n",
       "<table border=\"1\" class=\"dataframe\">\n",
       "  <thead>\n",
       "    <tr style=\"text-align: right;\">\n",
       "      <th></th>\n",
       "      <th>soc</th>\n",
       "      <th>setpoint</th>\n",
       "      <th>pv_generation</th>\n",
       "      <th>total_capacity</th>\n",
       "      <th>current_stored_energy</th>\n",
       "    </tr>\n",
       "  </thead>\n",
       "  <tbody>\n",
       "    <tr>\n",
       "      <th>2020-08-21 00:00:00</th>\n",
       "      <td>0.454153</td>\n",
       "      <td>0</td>\n",
       "      <td>0.000000</td>\n",
       "      <td>159876.766667</td>\n",
       "      <td>127738.533333</td>\n",
       "    </tr>\n",
       "    <tr>\n",
       "      <th>2020-08-21 00:30:00</th>\n",
       "      <td>0.454153</td>\n",
       "      <td>0</td>\n",
       "      <td>0.000000</td>\n",
       "      <td>165389.733333</td>\n",
       "      <td>149702.333333</td>\n",
       "    </tr>\n",
       "    <tr>\n",
       "      <th>2020-08-21 01:00:00</th>\n",
       "      <td>0.454153</td>\n",
       "      <td>0</td>\n",
       "      <td>0.000000</td>\n",
       "      <td>137827.566667</td>\n",
       "      <td>129934.766667</td>\n",
       "    </tr>\n",
       "    <tr>\n",
       "      <th>2020-08-21 01:30:00</th>\n",
       "      <td>0.454153</td>\n",
       "      <td>0</td>\n",
       "      <td>0.000000</td>\n",
       "      <td>165363.933333</td>\n",
       "      <td>155935.666667</td>\n",
       "    </tr>\n",
       "    <tr>\n",
       "      <th>2020-08-21 02:00:00</th>\n",
       "      <td>0.454153</td>\n",
       "      <td>0</td>\n",
       "      <td>0.000000</td>\n",
       "      <td>NaN</td>\n",
       "      <td>98583.200000</td>\n",
       "    </tr>\n",
       "    <tr>\n",
       "      <th>2020-08-21 02:30:00</th>\n",
       "      <td>0.454153</td>\n",
       "      <td>0</td>\n",
       "      <td>0.000000</td>\n",
       "      <td>165349.000000</td>\n",
       "      <td>155630.433333</td>\n",
       "    </tr>\n",
       "    <tr>\n",
       "      <th>2020-08-21 03:00:00</th>\n",
       "      <td>0.454153</td>\n",
       "      <td>0</td>\n",
       "      <td>0.000000</td>\n",
       "      <td>165351.433333</td>\n",
       "      <td>155618.066667</td>\n",
       "    </tr>\n",
       "    <tr>\n",
       "      <th>2020-08-21 03:30:00</th>\n",
       "      <td>0.454153</td>\n",
       "      <td>0</td>\n",
       "      <td>0.000000</td>\n",
       "      <td>148818.100000</td>\n",
       "      <td>140066.566667</td>\n",
       "    </tr>\n",
       "    <tr>\n",
       "      <th>2020-08-21 04:00:00</th>\n",
       "      <td>0.454153</td>\n",
       "      <td>0</td>\n",
       "      <td>0.000000</td>\n",
       "      <td>165353.300000</td>\n",
       "      <td>155625.133333</td>\n",
       "    </tr>\n",
       "    <tr>\n",
       "      <th>2020-08-21 04:30:00</th>\n",
       "      <td>0.454153</td>\n",
       "      <td>0</td>\n",
       "      <td>0.000000</td>\n",
       "      <td>165353.233333</td>\n",
       "      <td>155625.100000</td>\n",
       "    </tr>\n",
       "    <tr>\n",
       "      <th>2020-08-21 05:00:00</th>\n",
       "      <td>0.454153</td>\n",
       "      <td>0</td>\n",
       "      <td>0.000000</td>\n",
       "      <td>165347.233333</td>\n",
       "      <td>155615.166667</td>\n",
       "    </tr>\n",
       "    <tr>\n",
       "      <th>2020-08-21 05:30:00</th>\n",
       "      <td>0.454153</td>\n",
       "      <td>0</td>\n",
       "      <td>0.000000</td>\n",
       "      <td>NaN</td>\n",
       "      <td>121897.633333</td>\n",
       "    </tr>\n",
       "    <tr>\n",
       "      <th>2020-08-21 06:00:00</th>\n",
       "      <td>0.454153</td>\n",
       "      <td>0</td>\n",
       "      <td>0.000000</td>\n",
       "      <td>165343.066667</td>\n",
       "      <td>155608.600000</td>\n",
       "    </tr>\n",
       "    <tr>\n",
       "      <th>2020-08-21 06:30:00</th>\n",
       "      <td>0.454153</td>\n",
       "      <td>0</td>\n",
       "      <td>24.418926</td>\n",
       "      <td>154318.666667</td>\n",
       "      <td>145232.900000</td>\n",
       "    </tr>\n",
       "    <tr>\n",
       "      <th>2020-08-21 07:00:00</th>\n",
       "      <td>0.454153</td>\n",
       "      <td>0</td>\n",
       "      <td>1419.121376</td>\n",
       "      <td>148808.166667</td>\n",
       "      <td>140042.866667</td>\n",
       "    </tr>\n",
       "    <tr>\n",
       "      <th>2020-08-21 07:30:00</th>\n",
       "      <td>0.454153</td>\n",
       "      <td>0</td>\n",
       "      <td>5437.741478</td>\n",
       "      <td>165341.533333</td>\n",
       "      <td>155602.033333</td>\n",
       "    </tr>\n",
       "    <tr>\n",
       "      <th>2020-08-21 08:00:00</th>\n",
       "      <td>0.454153</td>\n",
       "      <td>0</td>\n",
       "      <td>10335.665174</td>\n",
       "      <td>165330.766667</td>\n",
       "      <td>155597.233333</td>\n",
       "    </tr>\n",
       "    <tr>\n",
       "      <th>2020-08-21 08:30:00</th>\n",
       "      <td>0.454153</td>\n",
       "      <td>0</td>\n",
       "      <td>12499.976899</td>\n",
       "      <td>154310.333333</td>\n",
       "      <td>145222.033333</td>\n",
       "    </tr>\n",
       "    <tr>\n",
       "      <th>2020-08-21 09:00:00</th>\n",
       "      <td>0.454153</td>\n",
       "      <td>0</td>\n",
       "      <td>14978.450541</td>\n",
       "      <td>165333.200000</td>\n",
       "      <td>155582.600000</td>\n",
       "    </tr>\n",
       "    <tr>\n",
       "      <th>2020-08-21 09:30:00</th>\n",
       "      <td>0.454153</td>\n",
       "      <td>0</td>\n",
       "      <td>17759.951161</td>\n",
       "      <td>154310.733333</td>\n",
       "      <td>145207.400000</td>\n",
       "    </tr>\n",
       "  </tbody>\n",
       "</table>\n",
       "</div>"
      ],
      "text/plain": [
       "                          soc  setpoint  pv_generation  total_capacity  \\\n",
       "2020-08-21 00:00:00  0.454153         0       0.000000   159876.766667   \n",
       "2020-08-21 00:30:00  0.454153         0       0.000000   165389.733333   \n",
       "2020-08-21 01:00:00  0.454153         0       0.000000   137827.566667   \n",
       "2020-08-21 01:30:00  0.454153         0       0.000000   165363.933333   \n",
       "2020-08-21 02:00:00  0.454153         0       0.000000             NaN   \n",
       "2020-08-21 02:30:00  0.454153         0       0.000000   165349.000000   \n",
       "2020-08-21 03:00:00  0.454153         0       0.000000   165351.433333   \n",
       "2020-08-21 03:30:00  0.454153         0       0.000000   148818.100000   \n",
       "2020-08-21 04:00:00  0.454153         0       0.000000   165353.300000   \n",
       "2020-08-21 04:30:00  0.454153         0       0.000000   165353.233333   \n",
       "2020-08-21 05:00:00  0.454153         0       0.000000   165347.233333   \n",
       "2020-08-21 05:30:00  0.454153         0       0.000000             NaN   \n",
       "2020-08-21 06:00:00  0.454153         0       0.000000   165343.066667   \n",
       "2020-08-21 06:30:00  0.454153         0      24.418926   154318.666667   \n",
       "2020-08-21 07:00:00  0.454153         0    1419.121376   148808.166667   \n",
       "2020-08-21 07:30:00  0.454153         0    5437.741478   165341.533333   \n",
       "2020-08-21 08:00:00  0.454153         0   10335.665174   165330.766667   \n",
       "2020-08-21 08:30:00  0.454153         0   12499.976899   154310.333333   \n",
       "2020-08-21 09:00:00  0.454153         0   14978.450541   165333.200000   \n",
       "2020-08-21 09:30:00  0.454153         0   17759.951161   154310.733333   \n",
       "\n",
       "                     current_stored_energy  \n",
       "2020-08-21 00:00:00          127738.533333  \n",
       "2020-08-21 00:30:00          149702.333333  \n",
       "2020-08-21 01:00:00          129934.766667  \n",
       "2020-08-21 01:30:00          155935.666667  \n",
       "2020-08-21 02:00:00           98583.200000  \n",
       "2020-08-21 02:30:00          155630.433333  \n",
       "2020-08-21 03:00:00          155618.066667  \n",
       "2020-08-21 03:30:00          140066.566667  \n",
       "2020-08-21 04:00:00          155625.133333  \n",
       "2020-08-21 04:30:00          155625.100000  \n",
       "2020-08-21 05:00:00          155615.166667  \n",
       "2020-08-21 05:30:00          121897.633333  \n",
       "2020-08-21 06:00:00          155608.600000  \n",
       "2020-08-21 06:30:00          145232.900000  \n",
       "2020-08-21 07:00:00          140042.866667  \n",
       "2020-08-21 07:30:00          155602.033333  \n",
       "2020-08-21 08:00:00          155597.233333  \n",
       "2020-08-21 08:30:00          145222.033333  \n",
       "2020-08-21 09:00:00          155582.600000  \n",
       "2020-08-21 09:30:00          145207.400000  "
      ]
     },
     "execution_count": 51,
     "metadata": {},
     "output_type": "execute_result"
    }
   ],
   "source": [
    "battery_df.head(20)"
   ]
  },
  {
   "cell_type": "code",
   "execution_count": 52,
   "metadata": {},
   "outputs": [
    {
     "data": {
      "text/plain": [
       "<matplotlib.axes._subplots.AxesSubplot at 0x7f89f89a1820>"
      ]
     },
     "execution_count": 52,
     "metadata": {},
     "output_type": "execute_result"
    },
    {
     "data": {
      "image/png": "[encoded data removed]",
      "text/plain": [
       "<Figure size 432x288 with 1 Axes>"
      ]
     },
     "metadata": {
      "needs_background": "light"
     },
     "output_type": "display_data"
    }
   ],
   "source": [
    "battery_df.boxplot()"
   ]
  },
  {
   "cell_type": "code",
   "execution_count": 72,
   "metadata": {},
   "outputs": [],
   "source": [
    "bdf=battery_df.copy()"
   ]
  },
  {
   "cell_type": "code",
   "execution_count": 74,
   "metadata": {},
   "outputs": [],
   "source": [
    "# if multiple NaN values, split dataframe then check for first non-null index and use that, or iterate in for loop if null. iterate in for loop may be better since double NaN's are uncommon"
   ]
  },
  {
   "cell_type": "code",
   "execution_count": 90,
   "metadata": {},
   "outputs": [],
   "source": [
    "def intp_on_null(df,NullCol,interpCols):\n",
    "#     top_ind = df[nan_inds[i]:, :].first_valid_index()\n",
    "#     bot_ind = df[:nan_ind[i], :].iloc[::-1].first_valid_index() #::-1 reverses it but I don't understand how\n",
    "#     top_val=df[col][top_ind]\n",
    "#     bot_val=df[col][bot_ind]\n",
    "#     m=(top_val-bot_val)/\n",
    "#     battery_df[col][nan_inds[i]]=\n",
    "    dfn=df.copy()\n",
    "    nan_inds=dfn.index[dfn[NullCol].isnull()]\n",
    "    dfn[interpCols][nan_inds]=np.NaN\n",
    "    return dfn.interpolate()\n",
    "    "
   ]
  },
  {
   "cell_type": "code",
   "execution_count": 91,
   "metadata": {},
   "outputs": [
    {
     "name": "stderr",
     "output_type": "stream",
     "text": [
      "<ipython-input-90-6499c25dd6ad>:10: SettingWithCopyWarning: \n",
      "A value is trying to be set on a copy of a slice from a DataFrame\n",
      "\n",
      "See the caveats in the documentation: https://pandas.pydata.org/pandas-docs/stable/user_guide/indexing.html#returning-a-view-versus-a-copy\n",
      "  dfn[interpCols][nan_inds]=np.NaN\n"
     ]
    }
   ],
   "source": [
    "intp_batt_df=intp_on_null(battery_df,'total_capacity','current_stored_energy')"
   ]
  },
  {
   "cell_type": "code",
   "execution_count": 92,
   "metadata": {},
   "outputs": [
    {
     "data": {
      "text/html": [
       "<div>\n",
       "<style scoped>\n",
       "    .dataframe tbody tr th:only-of-type {\n",
       "        vertical-align: middle;\n",
       "    }\n",
       "\n",
       "    .dataframe tbody tr th {\n",
       "        vertical-align: top;\n",
       "    }\n",
       "\n",
       "    .dataframe thead th {\n",
       "        text-align: right;\n",
       "    }\n",
       "</style>\n",
       "<table border=\"1\" class=\"dataframe\">\n",
       "  <thead>\n",
       "    <tr style=\"text-align: right;\">\n",
       "      <th></th>\n",
       "      <th>soc</th>\n",
       "      <th>setpoint</th>\n",
       "      <th>pv_generation</th>\n",
       "      <th>total_capacity</th>\n",
       "      <th>current_stored_energy</th>\n",
       "    </tr>\n",
       "  </thead>\n",
       "  <tbody>\n",
       "    <tr>\n",
       "      <th>2020-08-21 00:00:00</th>\n",
       "      <td>0.454153</td>\n",
       "      <td>0</td>\n",
       "      <td>0.000000</td>\n",
       "      <td>159876.766667</td>\n",
       "      <td>127738.533333</td>\n",
       "    </tr>\n",
       "    <tr>\n",
       "      <th>2020-08-21 00:30:00</th>\n",
       "      <td>0.454153</td>\n",
       "      <td>0</td>\n",
       "      <td>0.000000</td>\n",
       "      <td>165389.733333</td>\n",
       "      <td>149702.333333</td>\n",
       "    </tr>\n",
       "    <tr>\n",
       "      <th>2020-08-21 01:00:00</th>\n",
       "      <td>0.454153</td>\n",
       "      <td>0</td>\n",
       "      <td>0.000000</td>\n",
       "      <td>137827.566667</td>\n",
       "      <td>129934.766667</td>\n",
       "    </tr>\n",
       "    <tr>\n",
       "      <th>2020-08-21 01:30:00</th>\n",
       "      <td>0.454153</td>\n",
       "      <td>0</td>\n",
       "      <td>0.000000</td>\n",
       "      <td>165363.933333</td>\n",
       "      <td>155935.666667</td>\n",
       "    </tr>\n",
       "    <tr>\n",
       "      <th>2020-08-21 02:00:00</th>\n",
       "      <td>0.454153</td>\n",
       "      <td>0</td>\n",
       "      <td>0.000000</td>\n",
       "      <td>165356.466667</td>\n",
       "      <td>155783.050000</td>\n",
       "    </tr>\n",
       "    <tr>\n",
       "      <th>2020-08-21 02:30:00</th>\n",
       "      <td>0.454153</td>\n",
       "      <td>0</td>\n",
       "      <td>0.000000</td>\n",
       "      <td>165349.000000</td>\n",
       "      <td>155630.433333</td>\n",
       "    </tr>\n",
       "    <tr>\n",
       "      <th>2020-08-21 03:00:00</th>\n",
       "      <td>0.454153</td>\n",
       "      <td>0</td>\n",
       "      <td>0.000000</td>\n",
       "      <td>165351.433333</td>\n",
       "      <td>155618.066667</td>\n",
       "    </tr>\n",
       "    <tr>\n",
       "      <th>2020-08-21 03:30:00</th>\n",
       "      <td>0.454153</td>\n",
       "      <td>0</td>\n",
       "      <td>0.000000</td>\n",
       "      <td>148818.100000</td>\n",
       "      <td>140066.566667</td>\n",
       "    </tr>\n",
       "    <tr>\n",
       "      <th>2020-08-21 04:00:00</th>\n",
       "      <td>0.454153</td>\n",
       "      <td>0</td>\n",
       "      <td>0.000000</td>\n",
       "      <td>165353.300000</td>\n",
       "      <td>155625.133333</td>\n",
       "    </tr>\n",
       "    <tr>\n",
       "      <th>2020-08-21 04:30:00</th>\n",
       "      <td>0.454153</td>\n",
       "      <td>0</td>\n",
       "      <td>0.000000</td>\n",
       "      <td>165353.233333</td>\n",
       "      <td>155625.100000</td>\n",
       "    </tr>\n",
       "    <tr>\n",
       "      <th>2020-08-21 05:00:00</th>\n",
       "      <td>0.454153</td>\n",
       "      <td>0</td>\n",
       "      <td>0.000000</td>\n",
       "      <td>165347.233333</td>\n",
       "      <td>155615.166667</td>\n",
       "    </tr>\n",
       "    <tr>\n",
       "      <th>2020-08-21 05:30:00</th>\n",
       "      <td>0.454153</td>\n",
       "      <td>0</td>\n",
       "      <td>0.000000</td>\n",
       "      <td>165345.150000</td>\n",
       "      <td>155611.883333</td>\n",
       "    </tr>\n",
       "    <tr>\n",
       "      <th>2020-08-21 06:00:00</th>\n",
       "      <td>0.454153</td>\n",
       "      <td>0</td>\n",
       "      <td>0.000000</td>\n",
       "      <td>165343.066667</td>\n",
       "      <td>155608.600000</td>\n",
       "    </tr>\n",
       "    <tr>\n",
       "      <th>2020-08-21 06:30:00</th>\n",
       "      <td>0.454153</td>\n",
       "      <td>0</td>\n",
       "      <td>24.418926</td>\n",
       "      <td>154318.666667</td>\n",
       "      <td>145232.900000</td>\n",
       "    </tr>\n",
       "    <tr>\n",
       "      <th>2020-08-21 07:00:00</th>\n",
       "      <td>0.454153</td>\n",
       "      <td>0</td>\n",
       "      <td>1419.121376</td>\n",
       "      <td>148808.166667</td>\n",
       "      <td>140042.866667</td>\n",
       "    </tr>\n",
       "    <tr>\n",
       "      <th>2020-08-21 07:30:00</th>\n",
       "      <td>0.454153</td>\n",
       "      <td>0</td>\n",
       "      <td>5437.741478</td>\n",
       "      <td>165341.533333</td>\n",
       "      <td>155602.033333</td>\n",
       "    </tr>\n",
       "    <tr>\n",
       "      <th>2020-08-21 08:00:00</th>\n",
       "      <td>0.454153</td>\n",
       "      <td>0</td>\n",
       "      <td>10335.665174</td>\n",
       "      <td>165330.766667</td>\n",
       "      <td>155597.233333</td>\n",
       "    </tr>\n",
       "    <tr>\n",
       "      <th>2020-08-21 08:30:00</th>\n",
       "      <td>0.454153</td>\n",
       "      <td>0</td>\n",
       "      <td>12499.976899</td>\n",
       "      <td>154310.333333</td>\n",
       "      <td>145222.033333</td>\n",
       "    </tr>\n",
       "    <tr>\n",
       "      <th>2020-08-21 09:00:00</th>\n",
       "      <td>0.454153</td>\n",
       "      <td>0</td>\n",
       "      <td>14978.450541</td>\n",
       "      <td>165333.200000</td>\n",
       "      <td>155582.600000</td>\n",
       "    </tr>\n",
       "    <tr>\n",
       "      <th>2020-08-21 09:30:00</th>\n",
       "      <td>0.454153</td>\n",
       "      <td>0</td>\n",
       "      <td>17759.951161</td>\n",
       "      <td>154310.733333</td>\n",
       "      <td>145207.400000</td>\n",
       "    </tr>\n",
       "    <tr>\n",
       "      <th>2020-08-21 10:00:00</th>\n",
       "      <td>0.454153</td>\n",
       "      <td>0</td>\n",
       "      <td>29543.262388</td>\n",
       "      <td>165330.300000</td>\n",
       "      <td>155574.833333</td>\n",
       "    </tr>\n",
       "    <tr>\n",
       "      <th>2020-08-21 10:30:00</th>\n",
       "      <td>0.454153</td>\n",
       "      <td>0</td>\n",
       "      <td>31322.253981</td>\n",
       "      <td>159813.000000</td>\n",
       "      <td>150055.600000</td>\n",
       "    </tr>\n",
       "    <tr>\n",
       "      <th>2020-08-21 11:00:00</th>\n",
       "      <td>0.454153</td>\n",
       "      <td>0</td>\n",
       "      <td>33410.884190</td>\n",
       "      <td>154295.500000</td>\n",
       "      <td>143548.400000</td>\n",
       "    </tr>\n",
       "    <tr>\n",
       "      <th>2020-08-21 11:30:00</th>\n",
       "      <td>0.454153</td>\n",
       "      <td>0</td>\n",
       "      <td>35956.723813</td>\n",
       "      <td>148785.300000</td>\n",
       "      <td>135848.066667</td>\n",
       "    </tr>\n",
       "    <tr>\n",
       "      <th>2020-08-21 12:00:00</th>\n",
       "      <td>0.454153</td>\n",
       "      <td>0</td>\n",
       "      <td>36198.112381</td>\n",
       "      <td>143274.400000</td>\n",
       "      <td>129295.566667</td>\n",
       "    </tr>\n",
       "    <tr>\n",
       "      <th>2020-08-21 12:30:00</th>\n",
       "      <td>0.454153</td>\n",
       "      <td>0</td>\n",
       "      <td>37580.361782</td>\n",
       "      <td>159805.300000</td>\n",
       "      <td>138300.866667</td>\n",
       "    </tr>\n",
       "    <tr>\n",
       "      <th>2020-08-21 13:00:00</th>\n",
       "      <td>0.454153</td>\n",
       "      <td>0</td>\n",
       "      <td>37393.193384</td>\n",
       "      <td>165315.200000</td>\n",
       "      <td>141211.666667</td>\n",
       "    </tr>\n",
       "    <tr>\n",
       "      <th>2020-08-21 13:30:00</th>\n",
       "      <td>0.454153</td>\n",
       "      <td>0</td>\n",
       "      <td>36891.635442</td>\n",
       "      <td>165315.066667</td>\n",
       "      <td>141484.800000</td>\n",
       "    </tr>\n",
       "    <tr>\n",
       "      <th>2020-08-21 14:00:00</th>\n",
       "      <td>0.454153</td>\n",
       "      <td>0</td>\n",
       "      <td>36692.070179</td>\n",
       "      <td>165314.433333</td>\n",
       "      <td>142737.333333</td>\n",
       "    </tr>\n",
       "    <tr>\n",
       "      <th>2020-08-21 14:30:00</th>\n",
       "      <td>0.454153</td>\n",
       "      <td>0</td>\n",
       "      <td>35975.239416</td>\n",
       "      <td>165314.533333</td>\n",
       "      <td>143994.133333</td>\n",
       "    </tr>\n",
       "    <tr>\n",
       "      <th>2020-08-21 15:00:00</th>\n",
       "      <td>0.454153</td>\n",
       "      <td>0</td>\n",
       "      <td>34103.234904</td>\n",
       "      <td>165314.100000</td>\n",
       "      <td>143241.300000</td>\n",
       "    </tr>\n",
       "    <tr>\n",
       "      <th>2020-08-21 15:30:00</th>\n",
       "      <td>0.454153</td>\n",
       "      <td>0</td>\n",
       "      <td>33063.845415</td>\n",
       "      <td>154293.366667</td>\n",
       "      <td>132020.866667</td>\n",
       "    </tr>\n",
       "    <tr>\n",
       "      <th>2020-08-21 16:00:00</th>\n",
       "      <td>0.454153</td>\n",
       "      <td>0</td>\n",
       "      <td>30626.574498</td>\n",
       "      <td>137762.066667</td>\n",
       "      <td>113111.100000</td>\n",
       "    </tr>\n",
       "    <tr>\n",
       "      <th>2020-08-21 16:30:00</th>\n",
       "      <td>0.454153</td>\n",
       "      <td>0</td>\n",
       "      <td>29153.723428</td>\n",
       "      <td>165314.333333</td>\n",
       "      <td>127894.800000</td>\n",
       "    </tr>\n",
       "    <tr>\n",
       "      <th>2020-08-21 17:00:00</th>\n",
       "      <td>0.454153</td>\n",
       "      <td>0</td>\n",
       "      <td>27654.135827</td>\n",
       "      <td>154293.333333</td>\n",
       "      <td>109349.100000</td>\n",
       "    </tr>\n",
       "    <tr>\n",
       "      <th>2020-08-21 17:30:00</th>\n",
       "      <td>0.454153</td>\n",
       "      <td>0</td>\n",
       "      <td>25843.287105</td>\n",
       "      <td>148782.800000</td>\n",
       "      <td>93853.766667</td>\n",
       "    </tr>\n",
       "    <tr>\n",
       "      <th>2020-08-21 18:00:00</th>\n",
       "      <td>0.454153</td>\n",
       "      <td>0</td>\n",
       "      <td>18028.831372</td>\n",
       "      <td>165293.100000</td>\n",
       "      <td>96108.300000</td>\n",
       "    </tr>\n",
       "    <tr>\n",
       "      <th>2020-08-21 18:30:00</th>\n",
       "      <td>0.454153</td>\n",
       "      <td>0</td>\n",
       "      <td>12217.887650</td>\n",
       "      <td>148717.433333</td>\n",
       "      <td>85380.466667</td>\n",
       "    </tr>\n",
       "    <tr>\n",
       "      <th>2020-08-21 19:00:00</th>\n",
       "      <td>0.454153</td>\n",
       "      <td>0</td>\n",
       "      <td>7501.656367</td>\n",
       "      <td>165241.600000</td>\n",
       "      <td>94804.400000</td>\n",
       "    </tr>\n",
       "    <tr>\n",
       "      <th>2020-08-21 19:30:00</th>\n",
       "      <td>0.454153</td>\n",
       "      <td>0</td>\n",
       "      <td>3510.249470</td>\n",
       "      <td>165231.666667</td>\n",
       "      <td>92271.900000</td>\n",
       "    </tr>\n",
       "    <tr>\n",
       "      <th>2020-08-21 20:00:00</th>\n",
       "      <td>0.454153</td>\n",
       "      <td>0</td>\n",
       "      <td>2622.829437</td>\n",
       "      <td>165221.733333</td>\n",
       "      <td>89739.400000</td>\n",
       "    </tr>\n",
       "    <tr>\n",
       "      <th>2020-08-21 20:30:00</th>\n",
       "      <td>0.454153</td>\n",
       "      <td>0</td>\n",
       "      <td>1311.414718</td>\n",
       "      <td>165221.966667</td>\n",
       "      <td>73203.366667</td>\n",
       "    </tr>\n",
       "    <tr>\n",
       "      <th>2020-08-21 21:00:00</th>\n",
       "      <td>0.454153</td>\n",
       "      <td>0</td>\n",
       "      <td>0.000000</td>\n",
       "      <td>159714.200000</td>\n",
       "      <td>51582.033333</td>\n",
       "    </tr>\n",
       "    <tr>\n",
       "      <th>2020-08-21 21:30:00</th>\n",
       "      <td>0.454153</td>\n",
       "      <td>0</td>\n",
       "      <td>0.000000</td>\n",
       "      <td>165221.566667</td>\n",
       "      <td>53036.733333</td>\n",
       "    </tr>\n",
       "    <tr>\n",
       "      <th>2020-08-21 22:00:00</th>\n",
       "      <td>0.454153</td>\n",
       "      <td>0</td>\n",
       "      <td>0.000000</td>\n",
       "      <td>165221.733333</td>\n",
       "      <td>71935.300000</td>\n",
       "    </tr>\n",
       "    <tr>\n",
       "      <th>2020-08-21 22:30:00</th>\n",
       "      <td>0.454153</td>\n",
       "      <td>0</td>\n",
       "      <td>0.000000</td>\n",
       "      <td>154206.900000</td>\n",
       "      <td>85166.100000</td>\n",
       "    </tr>\n",
       "    <tr>\n",
       "      <th>2020-08-21 23:00:00</th>\n",
       "      <td>0.454153</td>\n",
       "      <td>0</td>\n",
       "      <td>0.000000</td>\n",
       "      <td>165221.466667</td>\n",
       "      <td>109688.533333</td>\n",
       "    </tr>\n",
       "    <tr>\n",
       "      <th>2020-08-21 23:30:00</th>\n",
       "      <td>0.454153</td>\n",
       "      <td>0</td>\n",
       "      <td>0.000000</td>\n",
       "      <td>165221.466667</td>\n",
       "      <td>109688.533333</td>\n",
       "    </tr>\n",
       "  </tbody>\n",
       "</table>\n",
       "</div>"
      ],
      "text/plain": [
       "                          soc  setpoint  pv_generation  total_capacity  \\\n",
       "2020-08-21 00:00:00  0.454153         0       0.000000   159876.766667   \n",
       "2020-08-21 00:30:00  0.454153         0       0.000000   165389.733333   \n",
       "2020-08-21 01:00:00  0.454153         0       0.000000   137827.566667   \n",
       "2020-08-21 01:30:00  0.454153         0       0.000000   165363.933333   \n",
       "2020-08-21 02:00:00  0.454153         0       0.000000   165356.466667   \n",
       "2020-08-21 02:30:00  0.454153         0       0.000000   165349.000000   \n",
       "2020-08-21 03:00:00  0.454153         0       0.000000   165351.433333   \n",
       "2020-08-21 03:30:00  0.454153         0       0.000000   148818.100000   \n",
       "2020-08-21 04:00:00  0.454153         0       0.000000   165353.300000   \n",
       "2020-08-21 04:30:00  0.454153         0       0.000000   165353.233333   \n",
       "2020-08-21 05:00:00  0.454153         0       0.000000   165347.233333   \n",
       "2020-08-21 05:30:00  0.454153         0       0.000000   165345.150000   \n",
       "2020-08-21 06:00:00  0.454153         0       0.000000   165343.066667   \n",
       "2020-08-21 06:30:00  0.454153         0      24.418926   154318.666667   \n",
       "2020-08-21 07:00:00  0.454153         0    1419.121376   148808.166667   \n",
       "2020-08-21 07:30:00  0.454153         0    5437.741478   165341.533333   \n",
       "2020-08-21 08:00:00  0.454153         0   10335.665174   165330.766667   \n",
       "2020-08-21 08:30:00  0.454153         0   12499.976899   154310.333333   \n",
       "2020-08-21 09:00:00  0.454153         0   14978.450541   165333.200000   \n",
       "2020-08-21 09:30:00  0.454153         0   17759.951161   154310.733333   \n",
       "2020-08-21 10:00:00  0.454153         0   29543.262388   165330.300000   \n",
       "2020-08-21 10:30:00  0.454153         0   31322.253981   159813.000000   \n",
       "2020-08-21 11:00:00  0.454153         0   33410.884190   154295.500000   \n",
       "2020-08-21 11:30:00  0.454153         0   35956.723813   148785.300000   \n",
       "2020-08-21 12:00:00  0.454153         0   36198.112381   143274.400000   \n",
       "2020-08-21 12:30:00  0.454153         0   37580.361782   159805.300000   \n",
       "2020-08-21 13:00:00  0.454153         0   37393.193384   165315.200000   \n",
       "2020-08-21 13:30:00  0.454153         0   36891.635442   165315.066667   \n",
       "2020-08-21 14:00:00  0.454153         0   36692.070179   165314.433333   \n",
       "2020-08-21 14:30:00  0.454153         0   35975.239416   165314.533333   \n",
       "2020-08-21 15:00:00  0.454153         0   34103.234904   165314.100000   \n",
       "2020-08-21 15:30:00  0.454153         0   33063.845415   154293.366667   \n",
       "2020-08-21 16:00:00  0.454153         0   30626.574498   137762.066667   \n",
       "2020-08-21 16:30:00  0.454153         0   29153.723428   165314.333333   \n",
       "2020-08-21 17:00:00  0.454153         0   27654.135827   154293.333333   \n",
       "2020-08-21 17:30:00  0.454153         0   25843.287105   148782.800000   \n",
       "2020-08-21 18:00:00  0.454153         0   18028.831372   165293.100000   \n",
       "2020-08-21 18:30:00  0.454153         0   12217.887650   148717.433333   \n",
       "2020-08-21 19:00:00  0.454153         0    7501.656367   165241.600000   \n",
       "2020-08-21 19:30:00  0.454153         0    3510.249470   165231.666667   \n",
       "2020-08-21 20:00:00  0.454153         0    2622.829437   165221.733333   \n",
       "2020-08-21 20:30:00  0.454153         0    1311.414718   165221.966667   \n",
       "2020-08-21 21:00:00  0.454153         0       0.000000   159714.200000   \n",
       "2020-08-21 21:30:00  0.454153         0       0.000000   165221.566667   \n",
       "2020-08-21 22:00:00  0.454153         0       0.000000   165221.733333   \n",
       "2020-08-21 22:30:00  0.454153         0       0.000000   154206.900000   \n",
       "2020-08-21 23:00:00  0.454153         0       0.000000   165221.466667   \n",
       "2020-08-21 23:30:00  0.454153         0       0.000000   165221.466667   \n",
       "\n",
       "                     current_stored_energy  \n",
       "2020-08-21 00:00:00          127738.533333  \n",
       "2020-08-21 00:30:00          149702.333333  \n",
       "2020-08-21 01:00:00          129934.766667  \n",
       "2020-08-21 01:30:00          155935.666667  \n",
       "2020-08-21 02:00:00          155783.050000  \n",
       "2020-08-21 02:30:00          155630.433333  \n",
       "2020-08-21 03:00:00          155618.066667  \n",
       "2020-08-21 03:30:00          140066.566667  \n",
       "2020-08-21 04:00:00          155625.133333  \n",
       "2020-08-21 04:30:00          155625.100000  \n",
       "2020-08-21 05:00:00          155615.166667  \n",
       "2020-08-21 05:30:00          155611.883333  \n",
       "2020-08-21 06:00:00          155608.600000  \n",
       "2020-08-21 06:30:00          145232.900000  \n",
       "2020-08-21 07:00:00          140042.866667  \n",
       "2020-08-21 07:30:00          155602.033333  \n",
       "2020-08-21 08:00:00          155597.233333  \n",
       "2020-08-21 08:30:00          145222.033333  \n",
       "2020-08-21 09:00:00          155582.600000  \n",
       "2020-08-21 09:30:00          145207.400000  \n",
       "2020-08-21 10:00:00          155574.833333  \n",
       "2020-08-21 10:30:00          150055.600000  \n",
       "2020-08-21 11:00:00          143548.400000  \n",
       "2020-08-21 11:30:00          135848.066667  \n",
       "2020-08-21 12:00:00          129295.566667  \n",
       "2020-08-21 12:30:00          138300.866667  \n",
       "2020-08-21 13:00:00          141211.666667  \n",
       "2020-08-21 13:30:00          141484.800000  \n",
       "2020-08-21 14:00:00          142737.333333  \n",
       "2020-08-21 14:30:00          143994.133333  \n",
       "2020-08-21 15:00:00          143241.300000  \n",
       "2020-08-21 15:30:00          132020.866667  \n",
       "2020-08-21 16:00:00          113111.100000  \n",
       "2020-08-21 16:30:00          127894.800000  \n",
       "2020-08-21 17:00:00          109349.100000  \n",
       "2020-08-21 17:30:00           93853.766667  \n",
       "2020-08-21 18:00:00           96108.300000  \n",
       "2020-08-21 18:30:00           85380.466667  \n",
       "2020-08-21 19:00:00           94804.400000  \n",
       "2020-08-21 19:30:00           92271.900000  \n",
       "2020-08-21 20:00:00           89739.400000  \n",
       "2020-08-21 20:30:00           73203.366667  \n",
       "2020-08-21 21:00:00           51582.033333  \n",
       "2020-08-21 21:30:00           53036.733333  \n",
       "2020-08-21 22:00:00           71935.300000  \n",
       "2020-08-21 22:30:00           85166.100000  \n",
       "2020-08-21 23:00:00          109688.533333  \n",
       "2020-08-21 23:30:00          109688.533333  "
      ]
     },
     "execution_count": 92,
     "metadata": {},
     "output_type": "execute_result"
    }
   ],
   "source": [
    "intp_batt_df #174 kW*hours is total battery capacity (spec on battery), why does it keep changing?"
   ]
  },
  {
   "cell_type": "code",
   "execution_count": 96,
   "metadata": {},
   "outputs": [
    {
     "data": {
      "text/plain": [
       "<matplotlib.axes._subplots.AxesSubplot at 0x7f89f91f3d00>"
      ]
     },
     "execution_count": 96,
     "metadata": {},
     "output_type": "execute_result"
    },
    {
     "data": {
      "image/png": "[encoded data removed]",
      "text/plain": [
       "<Figure size 432x288 with 1 Axes>"
      ]
     },
     "metadata": {
      "needs_background": "light"
     },
     "output_type": "display_data"
    }
   ],
   "source": [
    "intp_batt_df[['total_capacity','current_stored_energy']].plot()\n",
    "intp_batt_df['ratio']="
   ]
  },
  {
   "cell_type": "markdown",
   "metadata": {},
   "source": [
    "### lessening spikiness of data"
   ]
  },
  {
   "cell_type": "code",
   "execution_count": 88,
   "metadata": {},
   "outputs": [],
   "source": [
    "# not sure if I want to do this"
   ]
  },
  {
   "cell_type": "code",
   "execution_count": null,
   "metadata": {},
   "outputs": [],
   "source": []
  }
 ],
 "metadata": {
  "kernelspec": {
   "display_name": "Python 3",
   "language": "python",
   "name": "python3"
  },
  "language_info": {
   "codemirror_mode": {
    "name": "ipython",
    "version": 3
   },
   "file_extension": ".py",
   "mimetype": "text/x-python",
   "name": "python",
   "nbconvert_exporter": "python",
   "pygments_lexer": "ipython3",
   "version": "3.8.3"
  }
 },
 "nbformat": 4,
 "nbformat_minor": 4
}
