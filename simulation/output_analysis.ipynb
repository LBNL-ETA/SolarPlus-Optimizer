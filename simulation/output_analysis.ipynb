{
 "cells": [
  {
   "cell_type": "markdown",
   "metadata": {},
   "source": [
    "## This note is to analyze the output results of MPCPy for the Solar+ project"
   ]
  },
  {
   "cell_type": "code",
   "execution_count": null,
   "metadata": {},
   "outputs": [],
   "source": [
    "import pandas as pd\n",
    "import numpy as np\n",
    "import os\n",
    "import matplotlib.pyplot as plt"
   ]
  },
  {
   "cell_type": "code",
   "execution_count": null,
   "metadata": {},
   "outputs": [],
   "source": [
    "filepath = \"./output\"\n",
    "opt_length = 24"
   ]
  },
  {
   "cell_type": "markdown",
   "metadata": {},
   "source": [
    "### Print optimization statistics"
   ]
  },
  {
   "cell_type": "code",
   "execution_count": null,
   "metadata": {},
   "outputs": [],
   "source": [
    "plt.rcParams.update({'font.size': 16})\n",
    "opt_stats = []\n",
    "for i in range(opt_length):\n",
    "    filename = 'optimal_statistics_'+str(i)+'.txt'\n",
    "    file = os.path.join(filepath,filename)\n",
    "    with open(file) as files:\n",
    "        lineList = files.readlines()\n",
    "    opt_stats.append(lineList[-1].split(', '))\n",
    "\n",
    "opt_stats = pd.DataFrame(opt_stats)\n",
    "columns = ['Datetime','iterative nb','cost function','runtime']\n",
    "opt_stats.columns = columns\n",
    "print(opt_stats['Datetime'].str.split(': ').str[1].str.split('(').str[1])\n",
    "\n",
    "opt_stats.index = opt_stats['Datetime'].str.split(': ').str[0]\n",
    "opt_stats['cost function'] = opt_stats['cost function'].astype(float)\n",
    "opt_stats['cost function'].plot()\n",
    "plt.legend();"
   ]
  },
  {
   "cell_type": "markdown",
   "metadata": {},
   "source": [
    "### Plot predicted control trajectory "
   ]
  },
  {
   "cell_type": "code",
   "execution_count": null,
   "metadata": {
    "scrolled": false
   },
   "outputs": [],
   "source": [
    "plt.rcParams[\"figure.figsize\"] = [16,4]\n",
    "plt.rcParams.update({'font.size': 16})\n",
    "emulation = pd.DataFrame()\n",
    "for i in range(opt_length):\n",
    "    filename = 'emu_measurements_'+str(i)+'.csv'\n",
    "    file = os.path.join(filepath,filename)\n",
    "    df = pd.read_csv(file,index_col='Time')\n",
    "    df.index = pd.to_datetime(df.index)\n",
    "    emulation = pd.concat([emulation,df])  \n",
    "\n",
    "plt.rcParams[\"figure.figsize\"] = [14,3]\n",
    "plt.rcParams.update({'font.size': 16})\n",
    "plt.figure(1)\n",
    "plt.plot(emulation.index,emulation['Trtu']-273.15)\n",
    "plt.title('RTU temperature [C]')\n",
    "plt.grid(linestyle='--')\n",
    "plt.figure(2)\n",
    "plt.plot(emulation.index,emulation['Grtu']/1000)\n",
    "plt.plot(emulation.index,emulation['Prtu']/1000)\n",
    "plt.title('Heating and cooling power [kW]')\n",
    "plt.grid(linestyle='--')\n",
    "plt.figure(3)\n",
    "plt.plot(emulation.index,emulation['Tref']-273.15)\n",
    "plt.title('Refrigerator temperature [C]')\n",
    "plt.grid(linestyle='--')\n",
    "plt.figure(4)\n",
    "plt.plot(emulation.index,emulation['Tfre']-273.15)\n",
    "plt.title('Freezer temperature [C]')\n",
    "plt.grid(linestyle='--')\n",
    "plt.figure(5)\n",
    "plt.plot(emulation.index,emulation['Prtu']/1000)\n",
    "plt.plot(emulation.index,emulation['Pref']/1000)\n",
    "plt.plot(emulation.index,emulation['Pfre']/1000)\n",
    "plt.legend()\n",
    "plt.title('Power demand [kW]')\n",
    "plt.grid(linestyle='--')\n",
    "plt.figure(6)\n",
    "plt.plot(emulation.index,emulation['SOC'])\n",
    "plt.title('Battery state of charge [-]')\n",
    "plt.grid(linestyle='--')\n",
    "plt.figure(7)\n",
    "plt.plot(emulation.index,emulation['Pbattery']/1000)\n",
    "plt.plot(emulation.index,emulation['Ppv']/1000)\n",
    "plt.legend()\n",
    "plt.title('PV and battery power [kW]')\n",
    "plt.grid(linestyle='--')\n",
    "plt.figure(8)\n",
    "plt.plot(emulation.index,emulation['Pnet'])\n",
    "plt.title('Net power demand [kW]')\n",
    "plt.grid(linestyle='--');"
   ]
  },
  {
   "cell_type": "code",
   "execution_count": null,
   "metadata": {
    "scrolled": false
   },
   "outputs": [],
   "source": [
    "plt.rcParams[\"figure.figsize\"] = [16,4]\n",
    "plt.rcParams.update({'font.size': 16})\n",
    "for i in range(opt_length):\n",
    "    filename = 'control_'+str(i)+'.csv'\n",
    "    file = os.path.join(filepath,filename)\n",
    "    control = pd.read_csv(file,index_col='Time')\n",
    "    control.index = pd.to_datetime(control.index)\n",
    "    control = control.resample('15T').mean()\n",
    "    plt.figure(1)\n",
    "    for column in control.columns:\n",
    "        if column == 'uBattery':\n",
    "            control[column].plot()\n",
    "            plt.title('Battery control trajectory [-]')\n",
    "            plt.grid(linestyle='--')\n",
    "    plt.figure(2)\n",
    "    for column in control.columns:\n",
    "        if column == 'uCool':\n",
    "            control[column].plot()\n",
    "            plt.title(column)\n",
    "            plt.grid(linestyle='--')\n",
    "    plt.figure(3)\n",
    "    for column in control.columns:\n",
    "        if column == 'uFreCool':\n",
    "            control[column].plot()\n",
    "            plt.title(column)\n",
    "            plt.grid(linestyle='--')\n",
    "    plt.figure(4)\n",
    "    for column in control.columns:\n",
    "        if column == 'uHeat':\n",
    "            control[column].plot()\n",
    "            plt.title(column)\n",
    "            plt.grid(linestyle='--')\n",
    "    plt.figure(5)\n",
    "    for column in control.columns:\n",
    "        if column == 'uFre':\n",
    "            control[column].plot()\n",
    "            plt.title(column)\n",
    "            plt.grid(linestyle='--');"
   ]
  },
  {
   "cell_type": "markdown",
   "metadata": {},
   "source": [
    "### Plot predicted setpoint"
   ]
  },
  {
   "cell_type": "code",
   "execution_count": null,
   "metadata": {},
   "outputs": [],
   "source": [
    "plt.rcParams[\"figure.figsize\"] = [16,4]\n",
    "plt.rcParams.update({'font.size': 16})\n",
    "for i in range(opt_length):\n",
    "    filename = 'measurements_'+str(i)+'.csv'\n",
    "    file = os.path.join(filepath,filename)\n",
    "    control = pd.read_csv(file,index_col='Time')\n",
    "    control.index = pd.to_datetime(control.index)\n",
    "    control = control.resample('15T').mean()\n",
    "    plt.figure(1)\n",
    "    for column in control.columns:\n",
    "        if column == 'SOC':\n",
    "            control[column].plot()\n",
    "            plt.title(column)\n",
    "            plt.grid(linestyle='--')\n",
    "    plt.figure(2)\n",
    "    for column in control.columns:\n",
    "        if column == 'Tfre':\n",
    "            plt.plot(control[column]-273.15)\n",
    "            plt.title(column)\n",
    "            plt.grid(linestyle='--')\n",
    "    plt.figure(3)\n",
    "    for column in control.columns:\n",
    "        if column == 'Tref':\n",
    "            plt.plot(control[column]-273.15)\n",
    "            plt.title(column)\n",
    "            plt.grid(linestyle='--')\n",
    "    plt.figure(4)\n",
    "    for column in control.columns:\n",
    "        if column == 'Trtu':\n",
    "            plt.plot(control[column]-273.15)\n",
    "            plt.title('RTU temperature [C]')\n",
    "            plt.grid(linestyle='--')"
   ]
  },
  {
   "cell_type": "markdown",
   "metadata": {},
   "source": [
    "### Plot emulation measurements"
   ]
  },
  {
   "cell_type": "markdown",
   "metadata": {},
   "source": [
    "### Plot other outputs"
   ]
  },
  {
   "cell_type": "code",
   "execution_count": null,
   "metadata": {
    "scrolled": false
   },
   "outputs": [],
   "source": [
    "plt.rcParams[\"figure.figsize\"] = [16,4]\n",
    "plt.rcParams.update({'font.size': 16})\n",
    "for i in range(opt_length):\n",
    "    filename = 'other_outputs_'+str(i)+'.csv'\n",
    "    file = os.path.join(filepath,filename)\n",
    "    control = pd.read_csv(file,index_col='Time')\n",
    "    control.index = pd.to_datetime(control.index)\n",
    "    control = control.resample('15T').mean()\n",
    "    plt.figure(1)\n",
    "    for column in control.columns:\n",
    "        if column == 'Pnet':\n",
    "            plt.plot(control[column]-273.15)\n",
    "            plt.title(column)\n",
    "            plt.grid(linestyle='--')\n",
    "    plt.figure(2)\n",
    "    for column in control.columns:\n",
    "        if column == 'Prtu':\n",
    "            control[column].plot()\n",
    "            plt.title('RTU cooling power [W]')\n",
    "            plt.grid(linestyle='--')\n",
    "    plt.figure(3)\n",
    "    for column in control.columns:\n",
    "        if column == 'Pbattery':\n",
    "            plt.plot(control[column])\n",
    "            plt.title(column + ' [W]')\n",
    "            plt.grid(linestyle='--')\n",
    "    plt.figure(4)\n",
    "    for column in control.columns:\n",
    "        if column == 'Pfre':\n",
    "            plt.plot(control[column])\n",
    "            plt.title(column + ' [W]')\n",
    "            plt.grid(linestyle='--')\n",
    "    plt.figure(5)\n",
    "    for column in control.columns:\n",
    "        if column == 'Pref':\n",
    "            plt.plot(control[column])\n",
    "            plt.title(column + ' [W]')\n",
    "            plt.grid(linestyle='--')\n",
    "    plt.figure(6)\n",
    "    for column in control.columns:\n",
    "        if column == 'Grtu':\n",
    "            control[column].plot()\n",
    "            plt.title('RTU heating power [W]')\n",
    "            plt.grid(linestyle='--')"
   ]
  },
  {
   "cell_type": "code",
   "execution_count": null,
   "metadata": {},
   "outputs": [],
   "source": []
  }
 ],
 "metadata": {
  "kernelspec": {
   "display_name": "Python 2",
   "language": "python",
   "name": "python2"
  },
  "language_info": {
   "codemirror_mode": {
    "name": "ipython",
    "version": 2
   },
   "file_extension": ".py",
   "mimetype": "text/x-python",
   "name": "python",
   "nbconvert_exporter": "python",
   "pygments_lexer": "ipython2",
   "version": "2.7.12"
  }
 },
 "nbformat": 4,
 "nbformat_minor": 2
}
